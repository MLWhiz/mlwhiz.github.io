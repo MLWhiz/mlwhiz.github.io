{
 "metadata": {
  "name": "",
  "signature": "sha256:a57a60debfe0ce460591b9d8e24f93453ec5778d3d0cabb37bfa7290d71adb74"
 },
 "nbformat": 3,
 "nbformat_minor": 0,
 "worksheets": [
  {
   "cells": [
    {
     "cell_type": "markdown",
     "metadata": {},
     "source": [
      "# Downloading CS109 Data Science Course Lectures using Python and RTMPDump"
     ]
    },
    {
     "cell_type": "markdown",
     "metadata": {},
     "source": [
      "Right Now I am working on CS109 from Harvard. \n",
      "It is a great course but its not easy to download, that is if you dont have this script. :)\n",
      "\n",
      "PS: You will have to install rtmpdump in your machine for this to work\n"
     ]
    },
    {
     "cell_type": "code",
     "collapsed": false,
     "input": [
      "import requests\n",
      "from pattern import web \n",
      "import subprocess\n"
     ],
     "language": "python",
     "metadata": {},
     "outputs": [],
     "prompt_number": 34
    },
    {
     "cell_type": "code",
     "collapsed": false,
     "input": [
      "firsturl=\"http://cm.dce.harvard.edu/2014/01/14328/publicationListing.shtml\"\n",
      "r=requests.get(firsturl).text\n"
     ],
     "language": "python",
     "metadata": {},
     "outputs": [],
     "prompt_number": 35
    },
    {
     "cell_type": "code",
     "collapsed": false,
     "input": [
      "dom=web.Element(r)"
     ],
     "language": "python",
     "metadata": {},
     "outputs": [],
     "prompt_number": 36
    },
    {
     "cell_type": "code",
     "collapsed": false,
     "input": [
      "dom"
     ],
     "language": "python",
     "metadata": {},
     "outputs": [
      {
       "metadata": {},
       "output_type": "pyout",
       "prompt_number": 37,
       "text": [
        "Element(tag=u'[document]')"
       ]
      }
     ],
     "prompt_number": 37
    },
    {
     "cell_type": "code",
     "collapsed": false,
     "input": [
      "#[elem.by_tag('li.list-type')[0].content for elem in dom.by_tag('ul.list-publication')]\n",
      "mdict={'NOV':'11','OCT':'10','SEP':'09','DEC':'12'}\n",
      "mon=[elem.content[:3] for elem in dom.by_tag(\"div.list-date  list-lecture\")]\n",
      "day=[elem.by_tag('span')[0].content for elem in dom.by_tag(\"div.list-date  list-lecture\")]\n",
      "datedict=zip( mon,day)\n"
     ],
     "language": "python",
     "metadata": {},
     "outputs": [],
     "prompt_number": 38
    },
    {
     "cell_type": "code",
     "collapsed": false,
     "input": [
      "mmdd_dict=[str(mdict[elem[0]])+ str(elem[1])for elem in datedict]"
     ],
     "language": "python",
     "metadata": {},
     "outputs": [],
     "prompt_number": 39
    },
    {
     "cell_type": "code",
     "collapsed": false,
     "input": [
      "dictlnames=['L23','L21','L22','L19','L20','L17','L18','L15','L16','L13','L14','L11','L12','L09','L10','L07','L08','L05','L06','L03','L04','L01','L02']\n",
      "fdict=zip(dictlnames,mmdd_dict)"
     ],
     "language": "python",
     "metadata": {},
     "outputs": [],
     "prompt_number": 40
    },
    {
     "cell_type": "code",
     "collapsed": false,
     "input": [
      "ffdict={}\n",
      "for elem in fdict:\n",
      "    lec_num,mmdd=elem\n",
      "    lec_num=lec_num.replace(\"L\",\"\")\n",
      "    url=\"rtmpdump -r rtmp://flash.dce.harvard.edu/bounce -C B:0 -C Z: -C S:/2014/01/14328/L\"+str(lec_num)+\"/14328-2013\"+mmdd+\"-L\"+str(lec_num)+\"-1-h264-av1248-16x9-852x480.mp4 -C S:BounceAPI3.0 -C N:0.000000 -C S:mp4  -y mp4:2014/01/14328/L\"+str(lec_num)+\"/14328-2013\"+mmdd+\"-L\"+str(lec_num)+\"-1-h264-av1248-16x9-852x480.mp4  -o lecture\"+str(lec_num)+\".mp4\"\n",
      "    if int(lec_num)>12:\n",
      "        ffdict[int(lec_num)] = url"
     ],
     "language": "python",
     "metadata": {},
     "outputs": [],
     "prompt_number": 41
    },
    {
     "cell_type": "markdown",
     "metadata": {},
     "source": [
      "You should change range in the code below, if some of the lectures were downloaded and you dont want to script it all over again. I am downloading lectures from 13 to 23 as i have already downloaded the previous ones.\n",
      "The lectures are roughly 1 GB in length and if your internet connection is slow you might face a problem with break downloads.\n"
     ]
    },
    {
     "cell_type": "code",
     "collapsed": false,
     "input": [
      "for i in range(15,17):\n",
      "    url=ffdict[i]\n",
      "    print subprocess.Popen(url, shell=True, stdout=subprocess.PIPE).stdout.read()"
     ],
     "language": "python",
     "metadata": {},
     "outputs": []
    },
    {
     "cell_type": "markdown",
     "metadata": {},
     "source": [
      "Lets do it for labs:\n"
     ]
    },
    {
     "cell_type": "code",
     "collapsed": false,
     "input": [
      "#[elem.by_tag('li.list-type')[0].content for elem in dom.by_tag('ul.list-publication')]\n",
      "\n",
      "mdict={'NOV':'11','OCT':'10','SEP':'09','DEC':'12'}\n",
      "mon=[elem.content[:3] for elem in dom.by_tag(\"div.list-date  list-section\")]\n",
      "day=[elem.by_tag('span')[0].content for elem in dom.by_tag(\"div.list-date  list-section\")]\n",
      "datedict=zip( mon,day)\n",
      "#print datedict\n",
      "mmdd_dict=[str(mdict[elem[0]])+ str(elem[1])for elem in datedict]\n",
      "#print mmdd_dict\n",
      "dictlnames=['S10','S09','S08','S06','S05','S04','S03','S02','S01']\n",
      "fdict=zip(dictlnames,mmdd_dict)\n",
      "#print fdict"
     ],
     "language": "python",
     "metadata": {},
     "outputs": [],
     "prompt_number": 31
    },
    {
     "cell_type": "code",
     "collapsed": false,
     "input": [
      "ffdict={}\n",
      "for elem in fdict:\n",
      "    lec_num,mmdd=elem\n",
      "    #lec_num=lec_num.replace(\"S\",\"\")\n",
      "    url=\"rtmpdump -r rtmp://flash.dce.harvard.edu/bounce -C B:0 -C Z: -C S:/2014/01/14328/\"+lec_num+\"/14328-2013\"+mmdd+\"-\"+lec_num+\"-1-h264-av1248-16x9-852x480.mp4 -C S:BounceAPI3.0 -C N:0.000000 -C S:mp4  -y mp4:2014/01/14328/\"+lec_num+\"/14328-2013\"+mmdd+\"-\"+lec_num+\"-1-h264-av1248-16x9-852x480.mp4  -o lab\"+lec_num+\".mp4\"\n",
      "    lec_num=lec_num.replace(\"S\",\"\")\n",
      "    ffdict[int(lec_num)] = url\n",
      "#print ffdict"
     ],
     "language": "python",
     "metadata": {},
     "outputs": [],
     "prompt_number": 32
    },
    {
     "cell_type": "code",
     "collapsed": false,
     "input": [
      "for i in range(8,11):\n",
      "    url=ffdict[i]\n",
      "    try:\n",
      "        print subprocess.Popen(url, shell=True, stdout=subprocess.PIPE).stdout.read()\n",
      "    except:\n",
      "        pass"
     ],
     "language": "python",
     "metadata": {},
     "outputs": [
      {
       "output_type": "stream",
       "stream": "stdout",
       "text": [
        "\n"
       ]
      },
      {
       "output_type": "stream",
       "stream": "stdout",
       "text": [
        "\n"
       ]
      },
      {
       "output_type": "stream",
       "stream": "stdout",
       "text": [
        "\n"
       ]
      }
     ],
     "prompt_number": 33
    },
    {
     "cell_type": "markdown",
     "metadata": {},
     "source": [
      "The results of the downloads are displayed in the terminal window where you have opened the ipython notebook"
     ]
    }
   ],
   "metadata": {}
  }
 ]
}