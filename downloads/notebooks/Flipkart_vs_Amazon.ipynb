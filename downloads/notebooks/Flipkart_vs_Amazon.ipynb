{
 "metadata": {
  "name": "",
  "signature": "sha256:fca846f0d4bc6bca4d3b5260d9e23f5d3daad647fc68f6e411c6d87cd24e108b"
 },
 "nbformat": 3,
 "nbformat_minor": 0,
 "worksheets": [
  {
   "cells": [
    {
     "cell_type": "code",
     "collapsed": false,
     "input": [
      "from pattern import web\n",
      "import requests"
     ],
     "language": "python",
     "metadata": {},
     "outputs": [],
     "prompt_number": 2
    },
    {
     "cell_type": "code",
     "collapsed": false,
     "input": [
      "url = \"http://www.pricetree.com/mobile_87-price-rs-30000-to-rs-50000\""
     ],
     "language": "python",
     "metadata": {},
     "outputs": [],
     "prompt_number": 3
    },
    {
     "cell_type": "code",
     "collapsed": false,
     "input": [
      "r = requests.get(url).text"
     ],
     "language": "python",
     "metadata": {},
     "outputs": [],
     "prompt_number": 16
    },
    {
     "cell_type": "code",
     "collapsed": false,
     "input": [
      "dom=web.Element(r)\n",
      "\n"
     ],
     "language": "python",
     "metadata": {},
     "outputs": [],
     "prompt_number": 28
    },
    {
     "cell_type": "code",
     "collapsed": false,
     "input": [
      "for elem in dom.by_tag(\"div.items-list\"):\n",
      "    page_urls=[x.attributes[\"href\"] for x in elem.by_tag(\"a\")]\n",
      "print page_urls"
     ],
     "language": "python",
     "metadata": {},
     "outputs": [
      {
       "output_type": "stream",
       "stream": "stdout",
       "text": [
        "[u'http://www.pricetree.com/mobile/sony-xperia-z2-price-81364', u'http://www.pricetree.com/mobile/nokia-lumia-1520-price-80573', u'http://www.pricetree.com/mobile/apple-iphone-5c-32gb-price-111880', u'http://www.pricetree.com/mobile/samsung-galaxy-note-3-price-10759', u'http://www.pricetree.com/mobile/apple-iphone-5s-32gb-price-111575', u'http://www.pricetree.com/mobile/lg-g3-32gb-price-111649', u'http://www.pricetree.com/mobile/htc-one-e8-price-81874', u'http://www.pricetree.com/mobile/apple-iphone-5-64gb-price-111677', u'http://www.pricetree.com/mobile/samsung-galaxy-s5-4g-price-111696', u'http://www.pricetree.com/mobile/samsung-galaxy-golden-i9230-price-80912', u'http://www.pricetree.com/mobile/oppo-find-7a-price-81514', u'http://www.pricetree.com/mobile/samsung-galaxy-note-3-lte-price-111674', u'http://www.pricetree.com/mobile/lg-gd910-price-7295', u'http://www.pricetree.com/mobile/samsung-i8910-omnia-hd-price-11336', u'http://www.pricetree.com/mobile/thl-t100s-price-112411', u'http://www.pricetree.com/mobile/zopo-zp990-captain-s-price-112526']\n"
       ]
      }
     ],
     "prompt_number": 42
    },
    {
     "cell_type": "code",
     "collapsed": false,
     "input": [
      "for elem in page_urls:\n",
      "    dom2=web.Element(requests.get(elem).text)\n",
      "    flip_price = dom2.by_tag(\"tr.32\")[0].by_tag(\"small.smooth-p-style\")[0].content\n",
      "    amazon_price = dom2.by_tag(\"tr.153\")[0].by_tag(\"small.smooth-p-style\")[0].content\n",
      "    #dom2.by_tag(\"tr.32\")[0].by_tag(\"span.price-style fg-color-red\")[0].content\n",
      "    print flip_price,amazon_price"
     ],
     "language": "python",
     "metadata": {},
     "outputs": [],
     "prompt_number": 43
    },
    {
     "cell_type": "code",
     "collapsed": false,
     "input": [
      "dom2\n",
      "#153 amazon\n",
      "#32 flip"
     ],
     "language": "python",
     "metadata": {},
     "outputs": [
      {
       "metadata": {},
       "output_type": "pyout",
       "prompt_number": 44,
       "text": [
        "Element(tag=u'[document]')"
       ]
      }
     ],
     "prompt_number": 44
    },
    {
     "cell_type": "code",
     "collapsed": false,
     "input": [
      "flip_price = dom2.by_tag(\"tr.32\")[0].by_tag(\"small.smooth-p-style\")[0].content\n",
      "amazon_price = dom2.by_tag(\"tr.153\")[0].by_tag(\"small.smooth-p-style\")[0].content\n",
      "product_flip = dom2.by_tag(\"tr.32\")[0].by_tag(\"p\")[0].content\n",
      "product_amazon = dom2.by_tag(\"tr.153\")[0].by_tag(\"p\")[0].content\n",
      "\n"
     ],
     "language": "python",
     "metadata": {},
     "outputs": [
      {
       "metadata": {},
       "output_type": "pyout",
       "prompt_number": 67,
       "text": [
        "u'Sony Xperia Z2 (Black)'"
       ]
      }
     ],
     "prompt_number": 67
    },
    {
     "cell_type": "code",
     "collapsed": false,
     "input": [
      "# Take an upper level page URL and Returns a list of urls on it.\n",
      "def get_page_urls(url):\n",
      "    r = requests.get(url).text\n",
      "    dom=web.Element(r)\n",
      "    for elem in dom.by_tag(\"div.items-list\"):\n",
      "        page_urls=[x.attributes[\"href\"] for x in elem.by_tag(\"a\")]\n",
      "    return page_urls"
     ],
     "language": "python",
     "metadata": {},
     "outputs": [],
     "prompt_number": 68
    },
    {
     "cell_type": "code",
     "collapsed": false,
     "input": [
      "# Take an page URL and scraps prices from amazon and flipkart\n",
      "def get_product_price(url):\n",
      "    dom2=web.Element(requests.get(url).text)\n",
      "    flip_price = dom2.by_tag(\"tr.32\")[0].by_tag(\"small.smooth-p-style\")[0].content\n",
      "    amazon_price = dom2.by_tag(\"tr.153\")[0].by_tag(\"small.smooth-p-style\")[0].content\n",
      "    product_flip = dom2.by_tag(\"tr.32\")[0].by_tag(\"p\")[0].content\n",
      "    product_amazon = dom2.by_tag(\"tr.153\")[0].by_tag(\"p\")[0].content\n",
      "    return flip_price,amazon_price, product_flip,product_amazon"
     ],
     "language": "python",
     "metadata": {},
     "outputs": [],
     "prompt_number": 69
    },
    {
     "cell_type": "code",
     "collapsed": false,
     "input": [
      "'''\n",
      "url = \"http://www.pricetree.com/mobile_87\"\n",
      "\n",
      "adds = [\"-price-rs-0-to-rs-5000\", \"-price-rs-5000-to-rs-10000\" ,\"-price-rs-10000-to-rs-15000\",\"-price-rs-15000-to-rs-20000\",\"-price-rs-20000-to-rs-30000\",\"-price-rs-30000-to-rs-50000\"]\n",
      "filename=\"data_price_mobiles.txt\"\n",
      "'''\n",
      "filename=\"data_price_mobiles2.txt\"\n",
      "j=open(filename,\"wb\")\n",
      "url=\"http://www.pricetree.com/mobile/87?p=\"\n",
      "for i in range(1,30):\n",
      "    newurl=url+str(i)\n",
      "    url_list=get_page_urls(newurl)\n",
      "    for x in url_list:\n",
      "        try:\n",
      "            flip_price,amazon_price, product_flip,product_amazon = get_product_price(x)\n",
      "            j.write(flip_price+\"|\"+amazon_price+\"|\"+product_flip+\"|\"+product_amazon+\"\\n\")\n",
      "            print flip_price+\"|\"+amazon_price+\"|\"+product_flip+\"|\"+product_amazon\n",
      "        except:\n",
      "            pass\n",
      "        \n",
      "        "
     ],
     "language": "python",
     "metadata": {},
     "outputs": [
      {
       "output_type": "stream",
       "stream": "stdout",
       "text": [
        " Rs. 5,499 + FREE Shipping | Rs. 5,799 + FREE Shipping |Nokia X (Black)|Nokia X (Dual SIM, White)\n",
        " Rs. 8,629 + FREE Shipping | Rs. 8,199 + FREE Shipping |Nokia XL (Black)|Nokia XL (Black, Dual SIM)"
       ]
      },
      {
       "output_type": "stream",
       "stream": "stdout",
       "text": [
        "\n",
        " Rs. 35,489 + FREE Shipping | Rs. 37,140 + FREE Shipping |Samsung Galaxy S5 (Copper Gold)|Samsung Galaxy S5 (Charcoal Black)"
       ]
      },
      {
       "output_type": "stream",
       "stream": "stdout",
       "text": [
        "\n",
        " Rs. 7,729 + FREE Shipping | Rs. 9,698 + FREE Shipping |Samsung Galaxy S Duos 2 S7582 (Black)|Samsung Galaxy S Duos 2 GT-S7582 (Pure White)"
       ]
      },
      {
       "output_type": "stream",
       "stream": "stdout",
       "text": [
        "\n",
        " Rs. 1,906 + FREE Shipping | Rs. 1,927 + FREE Shipping |Nokia 108 (White)|Nokia 108 (Dual SIM, White)"
       ]
      },
      {
       "output_type": "stream",
       "stream": "stdout",
       "text": [
        "\n",
        " Rs. 1,906 + FREE Shipping | Rs. 1,927 + FREE Shipping |Nokia 108 (White)|Nokia 108 (Dual SIM, Black)"
       ]
      },
      {
       "output_type": "stream",
       "stream": "stdout",
       "text": [
        "\n",
        " Rs. 17,922 + FREE Shipping | Rs. 18,185 + FREE Shipping |Samsung Galaxy Grand 2 (White)|Samsung Galaxy Grand 2 (Black)"
       ]
      },
      {
       "output_type": "stream",
       "stream": "stdout",
       "text": [
        "\n",
        " Rs. 9,020 + FREE Shipping | Rs. 8,979 + FREE Shipping |Nokia Lumia 630 Single SIM (White)|Nokia Lumia 630 (Single SIM, White)"
       ]
      },
      {
       "output_type": "stream",
       "stream": "stdout",
       "text": [
        "\n",
        " Rs. 9,450 + FREE Shipping | Rs. 9,590 + FREE Shipping |Nokia Lumia 630 Dual Sim (Black)|Nokia Lumia 630 (Black, Dual SIM)"
       ]
      },
      {
       "output_type": "stream",
       "stream": "stdout",
       "text": [
        "\n",
        " Rs. 6,499 + FREE Shipping | Rs. 6,755 + FREE Shipping |Micromax Unite 2 A106 with 8 GB ROM (White, with 8 GB ROM)|Micromax Unite 2 A106 (Green, 8GB)"
       ]
      },
      {
       "output_type": "stream",
       "stream": "stdout",
       "text": [
        "\n",
        " Rs. 13,300 + FREE Shipping | Rs. 12,999 + FREE Shipping |Nokia Lumia 625 (Black)|Nokia Lumia 625 (White)"
       ]
      },
      {
       "output_type": "stream",
       "stream": "stdout",
       "text": [
        "\n",
        " Rs. 2,599 + FREE Shipping | Rs. 2,890 + FREE Shipping |Nokia 220 (Red)|Nokia 220 (Dual SIM, Yellow)"
       ]
      },
      {
       "output_type": "stream",
       "stream": "stdout",
       "text": [
        "\n",
        " Rs. 7,212 + FREE Shipping | Rs. 6,637 + FREE Shipping |Micromax Canvas Doodle 3 A102 with 1 GB RAM (White)|Micromax Canvas Doodle 3 A102 (White, 1GB RAM)"
       ]
      },
      {
       "output_type": "stream",
       "stream": "stdout",
       "text": [
        "\n",
        " Rs. 9,788 + FREE Shipping | Rs. 9,995 + FREE Shipping |Sony Xperia M (White)|Sony Xperia M (Single SIM, White)"
       ]
      },
      {
       "output_type": "stream",
       "stream": "stdout",
       "text": [
        "\n",
        " Rs. 39,990 + FREE Shipping | Rs. 38,415 + FREE Shipping |Sony Xperia Z2 (Black)|Sony Xperia Z2 (Purple)"
       ]
      },
      {
       "output_type": "stream",
       "stream": "stdout",
       "text": [
        "\n",
        " Rs. 34,999 + FREE Shipping | Rs. 29,000 + FREE Shipping |Apple iPhone 5C (Green, with 16 GB)|Apple iPhone 5c (Yellow, 16GB)"
       ]
      },
      {
       "output_type": "stream",
       "stream": "stdout",
       "text": [
        "\n",
        " Rs. 3,832 + FREE Shipping | Rs. 3,832 + FREE Shipping |Nokia Asha 501 (White)|Nokia Asha 501 (Dual SIM, Cyan)"
       ]
      },
      {
       "output_type": "stream",
       "stream": "stdout",
       "text": [
        "\n",
        " Rs. 6,999 + FREE Shipping | Rs. 8,999 + FREE Shipping |Nokia Lumia 520 (Red)|Nokia Lumia 520 (Black)"
       ]
      },
      {
       "output_type": "stream",
       "stream": "stdout",
       "text": [
        "\n",
        " Rs. 23,839 + FREE Shipping | Rs. 25,990 + FREE Shipping |Apple iPhone 5C (8 GB) (Blue, with 8 GB)|Apple iPhone 5c (Blue, 8GB)"
       ]
      },
      {
       "output_type": "stream",
       "stream": "stdout",
       "text": [
        "\n",
        " Rs. 4,710 + FREE Shipping | Rs. 4,808 + FREE Shipping |Nokia Asha 502 (Black)|Nokia Asha 502 (Dual SIM, Red)"
       ]
      },
      {
       "output_type": "stream",
       "stream": "stdout",
       "text": [
        "\n",
        " Rs. 8,249 + FREE Shipping | Rs. 8,115 + FREE Shipping |Micromax Canvas 2 Colors A120 with 8 GB ROM (White)|Micromax Canvas 2 Colours A120 (Grey)"
       ]
      },
      {
       "output_type": "stream",
       "stream": "stdout",
       "text": [
        "\n",
        " Rs. 14,564 + FREE Shipping | Rs. 14,700 + FREE Shipping |Samsung Galaxy Grand Neo GT-I9060 (Midnight Black)|Samsung Galaxy Grand Neo (White)"
       ]
      },
      {
       "output_type": "stream",
       "stream": "stdout",
       "text": [
        "\n",
        " Rs. 3,621 + FREE Shipping | Rs. 3,680 + FREE Shipping |Nokia 206 (Black, with Dual SIM)|Nokia 206 (Cyan)"
       ]
      },
      {
       "output_type": "stream",
       "stream": "stdout",
       "text": [
        "\n",
        " Rs. 36,900 + FREE Shipping | Rs. 36,395 + FREE Shipping |Apple iPhone 5S (Gold, with 16 GB)|Apple iPhone 5s (Space Grey, 16GB)"
       ]
      },
      {
       "output_type": "stream",
       "stream": "stdout",
       "text": [
        "\n",
        " Rs. 3,832 + FREE Shipping | Rs. 3,832 + FREE Shipping |Nokia Asha 501 (Yellow)|Nokia Asha 501 (Dual SIM, White)"
       ]
      },
      {
       "output_type": "stream",
       "stream": "stdout",
       "text": [
        "\n",
        " Rs. 18,100 + FREE Shipping | Rs. 17,549 + FREE Shipping |Micromax Canvas Knight A350 (Black)|Micromax Canvas Knight A350 (Black)"
       ]
      },
      {
       "output_type": "stream",
       "stream": "stdout",
       "text": [
        "\n",
        " Rs. 35,688 + FREE Shipping | Rs. 35,990 + FREE Shipping |Nokia Lumia 1520 (Black)|Nokia Lumia 1520 (White)"
       ]
      },
      {
       "output_type": "stream",
       "stream": "stdout",
       "text": [
        "\n",
        " Rs. 5,470 + FREE Shipping | Rs. 5,490 + FREE Shipping |Samsung Galaxy Star Pro S7262 (Midnight Black)|Samsung Galaxy Star Pro GT-S7262 (White)"
       ]
      },
      {
       "output_type": "stream",
       "stream": "stdout",
       "text": [
        "\n",
        " Rs. 3,544 + FREE Shipping | Rs. 3,571 + FREE Shipping |Nokia Asha 500 (Yellow)|Nokia Mobile Asha 500 White"
       ]
      },
      {
       "output_type": "stream",
       "stream": "stdout",
       "text": [
        "\n",
        " Rs. 6,900 + FREE Shipping | Rs. 7,000 + FREE Shipping |Samsung Galaxy Trend S7392 (Ceramic White)|Samsung Galaxy Trend (Dual SIM, Midnight Black)"
       ]
      },
      {
       "output_type": "stream",
       "stream": "stdout",
       "text": [
        "\n",
        " Rs. 5,356 + FREE Shipping | Rs. 5,200 + FREE Shipping |Micromax A069 (Grey)|Micromax Bolt A069 (Grey)"
       ]
      },
      {
       "output_type": "stream",
       "stream": "stdout",
       "text": [
        "\n",
        " Rs. 8,050 + FREE Shipping | Rs. 8,498 + FREE Shipping |Nokia X2-Dual Sim (Bright Orange)|Nokia X2 (Dual SIM, Green)"
       ]
      },
      {
       "output_type": "stream",
       "stream": "stdout",
       "text": [
        "\n",
        " Rs. 1,190 + FREE Shipping | Rs. 1,198 + FREE Shipping |Nokia 105 (Cyan)|Nokia 105 (Cyan)"
       ]
      },
      {
       "output_type": "stream",
       "stream": "stdout",
       "text": [
        "\n",
        " Rs. 28,290 + FREE Shipping | Rs. 28,795 + FREE Shipping |Samsung Galaxy S4 I9500 (Black Mist)|Samsung Galaxy S4 GT-I9500 (Mist Black)"
       ]
      },
      {
       "output_type": "stream",
       "stream": "stdout",
       "text": [
        "\n",
        " Rs. 6,352 + FREE Shipping | Rs. 6,390 + FREE Shipping |HTC Desire 210 Dual Sim D210h (White)|HTC Desire 210 (Black)"
       ]
      },
      {
       "output_type": "stream",
       "stream": "stdout",
       "text": [
        "\n",
        " Rs. 3,149 + FREE Shipping | Rs. 3,499 + FREE Shipping |Nokia 225 (Bright Red)|Nokia 225 (Dual SIM, White)"
       ]
      },
      {
       "output_type": "stream",
       "stream": "stdout",
       "text": [
        "\n",
        " Rs. 3,849 + FREE Shipping | Rs. 4,999 + FREE Shipping |Nokia 208DS (Red, with Dual Sim)|Nokia 208 (Red)"
       ]
      },
      {
       "output_type": "stream",
       "stream": "stdout",
       "text": [
        "\n",
        " Rs. 22,299 + FREE Shipping | Rs. 21,280 + FREE Shipping |HTC Desire 816 (Dark Grey)|HTC Desire 816 (White)"
       ]
      },
      {
       "output_type": "stream",
       "stream": "stdout",
       "text": [
        "\n",
        " Rs. 20,600 + FREE Shipping | Rs. 20,698 + FREE Shipping |Gionee Elife S5.5 (Black)|Gionee Elife S5.5 (Black)"
       ]
      },
      {
       "output_type": "stream",
       "stream": "stdout",
       "text": [
        "\n",
        " Rs. 1,179 + FREE Shipping | Rs. 1,258 + FREE Shipping |Samsung Guru 1200 (Indigo Blue)|Samsung Guru GT-E1200 (Indigo Blue)"
       ]
      },
      {
       "output_type": "stream",
       "stream": "stdout",
       "text": [
        "\n",
        " Rs. 8,098 + FREE Shipping | Rs. 8,090 + FREE Shipping |Micromax Canvas 2.2 A114 (Black)|Micromax Canvas 2.2 A114 (Black)"
       ]
      },
      {
       "output_type": "stream",
       "stream": "stdout",
       "text": [
        "\n",
        " Rs. 3,849 + FREE Shipping | Rs. 4,999 + FREE Shipping |Nokia 208DS (Red, with Dual Sim)|Nokia 208 (Red)"
       ]
      },
      {
       "output_type": "stream",
       "stream": "stdout",
       "text": [
        "\n",
        " Rs. 6,000 + FREE Shipping | Rs. 6,389 + FREE Shipping |Nokia Lumia 530 Dual Sim (Dark Grey)|Nokia Lumia 530 (Dual SIM, Grey)"
       ]
      },
      {
       "output_type": "stream",
       "stream": "stdout",
       "text": [
        "\n",
        " Rs. 3,161 + FREE Shipping | Rs. 3,499 + FREE Shipping |Nokia 225 (Black)|Nokia 225 (Dual SIM, White)"
       ]
      },
      {
       "output_type": "stream",
       "stream": "stdout",
       "text": [
        "\n",
        " Rs. 5,252 + FREE Shipping | Rs. 5,325 + FREE Shipping |Micromax Unite A092 (Yellow)|Micromax Unite A092 (RED)"
       ]
      },
      {
       "output_type": "stream",
       "stream": "stdout",
       "text": [
        "\n",
        " Rs. 14,999 + FREE Shipping | Rs. 15,389 + FREE Shipping |Sony Xperia C (Black)|Sony Xperia C (White)"
       ]
      },
      {
       "output_type": "stream",
       "stream": "stdout",
       "text": [
        "\n",
        " Rs. 17,488 + FREE Shipping | Rs. 16,992 + FREE Shipping |Nokia Lumia 1320 (White)|Nokia Lumia 1320 (White)"
       ]
      },
      {
       "output_type": "stream",
       "stream": "stdout",
       "text": [
        "\n",
        " Rs. 5,049 + FREE Shipping | Rs. 4,999 + FREE Shipping |XOLO A600 (White)|Xolo A600 (White)"
       ]
      },
      {
       "output_type": "stream",
       "stream": "stdout",
       "text": [
        "\n",
        " Rs. 6,650 + FREE Shipping | Rs. 6,549 + FREE Shipping |Sony Xperia E1 Dual (Black)|Sony Xperia E1 (Dual SIM, White)"
       ]
      },
      {
       "output_type": "stream",
       "stream": "stdout",
       "text": [
        "\n",
        " Rs. 11,968 + FREE Shipping | Rs. 11,600 + FREE Shipping |Samsung I8552 - Galaxy Grand Quattro (Ceramic White)|Samsung Galaxy Grand Quattro GT-I8552 (Titan Grey)"
       ]
      },
      {
       "output_type": "stream",
       "stream": "stdout",
       "text": [
        "\n",
        " Rs. 13,320 + FREE Shipping | Rs. 12,000 + FREE Shipping |Gionee Elife E3 (Black)|Gionee Elife E3 (Red)"
       ]
      },
      {
       "output_type": "stream",
       "stream": "stdout",
       "text": [
        "\n",
        " Rs. 9,949 + FREE Shipping | Rs. 10,156 + FREE Shipping |Gionee M2 (Black)|Gionee M2 (Black, 8GB)"
       ]
      },
      {
       "output_type": "stream",
       "stream": "stdout",
       "text": [
        "\n",
        " Rs. 8,610 + FREE Shipping | Rs. 9,290 + FREE Shipping |Gionee Pioneer P4 (White)|Gionee Pioneer P4 (White)"
       ]
      },
      {
       "output_type": "stream",
       "stream": "stdout",
       "text": [
        "\n",
        " Rs. 24,699 + FREE Shipping | Rs. 23,948 + FREE Shipping |Sony Xperia T3 (Black)|Sony Xperia T3 (Black)"
       ]
      },
      {
       "output_type": "stream",
       "stream": "stdout",
       "text": [
        "\n",
        " Rs. 19,065 + FREE Shipping | Rs. 21,670 + FREE Shipping |Samsung Galaxy S3 Neo GT-I9300I (Marble White)|Samsung I9300i Galaxy S3 Neo(Marble White)"
       ]
      },
      {
       "output_type": "stream",
       "stream": "stdout",
       "text": [
        "\n",
        " Rs. 11,060 + FREE Shipping | Rs. 11,100 + FREE Shipping |Micromax Canvas Knight Cameo A290 (White &amp; Gold)|Micromax Canvas Knight Cameo A290 (Black)"
       ]
      },
      {
       "output_type": "stream",
       "stream": "stdout",
       "text": [
        "\n",
        " Rs. 12,329 + FREE Shipping | Rs. 12,275 + FREE Shipping |HTC Desire 516 (Pearl White)|HTC Desire 516 (Dual SIM, Pearl White)"
       ]
      },
      {
       "output_type": "stream",
       "stream": "stdout",
       "text": [
        "\n",
        " Rs. 3,275 + FREE Shipping | Rs. 3,370 + FREE Shipping |Nokia Asha 230 (White)|Nokia Asha 230 (Red)"
       ]
      },
      {
       "output_type": "stream",
       "stream": "stdout",
       "text": [
        "\n",
        " Rs. 23,850 + FREE Shipping | Rs. 23,900 + FREE Shipping |Samsung Galaxy Note 3 Neo (White)|Samsung Galaxy Note 3 NEO N750 White"
       ]
      },
      {
       "output_type": "stream",
       "stream": "stdout",
       "text": [
        "\n",
        " Rs. 8,820 + FREE Shipping | Rs. 8,394 + FREE Shipping |Nokia Lumia 525 (Yellow)|Nokia Lumia 525 (Black)"
       ]
      },
      {
       "output_type": "stream",
       "stream": "stdout",
       "text": [
        "\n",
        " Rs. 39,385 + FREE Shipping | Rs. 39,500 + FREE Shipping |Samsung Galaxy Note 3 N9000 (Classic White)|Samsung Galaxy Note 3 SM-N9000 (Jet Black)"
       ]
      },
      {
       "output_type": "stream",
       "stream": "stdout",
       "text": [
        "\n",
        " Rs. 3,949 + FREE Shipping | Rs. 5,290 + FREE Shipping |Nokia Asha 305 (Red)|Nokia Asha 305 (Dark Grey)"
       ]
      },
      {
       "output_type": "stream",
       "stream": "stdout",
       "text": [
        "\n",
        " Rs. 27,630 + FREE Shipping | Rs. 25,299 + FREE Shipping |Google Nexus 5 (White, with 16 GB)|Google Nexus 5 16 GB Factory UNLOCKED GSM Android 4.4 Smartphone LG-D820 Black"
       ]
      },
      {
       "output_type": "stream",
       "stream": "stdout",
       "text": [
        "\n",
        " Rs. 13,861 + FREE Shipping | Rs. 15,999 + FREE Shipping |Nokia Lumia 620 (Yellow)|Nokia Lumia 620 (White)"
       ]
      },
      {
       "output_type": "stream",
       "stream": "stdout",
       "text": [
        "\n",
        " Rs. 4,249 + FREE Shipping | Rs. 3,990 + FREE Shipping |Samsung Galaxy Star S5282 (Ceramic White)|Samsung Galaxy Star GT-S5282 (Noble Black)"
       ]
      },
      {
       "output_type": "stream",
       "stream": "stdout",
       "text": [
        "\n",
        " Rs. 12,535 + FREE Shipping | Rs. 14,180 + FREE Shipping |Samsung Galaxy Core I8262 (Chic White)|Samsung Galaxy Core GT-I8262 (Chic White)"
       ]
      },
      {
       "output_type": "stream",
       "stream": "stdout",
       "text": [
        "\n",
        " Rs. 12,535 + FREE Shipping | Rs. 14,180 + FREE Shipping |Samsung Galaxy Core I8262 (Chic White)|Samsung Galaxy Core GT-I8262 (Chic White)"
       ]
      },
      {
       "output_type": "stream",
       "stream": "stdout",
       "text": [
        "\n",
        " Rs. 21,999 + FREE Shipping | Rs. 20,267 + FREE Shipping |BlackBerry Q10 (Black)|BlackBerry Q10 (Black)"
       ]
      },
      {
       "output_type": "stream",
       "stream": "stdout",
       "text": [
        "\n",
        " Rs. 5,316 + FREE Shipping | Rs. 4,999 + FREE Shipping |XOLO A500S IPS (Red)|Xolo A500s IPS (White)"
       ]
      },
      {
       "output_type": "stream",
       "stream": "stdout",
       "text": [
        "\n",
        " Rs. 5,990 + FREE Shipping | Rs. 5,690 + FREE Shipping |Sony Xperia E1 (Black)|Sony Xperia E1 (Single SIM, White)"
       ]
      },
      {
       "output_type": "stream",
       "stream": "stdout",
       "text": [
        "\n",
        " Rs. 22,964 + FREE Shipping | Rs. 22,750 + FREE Shipping |Sony Xperia T2 Ultra (White)|Sony Xperia T2 Ultra (Dual SIM, Black)"
       ]
      },
      {
       "output_type": "stream",
       "stream": "stdout",
       "text": [
        "\n",
        " Rs. 8,889 + FREE Shipping | Rs. 9,745 + FREE Shipping |Micromax Canvas Turbo Mini A200 (Black)|Micromax Canvas Turbo Mini A200 (Blue)"
       ]
      },
      {
       "output_type": "stream",
       "stream": "stdout",
       "text": [
        "\n",
        " Rs. 5,003 + FREE Shipping | Rs. 4,829 + FREE Shipping |Karbonn Titanium S1 Plus (Black)|Karbonn Titanium S1 Plus (White)"
       ]
      },
      {
       "output_type": "stream",
       "stream": "stdout",
       "text": [
        "\n",
        " Rs. 11,299 + FREE Shipping | Rs. 11,350 + FREE Shipping |Sony Xperia M Dual (Purple)|Sony Xperia M (Dual SIM, Black)"
       ]
      },
      {
       "output_type": "stream",
       "stream": "stdout",
       "text": [
        "\n",
        " Rs. 11,200 + FREE Shipping | Rs. 9,898 + FREE Shipping |Samsung Galaxy Core 2 SM-G355H (White)|Samsung Galaxy Core 2 (Black)"
       ]
      },
      {
       "output_type": "stream",
       "stream": "stdout",
       "text": [
        "\n",
        " Rs. 41,700 + FREE Shipping | Rs. 38,999 + FREE Shipping |HTC One M8 (Amber Gold)|HTC One M8 (Gunmetal Grey)"
       ]
      },
      {
       "output_type": "stream",
       "stream": "stdout",
       "text": [
        "\n",
        " Rs. 9,990 + FREE Shipping | Rs. 11,398 + FREE Shipping |Karbonn Titanium Octane (Black)|Karbonn Titanium Octane (Black)"
       ]
      },
      {
       "output_type": "stream",
       "stream": "stdout",
       "text": [
        "\n",
        " Rs. 5,489 + FREE Shipping | Rs. 5,949 + FREE Shipping |Micromax Canvas Fire A093 (Black &amp; Gold)|Micromax Fire A093 (Black-Gold)"
       ]
      },
      {
       "output_type": "stream",
       "stream": "stdout",
       "text": [
        "\n",
        " Rs. 17,199 + FREE Shipping | Rs. 17,900 + FREE Shipping |Samsung Galaxy S4 Mini I9192 (Black Mist)|Samsung Galaxy S4 Mini GT-I9192 (Black Mist)"
       ]
      },
      {
       "output_type": "stream",
       "stream": "stdout",
       "text": [
        "\n",
        " Rs. 5,899 + FREE Shipping | Rs. 5,149 + FREE Shipping |Micromax Canvas Juice A177 (Black)|Micromax Canvas Juice A177 (Black)"
       ]
      },
      {
       "output_type": "stream",
       "stream": "stdout",
       "text": [
        "\n",
        " Rs. 6,890 + FREE Shipping | Rs. 6,985 + FREE Shipping |Panasonic P31 (Midnight Blue)|Panasonic P31 (Pure White)"
       ]
      },
      {
       "output_type": "stream",
       "stream": "stdout",
       "text": [
        "\n",
        " Rs. 17,549 + FREE Shipping | Rs. 16,999 + FREE Shipping |Gionee E7 Mini|Gionee Elife Mini E7 (White)"
       ]
      },
      {
       "output_type": "stream",
       "stream": "stdout",
       "text": [
        "\n",
        " Rs. 6,649 + FREE Shipping | Rs. 6,469 + FREE Shipping |Gionee Pioneer P3 (White)|Gionee Pioneer P3 (Black)"
       ]
      },
      {
       "output_type": "stream",
       "stream": "stdout",
       "text": [
        "\n",
        " Rs. 24,599 + FREE Shipping | Rs. 29,000 + FREE Shipping |Gionee Elife E7 (16 GB) (Black, with 16 GB)|Gionee Elife E7 (Black, 32GB)"
       ]
      },
      {
       "output_type": "stream",
       "stream": "stdout",
       "text": [
        "\n",
        " Rs. 30,999 + FREE Shipping | Rs. 31,370 + FREE Shipping |Sony Xperia Z1 (Black)|Sony Xperia Z1 (Purple)"
       ]
      },
      {
       "output_type": "stream",
       "stream": "stdout",
       "text": [
        "\n",
        " Rs. 27,899 + FREE Shipping | Rs. 29,250 + FREE Shipping |Sony Xperia Z (Purple)|Sony Xperia Z C6602 (White)"
       ]
      },
      {
       "output_type": "stream",
       "stream": "stdout",
       "text": [
        "\n",
        " Rs. 2,769 + FREE Shipping | Rs. 3,790 + FREE Shipping |Karbonn A51 (White)|Karbonn Smart A51 (Black)"
       ]
      },
      {
       "output_type": "stream",
       "stream": "stdout",
       "text": [
        "\n",
        " Rs. 7,679 + FREE Shipping | Rs. 7,300 + FREE Shipping |XOLO Q1000 Opus (White)|Xolo Q1000 Opus (White)"
       ]
      },
      {
       "output_type": "stream",
       "stream": "stdout",
       "text": [
        "\n",
        " Rs. 8,449 + FREE Shipping | Rs. 8,099 + FREE Shipping |XOLO Q700S (Black)|Xolo Q700s (Silver)"
       ]
      },
      {
       "output_type": "stream",
       "stream": "stdout",
       "text": [
        "\n",
        " Rs. 17,800 + FREE Shipping | Rs. 17,757 + FREE Shipping |Apple iPhone 4S (White, with 8 GB)|Apple iPhone 4S (Black, 8GB)"
       ]
      },
      {
       "output_type": "stream",
       "stream": "stdout",
       "text": [
        "\n",
        " Rs. 5,980 + FREE Shipping | Rs. 5,890 + FREE Shipping |Gionee P2S (Black)|Gionee P2S (Black)"
       ]
      },
      {
       "output_type": "stream",
       "stream": "stdout",
       "text": [
        "\n",
        " Rs. 17,290 + FREE Shipping | Rs. 17,900 + FREE Shipping |Samsung Galaxy S4 Mini I9192 (White Frost)|Samsung Galaxy S4 Mini GT-I9192 (White Frost)"
       ]
      },
      {
       "output_type": "stream",
       "stream": "stdout",
       "text": [
        "\n",
        " Rs. 5,250 + FREE Shipping | Rs. 5,398 + FREE Shipping |Nokia Asha 311 (Sand White)|Nokia Asha 311 (Dark Grey)"
       ]
      },
      {
       "output_type": "stream",
       "stream": "stdout",
       "text": [
        "\n",
        " Rs. 31,900 + FREE Shipping | Rs. 29,999 + FREE Shipping |LG G2 (32 GB) (White, with 32 GB)|LG G2 (White, 32GB)"
       ]
      },
      {
       "output_type": "stream",
       "stream": "stdout",
       "text": [
        "\n",
        " Rs. 5,500 + FREE Shipping | Rs. 4,960 + FREE Shipping |XOLO A500 Club (Black)|Xolo A500 Club (Black)"
       ]
      },
      {
       "output_type": "stream",
       "stream": "stdout",
       "text": [
        "\n",
        " Rs. 8,539 + FREE Shipping | Rs. 9,020 + FREE Shipping |Intex Aqua I5 HD (Black)|INTEX Smart Phone Aqua i5 HD with 1 GB RAM, 13 MP Camera"
       ]
      },
      {
       "output_type": "stream",
       "stream": "stdout",
       "text": [
        "\n",
        " Rs. 2,775 + FREE Shipping | Rs. 3,500 + FREE Shipping |Karbonn Smart A51+ (Black)|Karbonn A51+ (White)"
       ]
      },
      {
       "output_type": "stream",
       "stream": "stdout",
       "text": [
        "\n",
        " Rs. 4,140 + FREE Shipping | Rs. 4,399 + FREE Shipping |Intex Aqua Y2 (Black)|Intex Aqua Y2 (Blue) Mobile Phone"
       ]
      },
      {
       "output_type": "stream",
       "stream": "stdout",
       "text": [
        "\n",
        " Rs. 60,999 + FREE Shipping | Rs. 62,500 + FREE Shipping |Apple iPhone 5S (Silver, with 32 GB)|Apple iPhone 5s (Gold, 32GB)"
       ]
      },
      {
       "output_type": "stream",
       "stream": "stdout",
       "text": [
        "\n",
        " Rs. 7,049 + FREE Shipping | Rs. 6,495 + FREE Shipping |Micromax Canvas Juice A77 (White)|Micromax Canvas Juice A77 (White)"
       ]
      },
      {
       "output_type": "stream",
       "stream": "stdout",
       "text": [
        "\n",
        " Rs. 14,445 + FREE Shipping | Rs. 12,990 + FREE Shipping |LG L90 Dual|LG L90 Dual D410 (Black)"
       ]
      },
      {
       "output_type": "stream",
       "stream": "stdout",
       "text": [
        "\n",
        " Rs. 10,080 + FREE Shipping | Rs. 9,250 + FREE Shipping |XOLO Q1010i (Coffee Brown)|Xolo Q1010i (Coffee Brown)"
       ]
      },
      {
       "output_type": "stream",
       "stream": "stdout",
       "text": [
        "\n",
        " Rs. 16,250 + FREE Shipping | Rs. 15,099 + FREE Shipping |HTC Desire 616 Dual Sim (Dark Gray)|HTC Desire 616 (White)"
       ]
      },
      {
       "output_type": "stream",
       "stream": "stdout",
       "text": [
        "\n",
        " Rs. 5,000 + FREE Shipping | Rs. 5,099 + FREE Shipping |Micromax Bolt A67 (Black)|Micromax Bolt A67 (White)"
       ]
      },
      {
       "output_type": "stream",
       "stream": "stdout",
       "text": [
        "\n",
        " Rs. 29,457 + FREE Shipping | Rs. 28,900 + FREE Shipping |Sony Xperia Z Ultra (Purple)|Sony Xperia Z Ultra (Black)"
       ]
      },
      {
       "output_type": "stream",
       "stream": "stdout",
       "text": [
        "\n",
        " Rs. 1,554 + FREE Shipping | Rs. 1,649 + FREE Shipping |Nokia 107 (Red)|Nokia 107 (Dual SIM, White)"
       ]
      },
      {
       "output_type": "stream",
       "stream": "stdout",
       "text": [
        "\n",
        " Rs. 13,499 + FREE Shipping | Rs. 19,990 + FREE Shipping |Micromax Canvas 4 A210 (White)|Micromax Canvas 4 A210 (White)"
       ]
      },
      {
       "output_type": "stream",
       "stream": "stdout",
       "text": [
        "\n",
        " Rs. 21,200 + FREE Shipping | Rs. 22,590 + FREE Shipping |Gionee Elife E6 (Black)|Gionee Elife E6 (White)"
       ]
      },
      {
       "output_type": "stream",
       "stream": "stdout",
       "text": [
        "\n",
        " Rs. 18,499 + FREE Shipping | Rs. 20,525 + FREE Shipping |HTC Desire 500 (Glacier Blue)|HTC Desire 500 (Dual SIM, Glossy Black)"
       ]
      },
      {
       "output_type": "stream",
       "stream": "stdout",
       "text": [
        "\n",
        " Rs. 10,199 + FREE Shipping | Rs. 9,999 + FREE Shipping |Gionee Gpad G3 (White)|Gionee Gpad G3 (Black)"
       ]
      },
      {
       "output_type": "stream",
       "stream": "stdout",
       "text": [
        "\n",
        " Rs. 4,890 + FREE Shipping | Rs. 5,760 + FREE Shipping |Karbonn A35 (White and Silver)|Karbonn Smart A35 (White+Silver)"
       ]
      },
      {
       "output_type": "stream",
       "stream": "stdout",
       "text": [
        "\n",
        " Rs. 5,449 + FREE Shipping | Rs. 5,449 + FREE Shipping |Lava Iris 406Q (Black)|Lava Iris 406Q (White)"
       ]
      },
      {
       "output_type": "stream",
       "stream": "stdout",
       "text": [
        "\n",
        " Rs. 6,890 + FREE Shipping | Rs. 8,999 + FREE Shipping |Micromax Canvas Elanza A93 (Coffee)|Micromax Canvas Elanza (Black)"
       ]
      },
      {
       "output_type": "stream",
       "stream": "stdout",
       "text": [
        "\n",
        " Rs. 4,220 + FREE Shipping | Rs. 3,695 + FREE Shipping |Micromax Bolt A089 (White)|Micromax Bolt A089 (Black)"
       ]
      },
      {
       "output_type": "stream",
       "stream": "stdout",
       "text": [
        "\n",
        " Rs. 8,265 + FREE Shipping | Rs. 9,499 + FREE Shipping |iBall Andi 5K Sparkle White (White)|iball Mobile Andi 5K Sparkle (Special Wine+Chrome)"
       ]
      },
      {
       "output_type": "stream",
       "stream": "stdout",
       "text": [
        "\n",
        " Rs. 5,799 + FREE Shipping | Rs. 7,900 + FREE Shipping |Sony Xperia E (White)|Sony Xperia E C1504 (Single SIM, Black)"
       ]
      },
      {
       "output_type": "stream",
       "stream": "stdout",
       "text": [
        "\n",
        " Rs. 11,090 + FREE Shipping | Rs. 11,499 + FREE Shipping |Micromax Canvas HD Plus A190 (Black)|Micromax Canvas HD Plus A190 (Black)"
       ]
      },
      {
       "output_type": "stream",
       "stream": "stdout",
       "text": [
        "\n",
        " Rs. 7,199 + FREE Shipping | Rs. 7,297 + FREE Shipping |XOLO Q600S (White)|Xolo Q600s Black"
       ]
      },
      {
       "output_type": "stream",
       "stream": "stdout",
       "text": [
        "\n",
        " Rs. 7,500 + FREE Shipping | Rs. 7,500 + FREE Shipping |Micromax Canvas Elanza 2 A121 (Black)|Micromax Canvas Elanza 2 A121 (Black)"
       ]
      },
      {
       "output_type": "stream",
       "stream": "stdout",
       "text": [
        "\n",
        " Rs. 24,718 + FREE Shipping | Rs. 24,399 + FREE Shipping |Nokia Lumia 925 (Grey)|Nokia Lumia 925 (White)"
       ]
      },
      {
       "output_type": "stream",
       "stream": "stdout",
       "text": [
        "\n",
        " Rs. 2,570 + FREE Shipping | Rs. 3,684 + FREE Shipping |Samsung E2252 (Pure White)|Samsung Metro GT-E2252 (Metallic Silver)"
       ]
      },
      {
       "output_type": "stream",
       "stream": "stdout",
       "text": [
        "\n",
        " Rs. 22,800 + FREE Shipping | Rs. 28,300 + FREE Shipping |Samsung Galaxy Note 2 N7100 (Marble White)|Samsung Galaxy Note 2 GT-N7100 (Marble White)"
       ]
      },
      {
       "output_type": "stream",
       "stream": "stdout",
       "text": [
        "\n",
        " Rs. 22,699 + FREE Shipping | Rs. 23,450 + FREE Shipping |Samsung Galaxy Mega 5.8 I9152 (Black)|Samsung Galaxy Mega 5.8 GT-I9152 (White)"
       ]
      },
      {
       "output_type": "stream",
       "stream": "stdout",
       "text": [
        "\n",
        " Rs. 8,500 + FREE Shipping | Rs. 12,380 + FREE Shipping |Nokia Lumia 610 (Cyan)|Nokia Lumia 610 (White)"
       ]
      },
      {
       "output_type": "stream",
       "stream": "stdout",
       "text": [
        "\n",
        " Rs. 13,849 + FREE Shipping | Rs. 13,300 + FREE Shipping |Lenovo S920 (White)|Lenovo Ideaphone S920 (White, 4GB)"
       ]
      },
      {
       "output_type": "stream",
       "stream": "stdout",
       "text": [
        "\n",
        " Rs. 19,500 + FREE Shipping | Rs. 18,981 + FREE Shipping |HTC Desire 600C (White, with Dual SIM)|HTC Desire 600c (Dual SIM, Black)"
       ]
      },
      {
       "output_type": "stream",
       "stream": "stdout",
       "text": [
        "\n",
        " Rs. 22,140 + FREE Shipping | Rs. 21,283 + FREE Shipping |Sony Xperia C3 (White)|Sony Xperia C3 Dual (Starry Black)"
       ]
      },
      {
       "output_type": "stream",
       "stream": "stdout",
       "text": [
        "\n",
        " Rs. 22,140 + FREE Shipping | Rs. 21,283 + FREE Shipping |Sony Xperia C3 (White)|Sony Xperia C3 Dual (Starry Black)"
       ]
      },
      {
       "output_type": "stream",
       "stream": "stdout",
       "text": [
        "\n",
        " Rs. 4,900 + FREE Shipping | Rs. 4,900 + FREE Shipping |Lava Iris 405+ (Black)|LAVA IRIS 405+"
       ]
      },
      {
       "output_type": "stream",
       "stream": "stdout",
       "text": [
        "\n",
        " Rs. 8,888 + FREE Shipping | Rs. 11,390 + FREE Shipping |Intex Aqua Curve (Black)|Intex Smart Phone Aqua Curve with 1.3 GHz Quad Core, 5 Inch QHD OGIS Display"
       ]
      },
      {
       "output_type": "stream",
       "stream": "stdout",
       "text": [
        "\n",
        " Rs. 28,510 + FREE Shipping | Rs. 28,510 + FREE Shipping |BlackBerry Z30 (Black)|blackberry Z30"
       ]
      },
      {
       "output_type": "stream",
       "stream": "stdout",
       "text": [
        "\n",
        " Rs. 15,500 + FREE Shipping | Rs. 12,080 + FREE Shipping |Micromax Canvas Turbo A250 (Blue)|Micromax Canvas Turbo A250 (Pristine White)"
       ]
      },
      {
       "output_type": "stream",
       "stream": "stdout",
       "text": [
        "\n",
        " Rs. 4,470 + FREE Shipping | Rs. 4,215 + FREE Shipping |Panasonic T31 (White)|Panasonic T31 (White)"
       ]
      },
      {
       "output_type": "stream",
       "stream": "stdout",
       "text": [
        "\n",
        " Rs. 1,014 + FREE Shipping | Rs. 1,080 + FREE Shipping |Micromax X088 (White Silver)|Micromax X088 (Black-Silver)"
       ]
      },
      {
       "output_type": "stream",
       "stream": "stdout",
       "text": [
        "\n",
        " Rs. 6,339 + FREE Shipping | Rs. 5,000 + FREE Shipping |XOLO A500S (Green)|Xolo A500s (White)"
       ]
      },
      {
       "output_type": "stream",
       "stream": "stdout",
       "text": [
        "\n",
        " Rs. 10,199 + FREE Shipping | Rs. 8,790 + FREE Shipping |Lenovo A850 (Black)|Lenovo A850 (Black)"
       ]
      },
      {
       "output_type": "stream",
       "stream": "stdout",
       "text": [
        "\n",
        " Rs. 5,139 + FREE Shipping | Rs. 5,099 + FREE Shipping |Gionee P2 (Black)|Gionee Pioneer P2 (Black)"
       ]
      },
      {
       "output_type": "stream",
       "stream": "stdout",
       "text": [
        "\n",
        " Rs. 7,000 + FREE Shipping | Rs. 6,480 + FREE Shipping |Karbonn Titanium S5 Plus (Deep Blue)|Karbonn Titanium S5 Plus (Pearl White)"
       ]
      },
      {
       "output_type": "stream",
       "stream": "stdout",
       "text": [
        "\n",
        " Rs. 29,480 + FREE Shipping | Rs. 29,280 + FREE Shipping |Sony Xperia Z1 Compact (White)|Sony Xperia Z1 Compact (White)"
       ]
      },
      {
       "output_type": "stream",
       "stream": "stdout",
       "text": [
        "\n",
        " Rs. 9,849 + FREE Shipping | Rs. 10,260 + FREE Shipping |LG L70 (Black)|LG L70 Dual D325 (Black)"
       ]
      },
      {
       "output_type": "stream",
       "stream": "stdout",
       "text": [
        "\n",
        " Rs. 3,254 + FREE Shipping | Rs. 2,889 + FREE Shipping |Karbonn Smart A52 (White Silver)|Karbonn A52 (Black-Silver)"
       ]
      },
      {
       "output_type": "stream",
       "stream": "stdout",
       "text": [
        "\n",
        " Rs. 14,999 + FREE Shipping | Rs. 15,990 + FREE Shipping |Sony Xperia SP (Black)|Sony Xperia SP C5302 (White)"
       ]
      },
      {
       "output_type": "stream",
       "stream": "stdout",
       "text": [
        "\n",
        " Rs. 12,490 + FREE Shipping | Rs. 12,349 + FREE Shipping |LG L80 (Black)|LG L80 Dual D380 (White)"
       ]
      },
      {
       "output_type": "stream",
       "stream": "stdout",
       "text": [
        "\n",
        " Rs. 13,990 + FREE Shipping | Rs. 13,990 + FREE Shipping |BlackBerry Q5 (Red)|BlackBerry Q5 (Black)"
       ]
      },
      {
       "output_type": "stream",
       "stream": "stdout",
       "text": [
        "\n",
        " Rs. 2,162 + FREE Shipping | Rs. 2,449 + FREE Shipping |Micromax GC222 (White)|Micromax GC222 (White)"
       ]
      },
      {
       "output_type": "stream",
       "stream": "stdout",
       "text": [
        "\n",
        " Rs. 4,499 + FREE Shipping | Rs. 4,500 + FREE Shipping |Nokia Asha 308 (Black)|Nokia Asha 308 (Black)"
       ]
      },
      {
       "output_type": "stream",
       "stream": "stdout",
       "text": [
        "\n",
        " Rs. 1,430 + FREE Shipping | Rs. 1,460 + FREE Shipping |Karbonn Jumbo K9 (Black &amp; Red)|Karbonn K9 (Black-Red)"
       ]
      },
      {
       "output_type": "stream",
       "stream": "stdout",
       "text": [
        "\n",
        " Rs. 9,470 + FREE Shipping | Rs. 9,750 + FREE Shipping |Blackberry Curve 9320 (Black)|BlackBerry Curve 9320 (Black)"
       ]
      },
      {
       "output_type": "stream",
       "stream": "stdout",
       "text": [
        "\n",
        " Rs. 4,437 + FREE Shipping | Rs. 4,048 + FREE Shipping |XOLO A500s Lite (White)|Xolo a500s Lite white"
       ]
      },
      {
       "output_type": "stream",
       "stream": "stdout",
       "text": [
        "\n",
        " Rs. 6,999 + FREE Shipping | Rs. 7,990 + FREE Shipping |Swipe Konnect 5.0 (Black)|Swipe Konnect 5.0 (Black)"
       ]
      },
      {
       "output_type": "stream",
       "stream": "stdout",
       "text": [
        "\n",
        " Rs. 18,200 + FREE Shipping | Rs. 18,020 + FREE Shipping |Apple iPhone 4 (White, with 8 GB)|Apple iPhone 4 (White, 8GB)"
       ]
      },
      {
       "output_type": "stream",
       "stream": "stdout",
       "text": [
        "\n",
        " Rs. 17,999 + FREE Shipping | Rs. 23,990 + FREE Shipping |HTC Desire 700 (Black)|HTC Desire 700 (Black)"
       ]
      },
      {
       "output_type": "stream",
       "stream": "stdout",
       "text": [
        "\n",
        " Rs. 16,602 + FREE Shipping | Rs. 17,345 + FREE Shipping |Sony Xperia M2 Dual (White)|Sony Xperia M2 (Dual SIM, Purple)"
       ]
      },
      {
       "output_type": "stream",
       "stream": "stdout",
       "text": [
        "\n",
        " Rs. 6,959 + FREE Shipping | Rs. 7,999 + FREE Shipping |Nokia X+ (Bright Green)|Nokia X Plus (Green, Dual SIM)"
       ]
      },
      {
       "output_type": "stream",
       "stream": "stdout",
       "text": [
        "\n",
        " Rs. 25,799 + FREE Shipping | Rs. 32,500 + FREE Shipping |Lenovo Vibe Z K910 (Silver)|Lenovo Vibe Z-K910 (Silver)"
       ]
      },
      {
       "output_type": "stream",
       "stream": "stdout",
       "text": [
        "\n",
        " Rs. 6,099 + FREE Shipping | Rs. 6,036 + FREE Shipping |Micromax Bolt A068 (Blue)|Micromax Bolt A068 (Blue)"
       ]
      },
      {
       "output_type": "stream",
       "stream": "stdout",
       "text": [
        "\n",
        " Rs. 6,099 + FREE Shipping | Rs. 5,278 + FREE Shipping |Micromax Canvas Power A96 (Black)|Micromax Canvas Power A96 (Black)"
       ]
      },
      {
       "output_type": "stream",
       "stream": "stdout",
       "text": [
        "\n",
        " Rs. 3,400 + FREE Shipping | Rs. 3,381 + FREE Shipping |iBall Andi 3.5 Classique With 1.3 Ghz Processor (White)|Iball Andi 3.5 Classique"
       ]
      },
      {
       "output_type": "stream",
       "stream": "stdout",
       "text": [
        "\n",
        " Rs. 8,699 + FREE Shipping | Rs. 11,990 + FREE Shipping |XOLO Q900 (White)|Xolo Q900 (White)"
       ]
      },
      {
       "output_type": "stream",
       "stream": "stdout",
       "text": [
        "\n",
        " Rs. 6,500 + FREE Shipping | Rs. 5,549 + FREE Shipping |iBall Andi 4.5 3G (Wine &amp; Gunmetal)|iBall Andi 4.5 Ripple 3G (Rich Matte White+Chrome)"
       ]
      },
      {
       "output_type": "stream",
       "stream": "stdout",
       "text": [
        "\n",
        " Rs. 5,799 + FREE Shipping | Rs. 5,800 + FREE Shipping |Micromax MAd A94 (Grey)|Micromax Mad A94 (Grey)"
       ]
      },
      {
       "output_type": "stream",
       "stream": "stdout",
       "text": [
        "\n",
        " Rs. 13,629 + FREE Shipping | Rs. 13,940 + FREE Shipping |Lenovo S850|Lenovo S850 (White)"
       ]
      },
      {
       "output_type": "stream",
       "stream": "stdout",
       "text": [
        "\n",
        " Rs. 1,499 + FREE Shipping | Rs. 1,499 + FREE Shipping |Lava Arc 22 (Yellow)|Lava Arc 22 (Black)"
       ]
      },
      {
       "output_type": "stream",
       "stream": "stdout",
       "text": [
        "\n",
        " Rs. 1,059 + FREE Shipping | Rs. 1,078 + FREE Shipping |Micromax X084 (White Silver)|Micromax X084 (Black-Red)"
       ]
      },
      {
       "output_type": "stream",
       "stream": "stdout",
       "text": [
        "\n",
        " Rs. 7,985 + FREE Shipping | Rs. 7,960 + FREE Shipping |Micromax Canvas Fun A76 (Black)|Micromax Canvas Fun A76 (Blue)"
       ]
      },
      {
       "output_type": "stream",
       "stream": "stdout",
       "text": [
        "\n",
        " Rs. 9,850 + FREE Shipping | Rs. 9,350 + FREE Shipping |Panasonic P11 (with Changeable Back Covers)|Panasonic P11 (Black)"
       ]
      },
      {
       "output_type": "stream",
       "stream": "stdout",
       "text": [
        "\n",
        " Rs. 23,290 + FREE Shipping | Rs. 25,550 + FREE Shipping |Sony Xperia ZR (Pink)|Sony Xperia ZR C5502 (White)"
       ]
      },
      {
       "output_type": "stream",
       "stream": "stdout",
       "text": [
        "\n",
        " Rs. 64,999 + FREE Shipping | Rs. 68,000 + FREE Shipping |Apple iPhone 5S (Gold, with 64 GB)|Apple iPhone 5s (Gold, 64GB)"
       ]
      },
      {
       "output_type": "stream",
       "stream": "stdout",
       "text": [
        "\n",
        " Rs. 2,975 + FREE Shipping | Rs. 3,195 + FREE Shipping |iBall Andi3.5kke Winner (Black)|iBall Andi3.5KKE Winner (White and Grey)"
       ]
      },
      {
       "output_type": "stream",
       "stream": "stdout",
       "text": [
        "\n",
        " Rs. 6,479 + FREE Shipping | Rs. 6,398 + FREE Shipping |Micromax Canvas Fire A104 (Black Gold)|Micromax Canvas Fire A104 (Black-Gold)"
       ]
      },
      {
       "output_type": "stream",
       "stream": "stdout",
       "text": [
        "\n",
        " Rs. 9,999 + FREE Shipping | Rs. 9,999 + FREE Shipping |Lava Magnum X604 (Brown)|Lava Magnum X604 (White)"
       ]
      },
      {
       "output_type": "stream",
       "stream": "stdout",
       "text": [
        "\n",
        " Rs. 10,044 + FREE Shipping | Rs. 10,099 + FREE Shipping |Micromax Canvas L A108 (White)|Micromax Canvas L A108 (White)"
       ]
      },
      {
       "output_type": "stream",
       "stream": "stdout",
       "text": [
        "\n",
        " Rs. 7,200 + FREE Shipping | Rs. 6,999 + FREE Shipping |Lenovo A680 (White)|Lenovo A680 (Black)"
       ]
      },
      {
       "output_type": "stream",
       "stream": "stdout",
       "text": [
        "\n",
        " Rs. 9,333 + FREE Shipping | Rs. 9,399 + FREE Shipping |XOLO Q2000L (Black)|Xolo Q2000L (White)"
       ]
      },
      {
       "output_type": "stream",
       "stream": "stdout",
       "text": [
        "\n",
        " Rs. 14,399 + FREE Shipping | Rs. 15,716 + FREE Shipping |Lenovo S820 (White, with 8 GB)|Lenovo S820 (White, 4GB)"
       ]
      },
      {
       "output_type": "stream",
       "stream": "stdout",
       "text": [
        "\n",
        " Rs. 10,999 + FREE Shipping | Rs. 10,000 + FREE Shipping |XOLO Q1000 (Black)|Xolo Q1000 (White)"
       ]
      },
      {
       "output_type": "stream",
       "stream": "stdout",
       "text": [
        "\n",
        " Rs. 13,250 + FREE Shipping | Rs. 12,900 + FREE Shipping |Panasonic P51 (Black)|Panasonic P51 (Black)"
       ]
      },
      {
       "output_type": "stream",
       "stream": "stdout",
       "text": [
        "\n",
        " Rs. 3,625 + FREE Shipping | Rs. 3,799 + FREE Shipping |Micromax Bolt A62 (Black)|Micromax Bolt A62 (Black)"
       ]
      },
      {
       "output_type": "stream",
       "stream": "stdout",
       "text": [
        "\n",
        " Rs. 6,849 + FREE Shipping | Rs. 6,559 + FREE Shipping |Intex Aqua i5 Mini (Black)|Intex Aqua I-5 Mini (White) Mobile Phone"
       ]
      },
      {
       "output_type": "stream",
       "stream": "stdout",
       "text": [
        "\n",
        " Rs. 10,950 + FREE Shipping | Rs. 9,499 + FREE Shipping |XOLO Q1200 (Black)|Xolo Q1200 (Black)"
       ]
      },
      {
       "output_type": "stream",
       "stream": "stdout",
       "text": [
        "\n",
        " Rs. 15,900 + FREE Shipping | Rs. 16,605 + FREE Shipping |Panasonic Eluga U (Black)|Panasonic Eluga U (Black)"
       ]
      },
      {
       "output_type": "stream",
       "stream": "stdout",
       "text": [
        "\n",
        " Rs. 20,499 + FREE Shipping | Rs. 18,958 + FREE Shipping |Micromax Canvas Gold A300 (Black Gold)|Micromax Canvas Gold A300 (White-Gold)"
       ]
      },
      {
       "output_type": "stream",
       "stream": "stdout",
       "text": [
        "\n",
        " Rs. 5,415 + FREE Shipping | Rs. 5,588 + FREE Shipping |XOLO Q500S IPS (Black)|Xolo Q500s IPS (Green)"
       ]
      },
      {
       "output_type": "stream",
       "stream": "stdout",
       "text": [
        "\n",
        " Rs. 7,299 + FREE Shipping | Rs. 7,739 + FREE Shipping |Intex Aqua Curve Mini (Black)|Intex Aqua Curve Mini (Black) Mobile Phone"
       ]
      },
      {
       "output_type": "stream",
       "stream": "stdout",
       "text": [
        "\n",
        " Rs. 7,000 + FREE Shipping | Rs. 6,930 + FREE Shipping |Samsung Galaxy Ace NXT-G313H (White)|Samsung Galaxy Ace NXT SM-G313H (Black)"
       ]
      },
      {
       "output_type": "stream",
       "stream": "stdout",
       "text": [
        "\n",
        " Rs. 3,567 + FREE Shipping | Rs. 3,480 + FREE Shipping |Karbonn A91 (Black)|Karbonn A91 (White)"
       ]
      },
      {
       "output_type": "stream",
       "stream": "stdout",
       "text": [
        "\n",
        " Rs. 3,875 + FREE Shipping | Rs. 3,708 + FREE Shipping |Micromax Bolt A58 (Black)|Micromax Bolt A58 (Red)"
       ]
      },
      {
       "output_type": "stream",
       "stream": "stdout",
       "text": [
        "\n",
        " Rs. 8,990 + FREE Shipping | Rs. 9,600 + FREE Shipping |Micromax Canvas Blaze MT500|Micromax Canvas Blaze MT500 Black"
       ]
      },
      {
       "output_type": "stream",
       "stream": "stdout",
       "text": [
        "\n",
        " Rs. 2,462 + FREE Shipping | Rs. 2,589 + FREE Shipping |Micromax Bolt A24 (Champange)|Micromax Bolt A24 | Black"
       ]
      },
      {
       "output_type": "stream",
       "stream": "stdout",
       "text": [
        "\n",
        " Rs. 4,499 + FREE Shipping | Rs. 4,499 + FREE Shipping |Lava Iris 404e (White)|Lava Iris 404e (Black)"
       ]
      },
      {
       "output_type": "stream",
       "stream": "stdout",
       "text": [
        "\n",
        " Rs. 5,951 + FREE Shipping | Rs. 5,190 + FREE Shipping |Micromax Bolt A71 (Black)|Micromax Bolt A71 (White)"
       ]
      },
      {
       "output_type": "stream",
       "stream": "stdout",
       "text": [
        "\n",
        " Rs. 14,595 + FREE Shipping | Rs. 15,100 + FREE Shipping |BlackBerry Z3 (Black, with 8 GB)|BlackBerry Z3 (Black)"
       ]
      },
      {
       "output_type": "stream",
       "stream": "stdout",
       "text": [
        "\n",
        " Rs. 9,499 + FREE Shipping | Rs. 9,499 + FREE Shipping |Lava Iris 504Q+ (Gray)|Lava Iris 504Q Plus (White)"
       ]
      },
      {
       "output_type": "stream",
       "stream": "stdout",
       "text": [
        "\n",
        " Rs. 6,080 + FREE Shipping | Rs. 6,017 + FREE Shipping |Karbonn A25 (Black)|Karbonn A25 (Black)"
       ]
      },
      {
       "output_type": "stream",
       "stream": "stdout",
       "text": [
        "\n",
        " Rs. 10,499 + FREE Shipping | Rs. 11,399 + FREE Shipping |Sony Xperia U (Black &amp; Pure White)|Sony Xperia U ST25i (White-Yellow)"
       ]
      },
      {
       "output_type": "stream",
       "stream": "stdout",
       "text": [
        "\n",
        " Rs. 30,999 + FREE Shipping | Rs. 30,499 + FREE Shipping |LG G2 (White)|LG G2 D802 (Black, 16GB)"
       ]
      },
      {
       "output_type": "stream",
       "stream": "stdout",
       "text": [
        "\n",
        " Rs. 31,500 + FREE Shipping | Rs. 48,799 + FREE Shipping |LG G Pro 2 D838 (Titan)|LG G Pro2 (White)"
       ]
      },
      {
       "output_type": "stream",
       "stream": "stdout",
       "text": [
        "\n",
        " Rs. 12,620 + FREE Shipping | Rs. 12,399 + FREE Shipping |XOLO Play 6X-1000 (White)|Xolo Play 6X-1000 (Black)"
       ]
      },
      {
       "output_type": "stream",
       "stream": "stdout",
       "text": [
        "\n",
        " Rs. 32,695 + FREE Shipping | Rs. 32,695 + FREE Shipping |HTC One E8 (Dark Grey)|HTC One E8 (Dark Grey)"
       ]
      },
      {
       "output_type": "stream",
       "stream": "stdout",
       "text": [
        "\n",
        " Rs. 3,179 + FREE Shipping | Rs. 3,252 + FREE Shipping |Karbonn A1 Plus Super (White)|Karbonn Smart A1+ Super (White)"
       ]
      },
      {
       "output_type": "stream",
       "stream": "stdout",
       "text": [
        "\n",
        " Rs. 6,779 + FREE Shipping | Rs. 6,570 + FREE Shipping |Samsung G350 (White)|Samsung Galaxy Star Advance SM-G350E (Black)"
       ]
      },
      {
       "output_type": "stream",
       "stream": "stdout",
       "text": [
        "\n",
        " Rs. 8,799 + FREE Shipping | Rs. 8,779 + FREE Shipping |Micromax Canvas Win W121 (Black)|Micromax Canvas Win W121 (Black)"
       ]
      },
      {
       "output_type": "stream",
       "stream": "stdout",
       "text": [
        "\n",
        " Rs. 5,499 + FREE Shipping | Rs. 6,089 + FREE Shipping |Karbonn Titanium S2 Plus (Black)|Karbonn S2 Plus (Black)"
       ]
      },
      {
       "output_type": "stream",
       "stream": "stdout",
       "text": [
        "\n",
        " Rs. 1,879 + FREE Shipping | Rs. 1,874 + FREE Shipping |Gionee Long L700 (Silver)|Gionee L700 (Silver)"
       ]
      },
      {
       "output_type": "stream",
       "stream": "stdout",
       "text": [
        "\n",
        " Rs. 1,544 + FREE Shipping | Rs. 1,481 + FREE Shipping |Karbonn K-Phone 1 (Black Blue)|Karbonn K-Phone 1 (White-Silver)"
       ]
      },
      {
       "output_type": "stream",
       "stream": "stdout",
       "text": [
        "\n",
        " Rs. 7,990 + FREE Shipping | Rs. 7,990 + FREE Shipping |Micromax Canvas Doodle A111 (White)|Micromax Canvas Doodle A111 (White)"
       ]
      },
      {
       "output_type": "stream",
       "stream": "stdout",
       "text": [
        "\n",
        " Rs. 2,541 + FREE Shipping | Rs. 2,400 + FREE Shipping |Lava Discover 135 (Purple)|Lava Discover 135 (White)"
       ]
      },
      {
       "output_type": "stream",
       "stream": "stdout",
       "text": [
        "\n",
        " Rs. 5,500 + FREE Shipping | Rs. 6,795 + FREE Shipping |Lenovo A390 (Black)|Lenovo A390 (Black)"
       ]
      },
      {
       "output_type": "stream",
       "stream": "stdout",
       "text": [
        "\n",
        " Rs. 15,925 + FREE Shipping | Rs. 14,199 + FREE Shipping |Lenovo P780 (Deep Black)|Lenovo P780 (Deep Black, 8GB)"
       ]
      },
      {
       "output_type": "stream",
       "stream": "stdout",
       "text": [
        "\n",
        " Rs. 3,580 + FREE Shipping | Rs. 4,690 + FREE Shipping |Karbonn A1+ (Black)|Karbonn A11+(Black)"
       ]
      },
      {
       "output_type": "stream",
       "stream": "stdout",
       "text": [
        "\n",
        " Rs. 2,799 + FREE Shipping | Rs. 3,090 + FREE Shipping |Karbonn A1+ Duple (Black)|Karbonn Duple A1+ (Black)"
       ]
      },
      {
       "output_type": "stream",
       "stream": "stdout",
       "text": [
        "\n",
        " Rs. 7,999 + FREE Shipping | Rs. 10,800 + FREE Shipping |HTC A320E Desire C (Polar White)|HTC Desire C A320E (White)"
       ]
      },
      {
       "output_type": "stream",
       "stream": "stdout",
       "text": [
        "\n",
        " Rs. 33,490 + FREE Shipping | Rs. 43,490 + FREE Shipping |BlackBerry Z10 (Pure White)|BlackBerry Z10 (Charcoal Black)"
       ]
      },
      {
       "output_type": "stream",
       "stream": "stdout",
       "text": [
        "\n",
        " Rs. 12,900 + FREE Shipping | Rs. 12,070 + FREE Shipping |Panasonic P81 (Black)|Panasonic P81 (Black)"
       ]
      },
      {
       "output_type": "stream",
       "stream": "stdout",
       "text": [
        "\n",
        " Rs. 5,199 + FREE Shipping | Rs. 6,300 + FREE Shipping |Micromax A091 C Engage (Grey)|Micromax Canvas Engage A091 (Black)"
       ]
      },
      {
       "output_type": "stream",
       "stream": "stdout",
       "text": [
        "\n",
        " Rs. 7,647 + FREE Shipping | Rs. 7,800 + FREE Shipping |Karbonn Titanium S9 Lite (White)|Karbonn Titanium S9 Lite (Black)"
       ]
      },
      {
       "output_type": "stream",
       "stream": "stdout",
       "text": [
        "\n",
        " Rs. 6,817 + FREE Shipping | Rs. 7,415 + FREE Shipping |Panasonic T41 (White)|Panasonic T41 Mobile Phone (Black)"
       ]
      },
      {
       "output_type": "stream",
       "stream": "stdout",
       "text": [
        "\n",
        " Rs. 4,580 + FREE Shipping | Rs. 4,599 + FREE Shipping |Karbonn A101 (Black)|Karbonn A101 (Black)"
       ]
      },
      {
       "output_type": "stream",
       "stream": "stdout",
       "text": [
        "\n",
        " Rs. 1,099 + FREE Shipping | Rs. 1,389 + FREE Shipping |Rage Ace_Blue (Black)|Rage Ace (Black-Green)"
       ]
      },
      {
       "output_type": "stream",
       "stream": "stdout",
       "text": [
        "\n",
        " Rs. 6,200 + FREE Shipping | Rs. 6,198 + FREE Shipping |Sony Xperia Tipo Dual (Serene Black)|Sony Xperia Tipo ST21I2 (Dual SIM, Classic Silver)"
       ]
      },
      {
       "output_type": "stream",
       "stream": "stdout",
       "text": [
        "\n",
        " Rs. 11,449 + FREE Shipping | Rs. 12,707 + FREE Shipping |Videocon A55HD (White)|Videocon A55 HD (White/silver)"
       ]
      },
      {
       "output_type": "stream",
       "stream": "stdout",
       "text": [
        "\n",
        " Rs. 6,519 + FREE Shipping | Rs. 6,200 + FREE Shipping |XOLO Q600 (White)|Xolo Q600 (White)"
       ]
      },
      {
       "output_type": "stream",
       "stream": "stdout",
       "text": [
        "\n",
        " Rs. 35,499 + FREE Shipping | Rs. 36,900 + FREE Shipping |HTC One 802d (Silver, with Dual SIM)|HTC One (Dual SIM, Silver)"
       ]
      },
      {
       "output_type": "stream",
       "stream": "stdout",
       "text": [
        "\n",
        " Rs. 3,346 + FREE Shipping | Rs. 3,700 + FREE Shipping |Karbonn Smart A92 (Black Silver)|Karbonn Smart A92(White)"
       ]
      },
      {
       "output_type": "stream",
       "stream": "stdout",
       "text": [
        "\n",
        " Rs. 11,500 + FREE Shipping | Rs. 9,980 + FREE Shipping |XOLO Q1010 (Black)|XOLO Q1010 DUAL SIM (WHITE)"
       ]
      },
      {
       "output_type": "stream",
       "stream": "stdout",
       "text": [
        "\n",
        " Rs. 10,575 + FREE Shipping | Rs. 10,279 + FREE Shipping |Lenovo S660 (Titanium)|Lenovo S660 Titanium"
       ]
      },
      {
       "output_type": "stream",
       "stream": "stdout",
       "text": [
        "\n",
        " Rs. 3,848 + FREE Shipping | Rs. 4,566 + FREE Shipping |Micromax Bolt A46 (Black)|Micromax Bolt A46 (Black)"
       ]
      },
      {
       "output_type": "stream",
       "stream": "stdout",
       "text": [
        "\n",
        " Rs. 36,907 + FREE Shipping | Rs. 42,900 + FREE Shipping |LG G3 D855 (Titan Titan)|LG G3 (Metallic Black, 32GB)"
       ]
      },
      {
       "output_type": "stream",
       "stream": "stdout",
       "text": [
        "\n",
        " Rs. 14,432 + FREE Shipping | Rs. 14,200 + FREE Shipping |XOLO Q3000 (White)|Xolo Q3000 (White)"
       ]
      },
      {
       "output_type": "stream",
       "stream": "stdout",
       "text": [
        "\n",
        " Rs. 1,028 + FREE Shipping | Rs. 1,069 + FREE Shipping |Micromax X097 (Black)|Micromax X097 (Black)"
       ]
      },
      {
       "output_type": "stream",
       "stream": "stdout",
       "text": [
        "\n",
        " Rs. 5,999 + FREE Shipping | Rs. 5,690 + FREE Shipping |Micromax Canvas Fun A63 (Yellow)|Micromax Canvas Fun A63 (Yellow)"
       ]
      },
      {
       "output_type": "stream",
       "stream": "stdout",
       "text": [
        "\n",
        " Rs. 11,624 + FREE Shipping | Rs. 10,490 + FREE Shipping |Huawei Ascend G610 (Black)|Huawei Ascend G610 (White)"
       ]
      },
      {
       "output_type": "stream",
       "stream": "stdout",
       "text": [
        "\n",
        " Rs. 13,397 + FREE Shipping | Rs. 14,000 + FREE Shipping |XOLO Q1000S (Black)|Xolo Q1000s (Black)"
       ]
      },
      {
       "output_type": "stream",
       "stream": "stdout",
       "text": [
        "\n",
        " Rs. 19,935 + FREE Shipping | Rs. 18,689 + FREE Shipping |Lenovo Vibe X (Silver)|Lenovo Vibe X S960 (Silver, 16GB)"
       ]
      },
      {
       "output_type": "stream",
       "stream": "stdout",
       "text": [
        "\n",
        " Rs. 11,500 + FREE Shipping | Rs. 12,925 + FREE Shipping |iBall Andi 5.5N2 Quadro|iBall Andi5.5N2 QUADRO Phone(1.2Ghz Quad Core, 12 MP AF Cam , HD IPS Display)"
       ]
      },
      {
       "output_type": "stream",
       "stream": "stdout",
       "text": [
        "\n",
        " Rs. 3,099 + FREE Shipping | Rs. 4,299 + FREE Shipping |Lava Iris 352e (Black Silver)|Lava Iris 352e (Black)"
       ]
      },
      {
       "output_type": "stream",
       "stream": "stdout",
       "text": [
        "\n",
        " Rs. 1,600 + FREE Shipping | Rs. 1,497 + FREE Shipping |Micromax X281 (Grey)|Micromax X281 (Grey)"
       ]
      },
      {
       "output_type": "stream",
       "stream": "stdout",
       "text": [
        "\n",
        " Rs. 3,749 + FREE Shipping | Rs. 4,199 + FREE Shipping |Lava Iris 354e (White)|Lava Iris 354E (Dark Blue)"
       ]
      },
      {
       "output_type": "stream",
       "stream": "stdout",
       "text": [
        "\n",
        " Rs. 5,890 + FREE Shipping | Rs. 6,799 + FREE Shipping |iBall Andi5-E7 (Grey)|iBall Andi 5-E7 (Grey-Gun Metal)"
       ]
      },
      {
       "output_type": "stream",
       "stream": "stdout",
       "text": [
        "\n",
        " Rs. 1,326 + FREE Shipping | Rs. 1,699 + FREE Shipping |Micromax X258 (Black)|Micromax X258 (Black)"
       ]
      },
      {
       "output_type": "stream",
       "stream": "stdout",
       "text": [
        "\n",
        " Rs. 3,641 + FREE Shipping | Rs. 3,535 + FREE Shipping |Micromax Bolt A59 (Grey)|Micromax Bolt A59 (Grey)"
       ]
      },
      {
       "output_type": "stream",
       "stream": "stdout",
       "text": [
        "\n",
        " Rs. 6,020 + FREE Shipping | Rs. 4,175 + FREE Shipping |Micromax Bolt A66 (White)|Micromax Bolt A66 (Black)"
       ]
      },
      {
       "output_type": "stream",
       "stream": "stdout",
       "text": [
        "\n",
        " Rs. 3,666 + FREE Shipping | Rs. 4,890 + FREE Shipping |Intex Aqua Qwerty (White)|Intex QWERTY Dual SIM with Android Jelly Bean, 5 MP Camera with LED Flash and Dual Core Processor (B"
       ]
      },
      {
       "output_type": "stream",
       "stream": "stdout",
       "text": [
        "\n",
        " Rs. 3,349 + FREE Shipping | Rs. 3,199 + FREE Shipping |Intex Cloud X3 Plus (White)|INTEX CLOUD X3+ (WHITE) MOBILE PHONE"
       ]
      },
      {
       "output_type": "stream",
       "stream": "stdout",
       "text": [
        "\n",
        " Rs. 1,405 + FREE Shipping | Rs. 1,485 + FREE Shipping |Intex Nova (White)|Intex Nova (Black)"
       ]
      },
      {
       "output_type": "stream",
       "stream": "stdout",
       "text": [
        "\n",
        " Rs. 1,099 + FREE Shipping | Rs. 1,149 + FREE Shipping |Karbonn K57 (Silver)|Karbonn K57 (Silver)"
       ]
      },
      {
       "output_type": "stream",
       "stream": "stdout",
       "text": [
        "\n",
        " Rs. 6,149 + FREE Shipping | Rs. 6,149 + FREE Shipping |Lava Iris 450 Color Plus (White &amp; Blue)|Lava Iris 450 Color+ (Black-Blue)"
       ]
      },
      {
       "output_type": "stream",
       "stream": "stdout",
       "text": [
        "\n",
        " Rs. 7,090 + FREE Shipping | Rs. 7,990 + FREE Shipping |Karbonn Titanium S3 (White)|Karbonn Titanium S3 (Black)"
       ]
      },
      {
       "output_type": "stream",
       "stream": "stdout",
       "text": [
        "\n",
        " Rs. 2,689 + FREE Shipping | Rs. 2,760 + FREE Shipping |Karbonn Smart A51 Lite (Black)|Karbonn Smart A51 Lite (Black)"
       ]
      },
      {
       "output_type": "stream",
       "stream": "stdout",
       "text": [
        "\n",
        " Rs. 10,420 + FREE Shipping | Rs. 10,908 + FREE Shipping |XOLO Q900T|Xolo Q900T (Black)"
       ]
      },
      {
       "output_type": "stream",
       "stream": "stdout",
       "text": [
        "\n",
        " Rs. 4,999 + FREE Shipping | Rs. 5,149 + FREE Shipping |Karbonn Titanium S99 (White)|Karbonn Titanium S99 (White)"
       ]
      },
      {
       "output_type": "stream",
       "stream": "stdout",
       "text": [
        "\n",
        " Rs. 2,099 + FREE Shipping | Rs. 2,998 + FREE Shipping |Gionee Long L800 (Black Champange)|Gionee L800 (Black-Champiagne)"
       ]
      },
      {
       "output_type": "stream",
       "stream": "stdout",
       "text": [
        "\n",
        " Rs. 9,999 + FREE Shipping | Rs. 14,990 + FREE Shipping |Nokia Lumia 710 (White)|Nokia Lumia 710 (Black)"
       ]
      },
      {
       "output_type": "stream",
       "stream": "stdout",
       "text": [
        "\n",
        " Rs. 4,715 + FREE Shipping | Rs. 4,999 + FREE Shipping |Nokia Asha 210 (Yellow)|Nokia Asha 210 (Cyan)"
       ]
      },
      {
       "output_type": "stream",
       "stream": "stdout",
       "text": [
        "\n",
        " Rs. 10,499 + FREE Shipping | Rs. 10,299 + FREE Shipping |LG Optimus L7 II P715 (Black)|LG Optimus L7 II P715 (Black)"
       ]
      },
      {
       "output_type": "stream",
       "stream": "stdout",
       "text": [
        "\n",
        " Rs. 16,999 + FREE Shipping | Rs. 18,690 + FREE Shipping |LG Optimus L9 P765 (Black)|LG Optimus L9 P765 (White)"
       ]
      },
      {
       "output_type": "stream",
       "stream": "stdout",
       "text": [
        "\n",
        " Rs. 3,990 + FREE Shipping | Rs. 3,990 + FREE Shipping |Karbonn A6 (Black White)|Karbonn A6 (Black-White)"
       ]
      },
      {
       "output_type": "stream",
       "stream": "stdout",
       "text": [
        "\n",
        " Rs. 4,090 + FREE Shipping | Rs. 3,890 + FREE Shipping |Karbonn A93 (Black)|Karbonn A93 (White)"
       ]
      },
      {
       "output_type": "stream",
       "stream": "stdout",
       "text": [
        "\n",
        " Rs. 12,900 + FREE Shipping | Rs. 14,990 + FREE Shipping |Panasonic P61 (White)|Panasonic P61 (BLACK) BIG HD SCREEN"
       ]
      },
      {
       "output_type": "stream",
       "stream": "stdout",
       "text": [
        "\n",
        " Rs. 8,100 + FREE Shipping | Rs. 7,970 + FREE Shipping |Lenovo A536 (White)|Lenovo A536 (Black)"
       ]
      },
      {
       "output_type": "stream",
       "stream": "stdout",
       "text": [
        "\n",
        " Rs. 5,699 + FREE Shipping | Rs. 5,199 + FREE Shipping |iBall Andi4 Gem (White)|iBall 4P IPS GEM, IPS DISPLAY, 3G MOBILE PHONE \"Special wine+chrome\""
       ]
      },
      {
       "output_type": "stream",
       "stream": "stdout",
       "text": [
        "\n",
        " Rs. 1,300 + FREE Shipping | Rs. 1,199 + FREE Shipping |Micromax X103i (White)|Micromax X103i (White)"
       ]
      },
      {
       "output_type": "stream",
       "stream": "stdout",
       "text": [
        "\n",
        " Rs. 11,310 + FREE Shipping | Rs. 12,000 + FREE Shipping |BlackBerry 9720 (Black)|BlackBerry 9720 (Black)"
       ]
      },
      {
       "output_type": "stream",
       "stream": "stdout",
       "text": [
        "\n",
        " Rs. 6,499 + FREE Shipping | Rs. 6,375 + FREE Shipping |LG L4 II Dual E445 (Black)|LG Optimus L4 II Dual E445 (White)"
       ]
      },
      {
       "output_type": "stream",
       "stream": "stdout",
       "text": [
        "\n",
        " Rs. 3,399 + FREE Shipping | Rs. 3,799 + FREE Shipping |Micromax Bolt A26 (Black)|Micromax Bolt A26 (Black)"
       ]
      },
      {
       "output_type": "stream",
       "stream": "stdout",
       "text": [
        "\n",
        " Rs. 1,684 + FREE Shipping | Rs. 1,699 + FREE Shipping |Micromax X328 (Grey)|MICROMAX X328 (GREY)"
       ]
      },
      {
       "output_type": "stream",
       "stream": "stdout",
       "text": [
        "\n",
        " Rs. 19,999 + FREE Shipping | Rs. 23,450 + FREE Shipping |Samsung Galaxy Mega 5.8 I9152 (White)|Samsung Galaxy Mega 5.8 GT-I9152 (White)"
       ]
      },
      {
       "output_type": "stream",
       "stream": "stdout",
       "text": [
        "\n",
        " Rs. 11,300 + FREE Shipping | Rs. 11,199 + FREE Shipping |Gionee CTRL V5 (White)|Gionee Ctrl V5 (White)"
       ]
      },
      {
       "output_type": "stream",
       "stream": "stdout",
       "text": [
        "\n",
        " Rs. 6,260 + FREE Shipping | Rs. 5,999 + FREE Shipping |Lava Iris 450 (White &amp; Blue)|Lava Iris 450 Color (Blue)"
       ]
      },
      {
       "output_type": "stream",
       "stream": "stdout",
       "text": [
        "\n",
        " Rs. 6,500 + FREE Shipping | Rs. 6,500 + FREE Shipping |Lenovo A526 (Aurora Blue)|Lenovo A526 (Blue)"
       ]
      },
      {
       "output_type": "stream",
       "stream": "stdout",
       "text": [
        "\n",
        " Rs. 12,030 + FREE Shipping | Rs. 12,489 + FREE Shipping |XOLO Q2500 (Black)|Xolo Q2500 (Black)"
       ]
      },
      {
       "output_type": "stream",
       "stream": "stdout",
       "text": [
        "\n",
        " Rs. 975 + FREE Shipping | Rs. 1,395 + FREE Shipping |iBall iBall Prince 1.8G With Auto Call Recording &amp; Chambered Speaker (White)|iBall prince 1.8G (black+orange)"
       ]
      },
      {
       "output_type": "stream",
       "stream": "stdout",
       "text": [
        "\n",
        " Rs. 13,799 + FREE Shipping | Rs. 11,995 + FREE Shipping |Karbonn Titanium S4 (Black)|Karbonn Titanium S4 (Black)"
       ]
      },
      {
       "output_type": "stream",
       "stream": "stdout",
       "text": [
        "\n",
        " Rs. 13,107 + FREE Shipping | Rs. 11,420 + FREE Shipping |Lenovo A859 (White)|Lenovo A859 (White)"
       ]
      },
      {
       "output_type": "stream",
       "stream": "stdout",
       "text": [
        "\n",
        " Rs. 5,600 + FREE Shipping | Rs. 5,525 + FREE Shipping |iBall Andi 4.5 2G (Grey)|iBall Andi 4.5 Ripple 2G (Special Grey-Gun Metal)"
       ]
      },
      {
       "output_type": "stream",
       "stream": "stdout",
       "text": [
        "\n",
        " Rs. 5,406 + FREE Shipping | Rs. 5,230 + FREE Shipping |Spice Smart Flo Mettle 5X Mi-504 (White)|Spice Smart Flo Mettle 5X Mi-504 (White)"
       ]
      },
      {
       "output_type": "stream",
       "stream": "stdout",
       "text": [
        "\n",
        " Rs. 5,399 + FREE Shipping | Rs. 5,626 + FREE Shipping |Karbonn A99 (Black)|Karbonn A99 (Dual SIM, Black)"
       ]
      },
      {
       "output_type": "stream",
       "stream": "stdout",
       "text": [
        "\n",
        " Rs. 3,120 + FREE Shipping | Rs. 3,089 + FREE Shipping |Lenovo A269i (Black)|Lenovo A269i (Black)"
       ]
      },
      {
       "output_type": "stream",
       "stream": "stdout",
       "text": [
        "\n",
        " Rs. 4,348 + FREE Shipping | Rs. 3,999 + FREE Shipping |Lenovo A369i (Black)|Lenovo A369i (Black)"
       ]
      },
      {
       "output_type": "stream",
       "stream": "stdout",
       "text": [
        "\n",
        " Rs. 16,599 + FREE Shipping | Rs. 22,990 + FREE Shipping |LG G Pro Lite D686 (Black)|LG G Pro Lite D686 (Dual SIM, Black)"
       ]
      },
      {
       "output_type": "stream",
       "stream": "stdout",
       "text": [
        "\n",
        " Rs. 18,050 + FREE Shipping | Rs. 18,990 + FREE Shipping |Intex Aqua i7 (Black)|Intex Aqua i7 (White)"
       ]
      },
      {
       "output_type": "stream",
       "stream": "stdout",
       "text": [
        "\n",
        " Rs. 7,799 + FREE Shipping | Rs. 7,299 + FREE Shipping |Sony Xperia E Dual (Champagne)|Sony Xperia E C1604 (Dual SIM, Black)"
       ]
      },
      {
       "output_type": "stream",
       "stream": "stdout",
       "text": [
        "\n",
        " Rs. 10,490 + FREE Shipping | Rs. 12,499 + FREE Shipping |Sony Xperia Neo L (Glossy White)|Sony Xperia NEO L (White)"
       ]
      },
      {
       "output_type": "stream",
       "stream": "stdout",
       "text": [
        "\n",
        " Rs. 4,850 + FREE Shipping | Rs. 6,499 + FREE Shipping |Huawei Y320 (Black)|Huawei Ascend Y320 (Black)"
       ]
      },
      {
       "output_type": "stream",
       "stream": "stdout",
       "text": [
        "\n",
        " Rs. 7,999 + FREE Shipping | Rs. 7,949 + FREE Shipping |Lenovo A516 (Grey)|Lenovo A516 (Grey)"
       ]
      },
      {
       "output_type": "stream",
       "stream": "stdout",
       "text": [
        "\n",
        " Rs. 41,999 + FREE Shipping | Rs. 53,616 + FREE Shipping |HTC One Max (Silver White)|HTC One Max (Silver)"
       ]
      },
      {
       "output_type": "stream",
       "stream": "stdout",
       "text": [
        "\n",
        " Rs. 1,099 + FREE Shipping | Rs. 1,250 + FREE Shipping |iBall Vogue 1.8-KK7 (Black)|iBall Vogue 1.8-kk7 Phone Yellow-Black"
       ]
      },
      {
       "output_type": "stream",
       "stream": "stdout",
       "text": [
        "\n",
        " Rs. 10,922 + FREE Shipping | Rs. 10,200 + FREE Shipping |Lenovo S650 (Silver)|Lenovo S650 (Silver)"
       ]
      },
      {
       "output_type": "stream",
       "stream": "stdout",
       "text": [
        "\n",
        " Rs. 12,125 + FREE Shipping | Rs. 12,800 + FREE Shipping |Huawei Honor 3C (White)|Huawei Honor H30-U10 (White)"
       ]
      },
      {
       "output_type": "stream",
       "stream": "stdout",
       "text": [
        "\n",
        " Rs. 4,440 + FREE Shipping | Rs. 4,799 + FREE Shipping |iBall iBall Andi 3.5kke Glory (Special Wine)|iBall Andi 3.5kke Glory Mobile (White)"
       ]
      },
      {
       "output_type": "stream",
       "stream": "stdout",
       "text": [
        "\n",
        " Rs. 3,544 + FREE Shipping | Rs. 4,190 + FREE Shipping |Intex Cloud X11 (Black)|INTEX CLOUD X11 (WHITE-BLUE) MOBILE PHONE"
       ]
      },
      {
       "output_type": "stream",
       "stream": "stdout",
       "text": [
        "\n",
        " Rs. 1,449 + FREE Shipping | Rs. 1,270 + FREE Shipping |iBall King1.8D (White)|iBall Shaan King 1.8d Dual Sim Mobile - Yellow and Black"
       ]
      },
      {
       "output_type": "stream",
       "stream": "stdout",
       "text": [
        "\n",
        " Rs. 18,480 + FREE Shipping | Rs. 19,099 + FREE Shipping |Lenovo S860 (Titanium)|Lenovo S860 (Titanium)"
       ]
      },
      {
       "output_type": "stream",
       "stream": "stdout",
       "text": [
        "\n",
        " Rs. 3,699 + FREE Shipping | Rs. 3,838 + FREE Shipping |iBall Andi3.5kke Genius (White)|iBall Andi 3.5KKE Genius (White)"
       ]
      },
      {
       "output_type": "stream",
       "stream": "stdout",
       "text": [
        "\n",
        " Rs. 1,329 + FREE Shipping | Rs. 1,329 + FREE Shipping |Lava KKT Uno (Champagne)|Lava KKT Uno-Champagne"
       ]
      },
      {
       "output_type": "stream",
       "stream": "stdout",
       "text": [
        "\n",
        " Rs. 949 + FREE Shipping | Rs. 949 + FREE Shipping |Lava Arc 111 (Black &amp; Yellow)|Lava Arc 111 (Black-Yellow)"
       ]
      },
      {
       "output_type": "stream",
       "stream": "stdout",
       "text": [
        "\n",
        " Rs. 1,709 + FREE Shipping | Rs. 1,699 + FREE Shipping |Micromax X282 (Grey)|Micromax X282 (Grey)"
       ]
      },
      {
       "output_type": "stream",
       "stream": "stdout",
       "text": [
        "\n",
        " Rs. 1,565 + FREE Shipping | Rs. 1,625 + FREE Shipping |Micromax X351 (Black Silver)|Micromax Bolt X351 (Black-Siver)"
       ]
      },
      {
       "output_type": "stream",
       "stream": "stdout",
       "text": [
        "\n",
        " Rs. 4,000 + FREE Shipping | Rs. 4,899 + FREE Shipping |Karbonn Smart A10 (Black)|Karbonn Smart A10 (Black)"
       ]
      },
      {
       "output_type": "stream",
       "stream": "stdout",
       "text": [
        "\n",
        " Rs. 1,650 + FREE Shipping | Rs. 1,599 + FREE Shipping |Nokia 106 (Red)|Nokia 106 (White)"
       ]
      },
      {
       "output_type": "stream",
       "stream": "stdout",
       "text": [
        "\n",
        " Rs. 1,847 + FREE Shipping | Rs. 1,847 + FREE Shipping |Mtech Spark (Black &amp; White)|Mtech Spark WITH INBUILT WHATS APP 32 Gb Black 3.2 INCH Touch Phone"
       ]
      },
      {
       "output_type": "stream",
       "stream": "stdout",
       "text": [
        "\n",
        " Rs. 847 + FREE Shipping | Rs. 847 + FREE Shipping |Mtech G22 (Black)|MTECH G22 Black Dual SIM 8GB GSM Mobile Phone"
       ]
      },
      {
       "output_type": "stream",
       "stream": "stdout",
       "text": [
        "\n",
        " Rs. 25,999 + FREE Shipping | Rs. 24,000 + FREE Shipping |Lenovo K900 (Steel Grey, with 32 GB)|Lenovo K900 32GB (Steel Grey)"
       ]
      },
      {
       "output_type": "stream",
       "stream": "stdout",
       "text": [
        "\n",
        " Rs. 2,097 + FREE Shipping | Rs. 2,097 + FREE Shipping |Mtech Sharp (Cyan)|MTECH SHARP :16 GB BLACK 3.5 INCH TOUCH MOBILE WITH INBUILT WHATS APP AND FB"
       ]
      },
      {
       "output_type": "stream",
       "stream": "stdout",
       "text": [
        "\n",
        " Rs. 6,999 + FREE Shipping | Rs. 7,800 + FREE Shipping |LG L60 X-147 (Black)|LG L60 X-147 - Black"
       ]
      },
      {
       "output_type": "stream",
       "stream": "stdout",
       "text": [
        "\n",
        " Rs. 7,821 + FREE Shipping | Rs. 8,199 + FREE Shipping |Karbonn Opium N9 (Black)|Karbonn Opium N9 (White)"
       ]
      },
      {
       "output_type": "stream",
       "stream": "stdout",
       "text": [
        "\n",
        " Rs. 1,199 + FREE Shipping | Rs. 999 + FREE Shipping |Karbonn K1 Rock (Black &amp; Silver)|Karbonn K1 Rock (Black-Red)"
       ]
      },
      {
       "output_type": "stream",
       "stream": "stdout",
       "text": [
        "\n",
        " Rs. 10,660 + FREE Shipping | Rs. 10,500 + FREE Shipping |Panasonic P41 (Black)|Panasonic P41 (Black)"
       ]
      },
      {
       "output_type": "stream",
       "stream": "stdout",
       "text": [
        "\n",
        " Rs. 2,899 + FREE Shipping | Rs. 2,699 + FREE Shipping |Spice Buddy N-300 (Midnight Black)|Spice Buddy 300"
       ]
      },
      {
       "output_type": "stream",
       "stream": "stdout",
       "text": [
        "\n",
        " Rs. 9,319 + FREE Shipping | Rs. 8,684 + FREE Shipping |XOLO Opus 2 Q1000 (Black)|Xolo Q1000 Opus2 (Black)"
       ]
      },
      {
       "output_type": "stream",
       "stream": "stdout",
       "text": [
        "\n",
        " Rs. 2,900 + FREE Shipping | Rs. 2,799 + FREE Shipping |Intex GC5050 (Blue)|INTEX GC 5050 Blue-Black"
       ]
      },
      {
       "output_type": "stream",
       "stream": "stdout",
       "text": [
        "\n",
        " Rs. 8,445 + FREE Shipping | Rs. 7,500 + FREE Shipping |LG Optimus L5 II E450 (Black)|LG Optimus L5 II E455 (White)"
       ]
      },
      {
       "output_type": "stream",
       "stream": "stdout",
       "text": [
        "\n",
        " Rs. 4,999 + FREE Shipping | Rs. 4,628 + FREE Shipping |Micromax Smarty 4.3 A65 (White)|Micromax BOLT A65 (White)"
       ]
      },
      {
       "output_type": "stream",
       "stream": "stdout",
       "text": [
        "\n",
        " Rs. 5,890 + FREE Shipping | Rs. 6,390 + FREE Shipping |Samsung Rex 90 S5292 (Gold Brown)|Samsung Rex 90 GT-S5292R (Gold Brown)"
       ]
      },
      {
       "output_type": "stream",
       "stream": "stdout",
       "text": [
        "\n",
        " Rs. 1,995 + FREE Shipping | Rs. 1,905 + FREE Shipping |Nokia 109 (Cyan)|Nokia 109 (Cyan)"
       ]
      },
      {
       "output_type": "stream",
       "stream": "stdout",
       "text": [
        "\n",
        " Rs. 5,014 + FREE Shipping | Rs. 5,249 + FREE Shipping |Nokia 301 (White)|Nokia 301 (Dual SIM, Black)"
       ]
      },
      {
       "output_type": "stream",
       "stream": "stdout",
       "text": [
        "\n",
        " Rs. 17,899 + FREE Shipping | Rs. 23,500 + FREE Shipping |Samsung Galaxy S4 Zoom SM-C1010 (Black)|Galaxy S4 Zoom SM-C101 (Black)"
       ]
      },
      {
       "output_type": "stream",
       "stream": "stdout",
       "text": [
        "\n",
        " Rs. 28,499 + FREE Shipping | Rs. 34,990 + FREE Shipping |LG G Pro E988 (Black)|LG Optimus G Pro E988 (Black)"
       ]
      },
      {
       "output_type": "stream",
       "stream": "stdout",
       "text": [
        "\n",
        " Rs. 1,769 + FREE Shipping | Rs. 1,769 + FREE Shipping |Forme Inspire V8 (Silver)|Forme V8 Dual Sim Cell Phone (Coffee )"
       ]
      },
      {
       "output_type": "stream",
       "stream": "stdout",
       "text": [
        "\n",
        " Rs. 6,381 + FREE Shipping | Rs. 6,939 + FREE Shipping |Micromax Canvas Entice A105 (Grey)|Micromax A105 Grey"
       ]
      },
      {
       "output_type": "stream",
       "stream": "stdout",
       "text": [
        "\n",
        " Rs. 1,099 + FREE Shipping | Rs. 945 + FREE Shipping |Karbonn K105s (White &amp; Silver)|Karbonn K105s (Black)"
       ]
      },
      {
       "output_type": "stream",
       "stream": "stdout",
       "text": [
        "\n",
        " Rs. 5,178 + FREE Shipping | Rs. 5,290 + FREE Shipping |XOLO A550S IPS (White)|XOLO A550S IPS DUAL SIM 5MP CAM (BLACK)"
       ]
      },
      {
       "output_type": "stream",
       "stream": "stdout",
       "text": [
        "\n",
        " Rs. 4,749 + FREE Shipping | Rs. 4,577 + FREE Shipping |Samsung Galaxy Star 2 SM-G130E (White)|Samsung Galaxy Star 2 SM-G130E (Iris Charcoal)"
       ]
      },
      {
       "output_type": "stream",
       "stream": "stdout",
       "text": [
        "\n",
        " Rs. 999 + FREE Shipping | Rs. 999 + FREE Shipping |Lava Arc 1star (Black &amp; Blue)|LAVA-ARC-1STAR"
       ]
      },
      {
       "output_type": "stream",
       "stream": "stdout",
       "text": [
        "\n",
        " Rs. 1,299 + FREE Shipping | Rs. 1,210 + FREE Shipping |Lava Arc 12i (Black)|Lava Arc 12i (Black)"
       ]
      },
      {
       "output_type": "stream",
       "stream": "stdout",
       "text": [
        "\n",
        " Rs. 749 + FREE Shipping | Rs. 747 + FREE Shipping |Forme Teddy T2 (Green)|Forme T2 Dual Sim Cell Phone (Green )"
       ]
      },
      {
       "output_type": "stream",
       "stream": "stdout",
       "text": [
        "\n",
        " Rs. 1,185 + FREE Shipping | Rs. 1,039 + FREE Shipping |Rage Duke_Green (Green)|Rage Duke (Black-Silver)"
       ]
      },
      {
       "output_type": "stream",
       "stream": "stdout",
       "text": [
        "\n",
        " Rs. 14,300 + FREE Shipping | Rs. 16,350 + FREE Shipping |Huawei Ascend G700 (White)|Huawei Ascend G700 Smartphone (Black)"
       ]
      },
      {
       "output_type": "stream",
       "stream": "stdout",
       "text": [
        "\n",
        " Rs. 14,490 + FREE Shipping | Rs. 19,990 + FREE Shipping |Karbonn Titanium S9 (Pearl White)|Karbonn Titanium S9 (Pearl White)"
       ]
      },
      {
       "output_type": "stream",
       "stream": "stdout",
       "text": [
        "\n",
        " Rs. 8,675 + FREE Shipping | Rs. 10,999 + FREE Shipping |iBall Andi 5T Cobalt 2|iBall Andi 5T Cobalt 2 (Black)"
       ]
      },
      {
       "output_type": "stream",
       "stream": "stdout",
       "text": [
        "\n",
        " Rs. 1,627 + FREE Shipping | Rs. 1,599 + FREE Shipping |Micromax X329 (Black)|Micromax X329 Dual Sim (Black)"
       ]
      },
      {
       "output_type": "stream",
       "stream": "stdout",
       "text": [
        "\n",
        " Rs. 1,030 + FREE Shipping | Rs. 999 + FREE Shipping |Lava ARC 11i (Black)|Lava Arc 11i (Black)"
       ]
      },
      {
       "output_type": "stream",
       "stream": "stdout",
       "text": [
        "\n",
        " Rs. 10,499 + FREE Shipping | Rs. 10,499 + FREE Shipping |Lava Iris Pro 30 (Grey)|Lava Iris Pro 30 (Grey)"
       ]
      },
      {
       "output_type": "stream",
       "stream": "stdout",
       "text": [
        "\n",
        " Rs. 3,198 + FREE Shipping | Rs. 2,999 + FREE Shipping |Spice Smart Flo Mettle 3.5X Mi-356 (White)|Spice Smart Flo Mettle 3.5X Mi-356 (White)"
       ]
      },
      {
       "output_type": "stream",
       "stream": "stdout",
       "text": [
        "\n",
        " Rs. 6,598 + FREE Shipping | Rs. 7,990 + FREE Shipping |Intex Aqua N8 (White)|Intex Aqua N8 (Black)"
       ]
      },
      {
       "output_type": "stream",
       "stream": "stdout",
       "text": [
        "\n",
        " Rs. 1,299 + FREE Shipping | Rs. 1,439 + FREE Shipping |Intex Jszz (Black)|Intex JAZZ (Black) Mobile Phone"
       ]
      },
      {
       "output_type": "stream",
       "stream": "stdout",
       "text": [
        "\n",
        " Rs. 1,899 + FREE Shipping | Rs. 1,490 + FREE Shipping |iBall Vogue 2.4 kk1 (Grey)|iBall Vogue2.4kk1 Grey + Silver"
       ]
      },
      {
       "output_type": "stream",
       "stream": "stdout",
       "text": [
        "\n",
        " Rs. 6,189 + FREE Shipping | Rs. 6,990 + FREE Shipping |Intex Aqua N2 (White)|Intex Aqua N2 (Black)"
       ]
      },
      {
       "output_type": "stream",
       "stream": "stdout",
       "text": [
        "\n",
        " Rs. 4,750 + FREE Shipping | Rs. 4,500 + FREE Shipping |LG E420 (Black)|LG E420 L1 II Dual Sim (Black)"
       ]
      },
      {
       "output_type": "stream",
       "stream": "stdout",
       "text": [
        "\n",
        " Rs. 1,030 + FREE Shipping | Rs. 999 + FREE Shipping |Micromax X098 (Red)|X098 Red"
       ]
      },
      {
       "output_type": "stream",
       "stream": "stdout",
       "text": [
        "\n",
        " Rs. 11,800 + FREE Shipping | Rs. 9,250 + FREE Shipping |Sony Xperia Miro (Black)|Sony Xperia Miro (Black)"
       ]
      },
      {
       "output_type": "stream",
       "stream": "stdout",
       "text": [
        "\n",
        " Rs. 8,800 + FREE Shipping | Rs. 8,997 + FREE Shipping |Nokia 515 (Black)|Nokia 515 (Dual SIM, White)"
       ]
      },
      {
       "output_type": "stream",
       "stream": "stdout",
       "text": [
        "\n",
        " Rs. 8,800 + FREE Shipping | Rs. 8,997 + FREE Shipping |Nokia 515 (Black)|Nokia 515 (Dual SIM, White)"
       ]
      },
      {
       "output_type": "stream",
       "stream": "stdout",
       "text": [
        "\n",
        " Rs. 7,999 + FREE Shipping | Rs. 8,690 + FREE Shipping |Intex Aqua i6 (White)|Intex Aqua i6 (White)"
       ]
      },
      {
       "output_type": "stream",
       "stream": "stdout",
       "text": [
        "\n",
        " Rs. 991 + FREE Shipping | Rs. 1,150 + FREE Shipping |Intex Nano 2 (Blue)|Intex Nano 2 (Red-Black) Mobile Phone"
       ]
      },
      {
       "output_type": "stream",
       "stream": "stdout",
       "text": [
        "\n",
        " Rs. 1,090 + FREE Shipping | Rs. 1,210 + FREE Shipping |Micromax X096 (White)|Micromax X096 (Black)"
       ]
      },
      {
       "output_type": "stream",
       "stream": "stdout",
       "text": [
        "\n",
        " Rs. 10,007 + FREE Shipping | Rs. 9,699 + FREE Shipping |Karbonn Titanium S7 (Black)|Karbonn Titanium S7 (Black)"
       ]
      },
      {
       "output_type": "stream",
       "stream": "stdout",
       "text": [
        "\n",
        " Rs. 1,219 + FREE Shipping | Rs. 1,215 + FREE Shipping |Intex Alpha Mobile (Black &amp; Red)|INTEX ALPHA (Red-Black) Mobile Phone With 1 year Manufacturer Warranty"
       ]
      },
      {
       "output_type": "stream",
       "stream": "stdout",
       "text": [
        "\n",
        " Rs. 999 + FREE Shipping | Rs. 999 + FREE Shipping |Intex Nano Star (Black)|INTEX NANO STAR (RED-BLACK) MOBILE PHONE"
       ]
      },
      {
       "output_type": "stream",
       "stream": "stdout",
       "text": [
        "\n",
        " Rs. 26,499 + FREE Shipping | Rs. 30,250 + FREE Shipping |Samsung Galaxy S5 Mini (Copper Gold)|Samsung Galaxy S5 Mini Dual Sim (Black)"
       ]
      },
      {
       "output_type": "stream",
       "stream": "stdout",
       "text": [
        "\n",
        " Rs. 11,299 + FREE Shipping | Rs. 11,390 + FREE Shipping |Huawei Ascend G6 (Black)|Huawei Ascend G6 (White)"
       ]
      },
      {
       "output_type": "stream",
       "stream": "stdout",
       "text": [
        "\n",
        " Rs. 1,445 + FREE Shipping | Rs. 1,460 + FREE Shipping |Intex Kobra (Silver)|Intex Kobra (Blue)"
       ]
      },
      {
       "output_type": "stream",
       "stream": "stdout",
       "text": [
        "\n",
        " Rs. 1,358 + FREE Shipping | Rs. 1,404 + FREE Shipping |Micromax X251 (Grey)|Micromax X251 (Gray)"
       ]
      },
      {
       "output_type": "stream",
       "stream": "stdout",
       "text": [
        "\n",
        " Rs. 4,299 + FREE Shipping | Rs. 4,490 + FREE Shipping |Spice Stellar Glide Mi-438 (Silver)|Spice Stellar Glide | Mi-438 | Silver"
       ]
      },
      {
       "output_type": "stream",
       "stream": "stdout",
       "text": [
        "\n",
        " Rs. 2,999 + FREE Shipping | Rs. 2,790 + FREE Shipping |Intex Cloud X2 Cloud X2 (Black)|Intex Cloud X2 (Black)"
       ]
      },
      {
       "output_type": "stream",
       "stream": "stdout",
       "text": [
        "\n",
        " Rs. 1,340 + FREE Shipping | Rs. 1,599 + FREE Shipping |Rage Silk_Blue (Black)|Rage Silk (Black-Blue)"
       ]
      },
      {
       "output_type": "stream",
       "stream": "stdout",
       "text": [
        "\n",
        " Rs. 947 + FREE Shipping | Rs. 947 + FREE Shipping |Mtech Rock (Black)|MTECH ROCK BLACK ORANGE 16GB DUAL SIM MOBILE"
       ]
      },
      {
       "output_type": "stream",
       "stream": "stdout",
       "text": [
        "\n",
        " Rs. 4,630 + FREE Shipping | Rs. 4,704 + FREE Shipping |Karbonn A99i (Black)|Karbonn A99i (Black)"
       ]
      },
      {
       "output_type": "stream",
       "stream": "stdout",
       "text": [
        "\n",
        " Rs. 1,997 + FREE Shipping | Rs. 1,997 + FREE Shipping |Mtech Jazz (White)|MTech Jazz 32Gb White Touch Mobile Phone"
       ]
      },
      {
       "output_type": "stream",
       "stream": "stdout",
       "text": [
        "\n",
        " Rs. 12,315 + FREE Shipping | Rs. 11,830 + FREE Shipping |Sony Xperia E3 DS (White)|Sony Xperia E3 (Dual SIM, Black)"
       ]
      },
      {
       "output_type": "stream",
       "stream": "stdout",
       "text": [
        "\n",
        " Rs. 6,899 + FREE Shipping | Rs. 6,599 + FREE Shipping |XOLO Q610S (Black)|Xolo Q610S White"
       ]
      },
      {
       "output_type": "stream",
       "stream": "stdout",
       "text": [
        "\n",
        " Rs. 8,220 + FREE Shipping | Rs. 8,628 + FREE Shipping |Panasonic Eluga A (Black)|Panasonic ELUGA A"
       ]
      },
      {
       "output_type": "stream",
       "stream": "stdout",
       "text": [
        "\n",
        " Rs. 1,949 + FREE Shipping | Rs. 1,949 + FREE Shipping |Lava Discover Neo (Grey)|Lava Discover Neo (Black)"
       ]
      },
      {
       "output_type": "stream",
       "stream": "stdout",
       "text": [
        "\n",
        " Rs. 3,749 + FREE Shipping | Rs. 3,749 + FREE Shipping |Lava Iris 402e (Grey)|Lava Iris 402e (Grey)"
       ]
      },
      {
       "output_type": "stream",
       "stream": "stdout",
       "text": [
        "\n",
        " Rs. 2,189 + FREE Shipping | Rs. 2,269 + FREE Shipping |Intex Crystal 3.5 (Blue)|Intex Crystal 3.5 (Blue) Dual Speaker Mobile Phone"
       ]
      },
      {
       "output_type": "stream",
       "stream": "stdout",
       "text": [
        "\n",
        " Rs. 1,379 + FREE Shipping | Rs. 1,519 + FREE Shipping |Intex Platinum Matrix (White)|INTEX PLATINUM MATRIX (BLACK) Mobile Phone"
       ]
      },
      {
       "output_type": "stream",
       "stream": "stdout",
       "text": [
        "\n",
        " Rs. 3,700 + FREE Shipping | Rs. 4,499 + FREE Shipping |Micromax Bolt A35 (Black)|Micromax Bolt A35 (Black)"
       ]
      },
      {
       "output_type": "stream",
       "stream": "stdout",
       "text": [
        "\n",
        " Rs. 4,499 + FREE Shipping | Rs. 3,699 + FREE Shipping |Micromax Smarty 3.0 A30 (Black)|Micromax Smarty 3.0 A30 (White)"
       ]
      },
      {
       "output_type": "stream",
       "stream": "stdout",
       "text": [
        "\n",
        " Rs. 1,699 + FREE Shipping | Rs. 1,490 + FREE Shipping |Karbonn K9 Plus (White Silver)|Karbonn K9 Plus (White)"
       ]
      },
      {
       "output_type": "stream",
       "stream": "stdout",
       "text": [
        "\n",
        " Rs. 5,249 + FREE Shipping | Rs. 5,248 + FREE Shipping |Lava Iris 415 (Black)|Lava 3G 415 (Black)"
       ]
      },
      {
       "output_type": "stream",
       "stream": "stdout",
       "text": [
        "\n",
        " Rs. 1,499 + FREE Shipping | Rs. 1,499 + FREE Shipping |Lava Spark 10 (Black &amp; Red)|Lava Spark 10 (Black-Red)"
       ]
      },
      {
       "output_type": "stream",
       "stream": "stdout",
       "text": [
        "\n",
        " Rs. 5,499 + FREE Shipping | Rs. 5,499 + FREE Shipping |Lava Iris 400Q (Black)|Lava Iris 400Q (Black)"
       ]
      },
      {
       "output_type": "stream",
       "stream": "stdout",
       "text": [
        "\n",
        " Rs. 897 + FREE Shipping | Rs. 897 + FREE Shipping |Mtech V22 (Black)|MTECH V22 White Dual SIM 16GB GSM Mobile Phone"
       ]
      },
      {
       "output_type": "stream",
       "stream": "stdout",
       "text": [
        "\n",
        " Rs. 1,020 + FREE Shipping | Rs. 1,799 + FREE Shipping |Micromax X101i (Yellow)|Micromax X101i (White)"
       ]
      },
      {
       "output_type": "stream",
       "stream": "stdout",
       "text": [
        "\n",
        " Rs. 793 + FREE Shipping | Rs. 793 + FREE Shipping |Forme Love One (Red)|Forme Love One Dual Sim Cell Phone (Black )"
       ]
      },
      {
       "output_type": "stream",
       "stream": "stdout",
       "text": [
        "\n",
        " Rs. 1,290 + FREE Shipping | Rs. 1,099 + FREE Shipping |Forme M22 (Black &amp; Red)|Forme M22 Dual Sim Cell Phone (Champagne )"
       ]
      },
      {
       "output_type": "stream",
       "stream": "stdout",
       "text": [
        "\n",
        " Rs. 997 + FREE Shipping | Rs. 997 + FREE Shipping |Mtech G 14 (Black)|MTECH G14 :16GB BLACK MULTIMEDIA MOBILE PHONE WITH WIRELESS FM"
       ]
      },
      {
       "output_type": "stream",
       "stream": "stdout",
       "text": [
        "\n",
        " Rs. 5,499 + FREE Shipping | Rs. 5,000 + FREE Shipping |Micromax Bling 3 A86 (White)|Micromax Bling 3 A86 (White)"
       ]
      },
      {
       "output_type": "stream",
       "stream": "stdout",
       "text": [
        "\n",
        " Rs. 4,625 + FREE Shipping | Rs. 5,350 + FREE Shipping |Karbonn A11+ (White)|Karbonn A11+(White)"
       ]
      },
      {
       "output_type": "stream",
       "stream": "stdout",
       "text": [
        "\n",
        " Rs. 4,499 + FREE Shipping | Rs. 4,000 + FREE Shipping |Videocon A24 (Black)|Videocon A24 (White)"
       ]
      },
      {
       "output_type": "stream",
       "stream": "stdout",
       "text": [
        "\n",
        " Rs. 1,449 + FREE Shipping | Rs. 1,449 + FREE Shipping |Lava KKT 42 (Black)|Lava KKT 42 (Black)"
       ]
      },
      {
       "output_type": "stream",
       "stream": "stdout",
       "text": [
        "\n",
        " Rs. 17,990 + FREE Shipping | Rs. 17,990 + FREE Shipping |OPPO Find 5 Mini R827 (Black)|OPPOFind 5 MiniR827 (White)"
       ]
      },
      {
       "output_type": "stream",
       "stream": "stdout",
       "text": [
        "\n",
        " Rs. 3,374 + FREE Shipping | Rs. 3,799 + FREE Shipping |Spice Smart Flo Mettle 4X Mi-426 (White)|Spice Smart Flo Mettle 4X Mi-426 (White)"
       ]
      },
      {
       "output_type": "stream",
       "stream": "stdout",
       "text": [
        "\n",
        " Rs. 4,115 + FREE Shipping | Rs. 3,994 + FREE Shipping |Micromax Bolt A61 (Grey)|Micromax Bolt A61 (Grey)"
       ]
      },
      {
       "output_type": "stream",
       "stream": "stdout",
       "text": [
        "\n",
        " Rs. 5,749 + FREE Shipping | Rs. 5,729 + FREE Shipping |Lava Iris 402+ (Ivory White)|Lava 3G 402+ (White)"
       ]
      },
      {
       "output_type": "stream",
       "stream": "stdout",
       "text": [
        "\n",
        " Rs. 8,000 + FREE Shipping | Rs. 10,595 + FREE Shipping |Videocon A 55q HD (Black)|Videocon A55Q HD (Black)"
       ]
      },
      {
       "output_type": "stream",
       "stream": "stdout",
       "text": [
        "\n",
        " Rs. 5,090 + FREE Shipping | Rs. 6,400 + FREE Shipping |Karbonn A16 (Black)|Karbonn A16-White"
       ]
      },
      {
       "output_type": "stream",
       "stream": "stdout",
       "text": [
        "\n",
        " Rs. 9,775 + FREE Shipping | Rs. 11,000 + FREE Shipping |Karbonn Titanium X (White)|Karbonn Titanium X (White)"
       ]
      },
      {
       "output_type": "stream",
       "stream": "stdout",
       "text": [
        "\n",
        " Rs. 6,300 + FREE Shipping | Rs. 6,390 + FREE Shipping |Karbonn A21+ (Black)|Karbonn A21 Plus (Black)"
       ]
      },
      {
       "output_type": "stream",
       "stream": "stdout",
       "text": [
        "\n",
        " Rs. 10,173 + FREE Shipping | Rs. 10,470 + FREE Shipping |Panasonic T21|Panasonic T21 (White)"
       ]
      },
      {
       "output_type": "stream",
       "stream": "stdout",
       "text": [
        "\n",
        " Rs. 10,287 + FREE Shipping | Rs. 9,539 + FREE Shipping |Videocon A53 (White Chrome)|Videocon A53 (White)"
       ]
      },
      {
       "output_type": "stream",
       "stream": "stdout",
       "text": [
        "\n",
        " Rs. 859 + FREE Shipping | Rs. 1,050 + FREE Shipping |Wynncom W106 (White)|WYNNCOM W 106 - (GREY)"
       ]
      },
      {
       "output_type": "stream",
       "stream": "stdout",
       "text": [
        "\n",
        " Rs. 1,595 + FREE Shipping | Rs. 1,599 + FREE Shipping |Lava Spark 246 (Grey)|Lava Spark 246 (Grey)"
       ]
      },
      {
       "output_type": "stream",
       "stream": "stdout",
       "text": [
        "\n",
        " Rs. 16,199 + FREE Shipping | Rs. 17,797 + FREE Shipping |Lenovo S930 (Silver)|Lenovo S930 (Silver)"
       ]
      },
      {
       "output_type": "stream",
       "stream": "stdout",
       "text": [
        "\n",
        " Rs. 1,010 + FREE Shipping | Rs. 1,225 + FREE Shipping |Micromax X086 (White)|Micromax X086 (White)"
       ]
      },
      {
       "output_type": "stream",
       "stream": "stdout",
       "text": [
        "\n",
        " Rs. 7,990 + FREE Shipping | Rs. 7,990 + FREE Shipping |OPPO Joy R1001 (Black)|OPPO Joy R1001 (Black)"
       ]
      },
      {
       "output_type": "stream",
       "stream": "stdout",
       "text": [
        "\n",
        " Rs. 4,099 + FREE Shipping | Rs. 4,990 + FREE Shipping |Intex Cloud X4 Cloud X4 (Black)|Intex Cloud X4 (White)"
       ]
      },
      {
       "output_type": "stream",
       "stream": "stdout",
       "text": [
        "\n",
        " Rs. 1,197 + FREE Shipping | Rs. 1,197 + FREE Shipping |Mtech L2 L2 (Black)|MTECH L2 :16 GB BLACK GREY MOBILE WITH INBUILT WHATS APP AND WIRELESS FM"
       ]
      },
      {
       "output_type": "stream",
       "stream": "stdout",
       "text": [
        "\n",
        " Rs. 2,897 + FREE Shipping | Rs. 2,897 + FREE Shipping |Mtech A6 Infinity (Black)|MTECH A6 INFINITY WHITE 32 GB DUAL CAMERA 3.5INCH SMART PHONE"
       ]
      },
      {
       "output_type": "stream",
       "stream": "stdout",
       "text": [
        "\n",
        " Rs. 5,829 + FREE Shipping | Rs. 5,489 + FREE Shipping |Intex Aqua Style (Black &amp; Silver)|Intex Smart Phone Aqua Style"
       ]
      },
      {
       "output_type": "stream",
       "stream": "stdout",
       "text": [
        "\n",
        " Rs. 5,199 + FREE Shipping | Rs. 5,199 + FREE Shipping |Forme Onionn K8066 (Black)|Forme Onion cell Phone (Black)"
       ]
      },
      {
       "output_type": "stream",
       "stream": "stdout",
       "text": [
        "\n",
        " Rs. 11,800 + FREE Shipping | Rs. 12,389 + FREE Shipping |iBall 5S Cobalt 3 Andi (Gold)|iBall Andi cobalt3 with octa core"
       ]
      },
      {
       "output_type": "stream",
       "stream": "stdout",
       "text": [
        "\n",
        " Rs. 11,490 + FREE Shipping | Rs. 10,989 + FREE Shipping |Sony Xperia E3 SS (White)|Sony Xperia E3 (Single SIM, Black)"
       ]
      },
      {
       "output_type": "stream",
       "stream": "stdout",
       "text": [
        "\n",
        " Rs. 4,729 + FREE Shipping | Rs. 4,729 + FREE Shipping |Karbonn Opium N7 (Black)|Karbonn Opium N7 (Black)"
       ]
      },
      {
       "output_type": "stream",
       "stream": "stdout",
       "text": [
        "\n",
        " Rs. 1,499 + FREE Shipping | Rs. 1,499 + FREE Shipping |Lava KKT 34star (Black &amp; Red)|Lava Kkt34 Star (Black-Red)"
       ]
      },
      {
       "output_type": "stream",
       "stream": "stdout",
       "text": [
        "\n",
        " Rs. 2,099 + FREE Shipping | Rs. 2,099 + FREE Shipping |Lava Discover 136S (Champagne)|Lava Discover 136s (Champagne)"
       ]
      },
      {
       "output_type": "stream",
       "stream": "stdout",
       "text": [
        "\n",
        " Rs. 14,990 + FREE Shipping | Rs. 14,990 + FREE Shipping |OPPO Yoyo R2001 (White)|OPPO Yoyo R2001 (White)"
       ]
      },
      {
       "output_type": "stream",
       "stream": "stdout",
       "text": [
        "\n",
        " Rs. 1,059 + FREE Shipping | Rs. 1,149 + FREE Shipping |Forme D516 (Black)|Forme D516 Dual Sim Cell Phone (Champagne)"
       ]
      },
      {
       "output_type": "stream",
       "stream": "stdout",
       "text": [
        "\n",
        " Rs. 26,667 + FREE Shipping | Rs. 34,990 + FREE Shipping |LG Optimus G E975 (Blue)|LG Optimus G E975 (Blue)"
       ]
      },
      {
       "output_type": "stream",
       "stream": "stdout",
       "text": [
        "\n",
        " Rs. 2,680 + FREE Shipping | Rs. 2,600 + FREE Shipping |Karbonn KC540 (White)|Karbon K540 White"
       ]
      },
      {
       "output_type": "stream",
       "stream": "stdout",
       "text": [
        "\n",
        " Rs. 8,599 + FREE Shipping | Rs. 9,999 + FREE Shipping |Lenovo S720 (White)|Lenovo Ideaphone S720 (White)"
       ]
      },
      {
       "output_type": "stream",
       "stream": "stdout",
       "text": [
        "\n",
        " Rs. 9,099 + FREE Shipping | Rs. 12,900 + FREE Shipping |Alcatel Scribe OT8000d (Black)|Alcatel One Touch 8000D (Black)"
       ]
      },
      {
       "output_type": "stream",
       "stream": "stdout",
       "text": [
        "\n",
        " Rs. 4,125 + FREE Shipping | Rs. 3,995 + FREE Shipping |Spice Stellar 360|Spice Stellar 360 (White)"
       ]
      },
      {
       "output_type": "stream",
       "stream": "stdout",
       "text": [
        "\n",
        " Rs. 9,190 + FREE Shipping | Rs. 8,950 + FREE Shipping |XOLO Q900S (Black)|Xolo Q900s Black"
       ]
      },
      {
       "output_type": "stream",
       "stream": "stdout",
       "text": [
        "\n",
        " Rs. 3,849 + FREE Shipping | Rs. 3,849 + FREE Shipping |Lava Iris 360 Music (Black)|Lava Iris 360 Music (Black)"
       ]
      },
      {
       "output_type": "stream",
       "stream": "stdout",
       "text": [
        "\n",
        " Rs. 7,777 + FREE Shipping | Rs. 9,999 + FREE Shipping |Rage OPS 80d (Black)|OptimaSmart OPS-80D (White)"
       ]
      },
      {
       "output_type": "stream",
       "stream": "stdout",
       "text": [
        "\n",
        " Rs. 999 + FREE Shipping | Rs. 1,049 + FREE Shipping |Forme Surprise S11 (Red)|Forme S11 Dual Sim Cell Phone (Black )"
       ]
      },
      {
       "output_type": "stream",
       "stream": "stdout",
       "text": [
        "\n",
        " Rs. 797 + FREE Shipping | Rs. 799 + FREE Shipping |Forme Energy D9 (Black)|Forme D9 Dual Sim Cell Phone (Black )"
       ]
      },
      {
       "output_type": "stream",
       "stream": "stdout",
       "text": [
        "\n",
        " Rs. 10,190 + FREE Shipping | Rs. 12,590 + FREE Shipping |Micromax Canvas Ego A113 (Grey)|Micromax Canvas Ego A113 (Grey)"
       ]
      },
      {
       "output_type": "stream",
       "stream": "stdout",
       "text": [
        "\n",
        " Rs. 31,990 + FREE Shipping | Rs. 31,990 + FREE Shipping |OPPO Find 7a X9006 (White)|OPPO Find 7a (White)"
       ]
      },
      {
       "output_type": "stream",
       "stream": "stdout",
       "text": [
        "\n",
        " Rs. 1,629 + FREE Shipping | Rs. 1,629 + FREE Shipping |Lava KKT 45 (Blue)|Lava KKT 45 -Blue"
       ]
      },
      {
       "output_type": "stream",
       "stream": "stdout",
       "text": [
        "\n"
       ]
      }
     ],
     "prompt_number": 122
    },
    {
     "cell_type": "code",
     "collapsed": false,
     "input": [
      "j.close()\n",
      "\n"
     ],
     "language": "python",
     "metadata": {},
     "outputs": [],
     "prompt_number": 123
    },
    {
     "cell_type": "code",
     "collapsed": false,
     "input": [
      "import pandas as pd"
     ],
     "language": "python",
     "metadata": {},
     "outputs": [],
     "prompt_number": 124
    },
    {
     "cell_type": "code",
     "collapsed": false,
     "input": [
      "data=pd.read_csv(filename,sep=\"|\",header=None)"
     ],
     "language": "python",
     "metadata": {},
     "outputs": [],
     "prompt_number": 127
    },
    {
     "cell_type": "code",
     "collapsed": false,
     "input": [
      "data.columns=[\"flip_price\",\"amazon_price\",\"product_flip\",\"product_amazon\"]\n"
     ],
     "language": "python",
     "metadata": {},
     "outputs": [],
     "prompt_number": 128
    },
    {
     "cell_type": "code",
     "collapsed": false,
     "input": [
      "data[data.product_flip==data.product_amazon]\n",
      "data.flip_price= data.flip_price.map(lambda x: int(x.split(\"+\")[0].split(\".\")[1].replace(\",\",\"\")))\n",
      "data.amazon_price= data.amazon_price.map(lambda x: int(x.split(\"+\")[0].split(\".\")[1].replace(\",\",\"\")))\n"
     ],
     "language": "python",
     "metadata": {},
     "outputs": [],
     "prompt_number": 129
    },
    {
     "cell_type": "code",
     "collapsed": false,
     "input": [
      "from __future__ import division\n",
      "data['price_diff']=(data.flip_price - data.amazon_price)/data.amazon_price*100"
     ],
     "language": "python",
     "metadata": {},
     "outputs": [],
     "prompt_number": 130
    },
    {
     "cell_type": "code",
     "collapsed": false,
     "input": [
      "import numpy as np\n",
      "np.mean(data[data.product_flip==data.product_amazon].price_diff)"
     ],
     "language": "python",
     "metadata": {},
     "outputs": [
      {
       "metadata": {},
       "output_type": "pyout",
       "prompt_number": 131,
       "text": [
        "-1.6449841891276002"
       ]
      }
     ],
     "prompt_number": 131
    },
    {
     "cell_type": "code",
     "collapsed": false,
     "input": [
      "data"
     ],
     "language": "python",
     "metadata": {},
     "outputs": [
      {
       "html": [
        "<div style=\"max-height:1000px;max-width:1500px;overflow:auto;\">\n",
        "<table border=\"1\" class=\"dataframe\">\n",
        "  <thead>\n",
        "    <tr style=\"text-align: right;\">\n",
        "      <th></th>\n",
        "      <th>flip_price</th>\n",
        "      <th>amazon_price</th>\n",
        "      <th>product_flip</th>\n",
        "      <th>product_amazon</th>\n",
        "      <th>price_diff</th>\n",
        "    </tr>\n",
        "  </thead>\n",
        "  <tbody>\n",
        "    <tr>\n",
        "      <th>0  </th>\n",
        "      <td>  5499</td>\n",
        "      <td>  5799</td>\n",
        "      <td>                                   Nokia X (Black)</td>\n",
        "      <td>                         Nokia X (Dual SIM, White)</td>\n",
        "      <td> -5.173306</td>\n",
        "    </tr>\n",
        "    <tr>\n",
        "      <th>1  </th>\n",
        "      <td>  8629</td>\n",
        "      <td>  8199</td>\n",
        "      <td>                                  Nokia XL (Black)</td>\n",
        "      <td>                        Nokia XL (Black, Dual SIM)</td>\n",
        "      <td>  5.244542</td>\n",
        "    </tr>\n",
        "    <tr>\n",
        "      <th>2  </th>\n",
        "      <td> 35489</td>\n",
        "      <td> 37140</td>\n",
        "      <td>                   Samsung Galaxy S5 (Copper Gold)</td>\n",
        "      <td>                Samsung Galaxy S5 (Charcoal Black)</td>\n",
        "      <td> -4.445342</td>\n",
        "    </tr>\n",
        "    <tr>\n",
        "      <th>3  </th>\n",
        "      <td>  7729</td>\n",
        "      <td>  9698</td>\n",
        "      <td>             Samsung Galaxy S Duos 2 S7582 (Black)</td>\n",
        "      <td>     Samsung Galaxy S Duos 2 GT-S7582 (Pure White)</td>\n",
        "      <td>-20.303155</td>\n",
        "    </tr>\n",
        "    <tr>\n",
        "      <th>4  </th>\n",
        "      <td>  1906</td>\n",
        "      <td>  1927</td>\n",
        "      <td>                                 Nokia 108 (White)</td>\n",
        "      <td>                       Nokia 108 (Dual SIM, White)</td>\n",
        "      <td> -1.089777</td>\n",
        "    </tr>\n",
        "    <tr>\n",
        "      <th>5  </th>\n",
        "      <td>  1906</td>\n",
        "      <td>  1927</td>\n",
        "      <td>                                 Nokia 108 (White)</td>\n",
        "      <td>                       Nokia 108 (Dual SIM, Black)</td>\n",
        "      <td> -1.089777</td>\n",
        "    </tr>\n",
        "    <tr>\n",
        "      <th>6  </th>\n",
        "      <td> 17922</td>\n",
        "      <td> 18185</td>\n",
        "      <td>                    Samsung Galaxy Grand 2 (White)</td>\n",
        "      <td>                    Samsung Galaxy Grand 2 (Black)</td>\n",
        "      <td> -1.446247</td>\n",
        "    </tr>\n",
        "    <tr>\n",
        "      <th>7  </th>\n",
        "      <td>  9020</td>\n",
        "      <td>  8979</td>\n",
        "      <td>                Nokia Lumia 630 Single SIM (White)</td>\n",
        "      <td>               Nokia Lumia 630 (Single SIM, White)</td>\n",
        "      <td>  0.456621</td>\n",
        "    </tr>\n",
        "    <tr>\n",
        "      <th>8  </th>\n",
        "      <td>  9450</td>\n",
        "      <td>  9590</td>\n",
        "      <td>                  Nokia Lumia 630 Dual Sim (Black)</td>\n",
        "      <td>                 Nokia Lumia 630 (Black, Dual SIM)</td>\n",
        "      <td> -1.459854</td>\n",
        "    </tr>\n",
        "    <tr>\n",
        "      <th>9  </th>\n",
        "      <td>  6499</td>\n",
        "      <td>  6755</td>\n",
        "      <td> Micromax Unite 2 A106 with 8 GB ROM (White, wi...</td>\n",
        "      <td>                Micromax Unite 2 A106 (Green, 8GB)</td>\n",
        "      <td> -3.789785</td>\n",
        "    </tr>\n",
        "    <tr>\n",
        "      <th>10 </th>\n",
        "      <td> 13300</td>\n",
        "      <td> 12999</td>\n",
        "      <td>                           Nokia Lumia 625 (Black)</td>\n",
        "      <td>                           Nokia Lumia 625 (White)</td>\n",
        "      <td>  2.315563</td>\n",
        "    </tr>\n",
        "    <tr>\n",
        "      <th>11 </th>\n",
        "      <td>  2599</td>\n",
        "      <td>  2890</td>\n",
        "      <td>                                   Nokia 220 (Red)</td>\n",
        "      <td>                      Nokia 220 (Dual SIM, Yellow)</td>\n",
        "      <td>-10.069204</td>\n",
        "    </tr>\n",
        "    <tr>\n",
        "      <th>12 </th>\n",
        "      <td>  7212</td>\n",
        "      <td>  6637</td>\n",
        "      <td> Micromax Canvas Doodle 3 A102 with 1 GB RAM (W...</td>\n",
        "      <td>    Micromax Canvas Doodle 3 A102 (White, 1GB RAM)</td>\n",
        "      <td>  8.663553</td>\n",
        "    </tr>\n",
        "    <tr>\n",
        "      <th>13 </th>\n",
        "      <td>  9788</td>\n",
        "      <td>  9995</td>\n",
        "      <td>                             Sony Xperia M (White)</td>\n",
        "      <td>                 Sony Xperia M (Single SIM, White)</td>\n",
        "      <td> -2.071036</td>\n",
        "    </tr>\n",
        "    <tr>\n",
        "      <th>14 </th>\n",
        "      <td> 39990</td>\n",
        "      <td> 38415</td>\n",
        "      <td>                            Sony Xperia Z2 (Black)</td>\n",
        "      <td>                           Sony Xperia Z2 (Purple)</td>\n",
        "      <td>  4.099961</td>\n",
        "    </tr>\n",
        "    <tr>\n",
        "      <th>15 </th>\n",
        "      <td> 34999</td>\n",
        "      <td> 29000</td>\n",
        "      <td>               Apple iPhone 5C (Green, with 16 GB)</td>\n",
        "      <td>                    Apple iPhone 5c (Yellow, 16GB)</td>\n",
        "      <td> 20.686207</td>\n",
        "    </tr>\n",
        "    <tr>\n",
        "      <th>16 </th>\n",
        "      <td>  3832</td>\n",
        "      <td>  3832</td>\n",
        "      <td>                            Nokia Asha 501 (White)</td>\n",
        "      <td>                   Nokia Asha 501 (Dual SIM, Cyan)</td>\n",
        "      <td>  0.000000</td>\n",
        "    </tr>\n",
        "    <tr>\n",
        "      <th>17 </th>\n",
        "      <td>  6999</td>\n",
        "      <td>  8999</td>\n",
        "      <td>                             Nokia Lumia 520 (Red)</td>\n",
        "      <td>                           Nokia Lumia 520 (Black)</td>\n",
        "      <td>-22.224692</td>\n",
        "    </tr>\n",
        "    <tr>\n",
        "      <th>18 </th>\n",
        "      <td> 23839</td>\n",
        "      <td> 25990</td>\n",
        "      <td>          Apple iPhone 5C (8 GB) (Blue, with 8 GB)</td>\n",
        "      <td>                       Apple iPhone 5c (Blue, 8GB)</td>\n",
        "      <td> -8.276260</td>\n",
        "    </tr>\n",
        "    <tr>\n",
        "      <th>19 </th>\n",
        "      <td>  4710</td>\n",
        "      <td>  4808</td>\n",
        "      <td>                            Nokia Asha 502 (Black)</td>\n",
        "      <td>                    Nokia Asha 502 (Dual SIM, Red)</td>\n",
        "      <td> -2.038270</td>\n",
        "    </tr>\n",
        "    <tr>\n",
        "      <th>20 </th>\n",
        "      <td>  8249</td>\n",
        "      <td>  8115</td>\n",
        "      <td> Micromax Canvas 2 Colors A120 with 8 GB ROM (W...</td>\n",
        "      <td>             Micromax Canvas 2 Colours A120 (Grey)</td>\n",
        "      <td>  1.651263</td>\n",
        "    </tr>\n",
        "    <tr>\n",
        "      <th>21 </th>\n",
        "      <td> 14564</td>\n",
        "      <td> 14700</td>\n",
        "      <td> Samsung Galaxy Grand Neo GT-I9060 (Midnight Bl...</td>\n",
        "      <td>                  Samsung Galaxy Grand Neo (White)</td>\n",
        "      <td> -0.925170</td>\n",
        "    </tr>\n",
        "    <tr>\n",
        "      <th>22 </th>\n",
        "      <td>  3621</td>\n",
        "      <td>  3680</td>\n",
        "      <td>                  Nokia 206 (Black, with Dual SIM)</td>\n",
        "      <td>                                  Nokia 206 (Cyan)</td>\n",
        "      <td> -1.603261</td>\n",
        "    </tr>\n",
        "    <tr>\n",
        "      <th>23 </th>\n",
        "      <td> 36900</td>\n",
        "      <td> 36395</td>\n",
        "      <td>                Apple iPhone 5S (Gold, with 16 GB)</td>\n",
        "      <td>                Apple iPhone 5s (Space Grey, 16GB)</td>\n",
        "      <td>  1.387553</td>\n",
        "    </tr>\n",
        "    <tr>\n",
        "      <th>24 </th>\n",
        "      <td>  3832</td>\n",
        "      <td>  3832</td>\n",
        "      <td>                           Nokia Asha 501 (Yellow)</td>\n",
        "      <td>                  Nokia Asha 501 (Dual SIM, White)</td>\n",
        "      <td>  0.000000</td>\n",
        "    </tr>\n",
        "    <tr>\n",
        "      <th>25 </th>\n",
        "      <td> 18100</td>\n",
        "      <td> 17549</td>\n",
        "      <td>               Micromax Canvas Knight A350 (Black)</td>\n",
        "      <td>               Micromax Canvas Knight A350 (Black)</td>\n",
        "      <td>  3.139780</td>\n",
        "    </tr>\n",
        "    <tr>\n",
        "      <th>26 </th>\n",
        "      <td> 35688</td>\n",
        "      <td> 35990</td>\n",
        "      <td>                          Nokia Lumia 1520 (Black)</td>\n",
        "      <td>                          Nokia Lumia 1520 (White)</td>\n",
        "      <td> -0.839122</td>\n",
        "    </tr>\n",
        "    <tr>\n",
        "      <th>27 </th>\n",
        "      <td>  5470</td>\n",
        "      <td>  5490</td>\n",
        "      <td>    Samsung Galaxy Star Pro S7262 (Midnight Black)</td>\n",
        "      <td>          Samsung Galaxy Star Pro GT-S7262 (White)</td>\n",
        "      <td> -0.364299</td>\n",
        "    </tr>\n",
        "    <tr>\n",
        "      <th>28 </th>\n",
        "      <td>  3544</td>\n",
        "      <td>  3571</td>\n",
        "      <td>                           Nokia Asha 500 (Yellow)</td>\n",
        "      <td>                       Nokia Mobile Asha 500 White</td>\n",
        "      <td> -0.756091</td>\n",
        "    </tr>\n",
        "    <tr>\n",
        "      <th>29 </th>\n",
        "      <td>  6900</td>\n",
        "      <td>  7000</td>\n",
        "      <td>        Samsung Galaxy Trend S7392 (Ceramic White)</td>\n",
        "      <td>   Samsung Galaxy Trend (Dual SIM, Midnight Black)</td>\n",
        "      <td> -1.428571</td>\n",
        "    </tr>\n",
        "    <tr>\n",
        "      <th>...</th>\n",
        "      <td>...</td>\n",
        "      <td>...</td>\n",
        "      <td>...</td>\n",
        "      <td>...</td>\n",
        "      <td>...</td>\n",
        "    </tr>\n",
        "    <tr>\n",
        "      <th>391</th>\n",
        "      <td>   859</td>\n",
        "      <td>  1050</td>\n",
        "      <td>                              Wynncom W106 (White)</td>\n",
        "      <td>                            WYNNCOM W 106 - (GREY)</td>\n",
        "      <td>-18.190476</td>\n",
        "    </tr>\n",
        "    <tr>\n",
        "      <th>392</th>\n",
        "      <td>  1595</td>\n",
        "      <td>  1599</td>\n",
        "      <td>                             Lava Spark 246 (Grey)</td>\n",
        "      <td>                             Lava Spark 246 (Grey)</td>\n",
        "      <td> -0.250156</td>\n",
        "    </tr>\n",
        "    <tr>\n",
        "      <th>393</th>\n",
        "      <td> 16199</td>\n",
        "      <td> 17797</td>\n",
        "      <td>                              Lenovo S930 (Silver)</td>\n",
        "      <td>                              Lenovo S930 (Silver)</td>\n",
        "      <td> -8.979041</td>\n",
        "    </tr>\n",
        "    <tr>\n",
        "      <th>394</th>\n",
        "      <td>  1010</td>\n",
        "      <td>  1225</td>\n",
        "      <td>                             Micromax X086 (White)</td>\n",
        "      <td>                             Micromax X086 (White)</td>\n",
        "      <td>-17.551020</td>\n",
        "    </tr>\n",
        "    <tr>\n",
        "      <th>395</th>\n",
        "      <td>  7990</td>\n",
        "      <td>  7990</td>\n",
        "      <td>                            OPPO Joy R1001 (Black)</td>\n",
        "      <td>                            OPPO Joy R1001 (Black)</td>\n",
        "      <td>  0.000000</td>\n",
        "    </tr>\n",
        "    <tr>\n",
        "      <th>396</th>\n",
        "      <td>  4099</td>\n",
        "      <td>  4990</td>\n",
        "      <td>                   Intex Cloud X4 Cloud X4 (Black)</td>\n",
        "      <td>                            Intex Cloud X4 (White)</td>\n",
        "      <td>-17.855711</td>\n",
        "    </tr>\n",
        "    <tr>\n",
        "      <th>397</th>\n",
        "      <td>  1197</td>\n",
        "      <td>  1197</td>\n",
        "      <td>                               Mtech L2 L2 (Black)</td>\n",
        "      <td> MTECH L2 :16 GB BLACK GREY MOBILE WITH INBUILT...</td>\n",
        "      <td>  0.000000</td>\n",
        "    </tr>\n",
        "    <tr>\n",
        "      <th>398</th>\n",
        "      <td>  2897</td>\n",
        "      <td>  2897</td>\n",
        "      <td>                         Mtech A6 Infinity (Black)</td>\n",
        "      <td> MTECH A6 INFINITY WHITE 32 GB DUAL CAMERA 3.5I...</td>\n",
        "      <td>  0.000000</td>\n",
        "    </tr>\n",
        "    <tr>\n",
        "      <th>399</th>\n",
        "      <td>  5829</td>\n",
        "      <td>  5489</td>\n",
        "      <td>             Intex Aqua Style (Black &amp;amp; Silver)</td>\n",
        "      <td>                      Intex Smart Phone Aqua Style</td>\n",
        "      <td>  6.194207</td>\n",
        "    </tr>\n",
        "    <tr>\n",
        "      <th>400</th>\n",
        "      <td>  5199</td>\n",
        "      <td>  5199</td>\n",
        "      <td>                        Forme Onionn K8066 (Black)</td>\n",
        "      <td>                    Forme Onion cell Phone (Black)</td>\n",
        "      <td>  0.000000</td>\n",
        "    </tr>\n",
        "    <tr>\n",
        "      <th>401</th>\n",
        "      <td> 11800</td>\n",
        "      <td> 12389</td>\n",
        "      <td>                     iBall 5S Cobalt 3 Andi (Gold)</td>\n",
        "      <td>                 iBall Andi cobalt3 with octa core</td>\n",
        "      <td> -4.754217</td>\n",
        "    </tr>\n",
        "    <tr>\n",
        "      <th>402</th>\n",
        "      <td> 11490</td>\n",
        "      <td> 10989</td>\n",
        "      <td>                         Sony Xperia E3 SS (White)</td>\n",
        "      <td>                Sony Xperia E3 (Single SIM, Black)</td>\n",
        "      <td>  4.559105</td>\n",
        "    </tr>\n",
        "    <tr>\n",
        "      <th>403</th>\n",
        "      <td>  4729</td>\n",
        "      <td>  4729</td>\n",
        "      <td>                          Karbonn Opium N7 (Black)</td>\n",
        "      <td>                          Karbonn Opium N7 (Black)</td>\n",
        "      <td>  0.000000</td>\n",
        "    </tr>\n",
        "    <tr>\n",
        "      <th>404</th>\n",
        "      <td>  1499</td>\n",
        "      <td>  1499</td>\n",
        "      <td>                 Lava KKT 34star (Black &amp;amp; Red)</td>\n",
        "      <td>                       Lava Kkt34 Star (Black-Red)</td>\n",
        "      <td>  0.000000</td>\n",
        "    </tr>\n",
        "    <tr>\n",
        "      <th>405</th>\n",
        "      <td>  2099</td>\n",
        "      <td>  2099</td>\n",
        "      <td>                    Lava Discover 136S (Champagne)</td>\n",
        "      <td>                    Lava Discover 136s (Champagne)</td>\n",
        "      <td>  0.000000</td>\n",
        "    </tr>\n",
        "    <tr>\n",
        "      <th>406</th>\n",
        "      <td> 14990</td>\n",
        "      <td> 14990</td>\n",
        "      <td>                           OPPO Yoyo R2001 (White)</td>\n",
        "      <td>                           OPPO Yoyo R2001 (White)</td>\n",
        "      <td>  0.000000</td>\n",
        "    </tr>\n",
        "    <tr>\n",
        "      <th>407</th>\n",
        "      <td>  1059</td>\n",
        "      <td>  1149</td>\n",
        "      <td>                                Forme D516 (Black)</td>\n",
        "      <td>        Forme D516 Dual Sim Cell Phone (Champagne)</td>\n",
        "      <td> -7.832898</td>\n",
        "    </tr>\n",
        "    <tr>\n",
        "      <th>408</th>\n",
        "      <td> 26667</td>\n",
        "      <td> 34990</td>\n",
        "      <td>                          LG Optimus G E975 (Blue)</td>\n",
        "      <td>                          LG Optimus G E975 (Blue)</td>\n",
        "      <td>-23.786796</td>\n",
        "    </tr>\n",
        "    <tr>\n",
        "      <th>409</th>\n",
        "      <td>  2680</td>\n",
        "      <td>  2600</td>\n",
        "      <td>                             Karbonn KC540 (White)</td>\n",
        "      <td>                                 Karbon K540 White</td>\n",
        "      <td>  3.076923</td>\n",
        "    </tr>\n",
        "    <tr>\n",
        "      <th>410</th>\n",
        "      <td>  8599</td>\n",
        "      <td>  9999</td>\n",
        "      <td>                               Lenovo S720 (White)</td>\n",
        "      <td>                     Lenovo Ideaphone S720 (White)</td>\n",
        "      <td>-14.001400</td>\n",
        "    </tr>\n",
        "    <tr>\n",
        "      <th>411</th>\n",
        "      <td>  9099</td>\n",
        "      <td> 12900</td>\n",
        "      <td>                    Alcatel Scribe OT8000d (Black)</td>\n",
        "      <td>                   Alcatel One Touch 8000D (Black)</td>\n",
        "      <td>-29.465116</td>\n",
        "    </tr>\n",
        "    <tr>\n",
        "      <th>412</th>\n",
        "      <td>  4125</td>\n",
        "      <td>  3995</td>\n",
        "      <td>                                 Spice Stellar 360</td>\n",
        "      <td>                         Spice Stellar 360 (White)</td>\n",
        "      <td>  3.254068</td>\n",
        "    </tr>\n",
        "    <tr>\n",
        "      <th>413</th>\n",
        "      <td>  9190</td>\n",
        "      <td>  8950</td>\n",
        "      <td>                                XOLO Q900S (Black)</td>\n",
        "      <td>                                  Xolo Q900s Black</td>\n",
        "      <td>  2.681564</td>\n",
        "    </tr>\n",
        "    <tr>\n",
        "      <th>414</th>\n",
        "      <td>  3849</td>\n",
        "      <td>  3849</td>\n",
        "      <td>                       Lava Iris 360 Music (Black)</td>\n",
        "      <td>                       Lava Iris 360 Music (Black)</td>\n",
        "      <td>  0.000000</td>\n",
        "    </tr>\n",
        "    <tr>\n",
        "      <th>415</th>\n",
        "      <td>  7777</td>\n",
        "      <td>  9999</td>\n",
        "      <td>                              Rage OPS 80d (Black)</td>\n",
        "      <td>                       OptimaSmart OPS-80D (White)</td>\n",
        "      <td>-22.222222</td>\n",
        "    </tr>\n",
        "    <tr>\n",
        "      <th>416</th>\n",
        "      <td>   999</td>\n",
        "      <td>  1049</td>\n",
        "      <td>                          Forme Surprise S11 (Red)</td>\n",
        "      <td>            Forme S11 Dual Sim Cell Phone (Black )</td>\n",
        "      <td> -4.766444</td>\n",
        "    </tr>\n",
        "    <tr>\n",
        "      <th>417</th>\n",
        "      <td>   797</td>\n",
        "      <td>   799</td>\n",
        "      <td>                           Forme Energy D9 (Black)</td>\n",
        "      <td>             Forme D9 Dual Sim Cell Phone (Black )</td>\n",
        "      <td> -0.250313</td>\n",
        "    </tr>\n",
        "    <tr>\n",
        "      <th>418</th>\n",
        "      <td> 10190</td>\n",
        "      <td> 12590</td>\n",
        "      <td>                   Micromax Canvas Ego A113 (Grey)</td>\n",
        "      <td>                   Micromax Canvas Ego A113 (Grey)</td>\n",
        "      <td>-19.062748</td>\n",
        "    </tr>\n",
        "    <tr>\n",
        "      <th>419</th>\n",
        "      <td> 31990</td>\n",
        "      <td> 31990</td>\n",
        "      <td>                        OPPO Find 7a X9006 (White)</td>\n",
        "      <td>                              OPPO Find 7a (White)</td>\n",
        "      <td>  0.000000</td>\n",
        "    </tr>\n",
        "    <tr>\n",
        "      <th>420</th>\n",
        "      <td>  1629</td>\n",
        "      <td>  1629</td>\n",
        "      <td>                                Lava KKT 45 (Blue)</td>\n",
        "      <td>                                 Lava KKT 45 -Blue</td>\n",
        "      <td>  0.000000</td>\n",
        "    </tr>\n",
        "  </tbody>\n",
        "</table>\n",
        "<p>421 rows \u00d7 5 columns</p>\n",
        "</div>"
       ],
       "metadata": {},
       "output_type": "pyout",
       "prompt_number": 132,
       "text": [
        "     flip_price  amazon_price                                       product_flip                                     product_amazon  price_diff\n",
        "0          5499          5799                                    Nokia X (Black)                          Nokia X (Dual SIM, White)   -5.173306\n",
        "1          8629          8199                                   Nokia XL (Black)                         Nokia XL (Black, Dual SIM)    5.244542\n",
        "2         35489         37140                    Samsung Galaxy S5 (Copper Gold)                 Samsung Galaxy S5 (Charcoal Black)   -4.445342\n",
        "3          7729          9698              Samsung Galaxy S Duos 2 S7582 (Black)      Samsung Galaxy S Duos 2 GT-S7582 (Pure White)  -20.303155\n",
        "4          1906          1927                                  Nokia 108 (White)                        Nokia 108 (Dual SIM, White)   -1.089777\n",
        "5          1906          1927                                  Nokia 108 (White)                        Nokia 108 (Dual SIM, Black)   -1.089777\n",
        "6         17922         18185                     Samsung Galaxy Grand 2 (White)                     Samsung Galaxy Grand 2 (Black)   -1.446247\n",
        "7          9020          8979                 Nokia Lumia 630 Single SIM (White)                Nokia Lumia 630 (Single SIM, White)    0.456621\n",
        "8          9450          9590                   Nokia Lumia 630 Dual Sim (Black)                  Nokia Lumia 630 (Black, Dual SIM)   -1.459854\n",
        "9          6499          6755  Micromax Unite 2 A106 with 8 GB ROM (White, wi...                 Micromax Unite 2 A106 (Green, 8GB)   -3.789785\n",
        "10        13300         12999                            Nokia Lumia 625 (Black)                            Nokia Lumia 625 (White)    2.315563\n",
        "11         2599          2890                                    Nokia 220 (Red)                       Nokia 220 (Dual SIM, Yellow)  -10.069204\n",
        "12         7212          6637  Micromax Canvas Doodle 3 A102 with 1 GB RAM (W...     Micromax Canvas Doodle 3 A102 (White, 1GB RAM)    8.663553\n",
        "13         9788          9995                              Sony Xperia M (White)                  Sony Xperia M (Single SIM, White)   -2.071036\n",
        "14        39990         38415                             Sony Xperia Z2 (Black)                            Sony Xperia Z2 (Purple)    4.099961\n",
        "15        34999         29000                Apple iPhone 5C (Green, with 16 GB)                     Apple iPhone 5c (Yellow, 16GB)   20.686207\n",
        "16         3832          3832                             Nokia Asha 501 (White)                    Nokia Asha 501 (Dual SIM, Cyan)    0.000000\n",
        "17         6999          8999                              Nokia Lumia 520 (Red)                            Nokia Lumia 520 (Black)  -22.224692\n",
        "18        23839         25990           Apple iPhone 5C (8 GB) (Blue, with 8 GB)                        Apple iPhone 5c (Blue, 8GB)   -8.276260\n",
        "19         4710          4808                             Nokia Asha 502 (Black)                     Nokia Asha 502 (Dual SIM, Red)   -2.038270\n",
        "20         8249          8115  Micromax Canvas 2 Colors A120 with 8 GB ROM (W...              Micromax Canvas 2 Colours A120 (Grey)    1.651263\n",
        "21        14564         14700  Samsung Galaxy Grand Neo GT-I9060 (Midnight Bl...                   Samsung Galaxy Grand Neo (White)   -0.925170\n",
        "22         3621          3680                   Nokia 206 (Black, with Dual SIM)                                   Nokia 206 (Cyan)   -1.603261\n",
        "23        36900         36395                 Apple iPhone 5S (Gold, with 16 GB)                 Apple iPhone 5s (Space Grey, 16GB)    1.387553\n",
        "24         3832          3832                            Nokia Asha 501 (Yellow)                   Nokia Asha 501 (Dual SIM, White)    0.000000\n",
        "25        18100         17549                Micromax Canvas Knight A350 (Black)                Micromax Canvas Knight A350 (Black)    3.139780\n",
        "26        35688         35990                           Nokia Lumia 1520 (Black)                           Nokia Lumia 1520 (White)   -0.839122\n",
        "27         5470          5490     Samsung Galaxy Star Pro S7262 (Midnight Black)           Samsung Galaxy Star Pro GT-S7262 (White)   -0.364299\n",
        "28         3544          3571                            Nokia Asha 500 (Yellow)                        Nokia Mobile Asha 500 White   -0.756091\n",
        "29         6900          7000         Samsung Galaxy Trend S7392 (Ceramic White)    Samsung Galaxy Trend (Dual SIM, Midnight Black)   -1.428571\n",
        "..          ...           ...                                                ...                                                ...         ...\n",
        "391         859          1050                               Wynncom W106 (White)                             WYNNCOM W 106 - (GREY)  -18.190476\n",
        "392        1595          1599                              Lava Spark 246 (Grey)                              Lava Spark 246 (Grey)   -0.250156\n",
        "393       16199         17797                               Lenovo S930 (Silver)                               Lenovo S930 (Silver)   -8.979041\n",
        "394        1010          1225                              Micromax X086 (White)                              Micromax X086 (White)  -17.551020\n",
        "395        7990          7990                             OPPO Joy R1001 (Black)                             OPPO Joy R1001 (Black)    0.000000\n",
        "396        4099          4990                    Intex Cloud X4 Cloud X4 (Black)                             Intex Cloud X4 (White)  -17.855711\n",
        "397        1197          1197                                Mtech L2 L2 (Black)  MTECH L2 :16 GB BLACK GREY MOBILE WITH INBUILT...    0.000000\n",
        "398        2897          2897                          Mtech A6 Infinity (Black)  MTECH A6 INFINITY WHITE 32 GB DUAL CAMERA 3.5I...    0.000000\n",
        "399        5829          5489              Intex Aqua Style (Black &amp; Silver)                       Intex Smart Phone Aqua Style    6.194207\n",
        "400        5199          5199                         Forme Onionn K8066 (Black)                     Forme Onion cell Phone (Black)    0.000000\n",
        "401       11800         12389                      iBall 5S Cobalt 3 Andi (Gold)                  iBall Andi cobalt3 with octa core   -4.754217\n",
        "402       11490         10989                          Sony Xperia E3 SS (White)                 Sony Xperia E3 (Single SIM, Black)    4.559105\n",
        "403        4729          4729                           Karbonn Opium N7 (Black)                           Karbonn Opium N7 (Black)    0.000000\n",
        "404        1499          1499                  Lava KKT 34star (Black &amp; Red)                        Lava Kkt34 Star (Black-Red)    0.000000\n",
        "405        2099          2099                     Lava Discover 136S (Champagne)                     Lava Discover 136s (Champagne)    0.000000\n",
        "406       14990         14990                            OPPO Yoyo R2001 (White)                            OPPO Yoyo R2001 (White)    0.000000\n",
        "407        1059          1149                                 Forme D516 (Black)         Forme D516 Dual Sim Cell Phone (Champagne)   -7.832898\n",
        "408       26667         34990                           LG Optimus G E975 (Blue)                           LG Optimus G E975 (Blue)  -23.786796\n",
        "409        2680          2600                              Karbonn KC540 (White)                                  Karbon K540 White    3.076923\n",
        "410        8599          9999                                Lenovo S720 (White)                      Lenovo Ideaphone S720 (White)  -14.001400\n",
        "411        9099         12900                     Alcatel Scribe OT8000d (Black)                    Alcatel One Touch 8000D (Black)  -29.465116\n",
        "412        4125          3995                                  Spice Stellar 360                          Spice Stellar 360 (White)    3.254068\n",
        "413        9190          8950                                 XOLO Q900S (Black)                                   Xolo Q900s Black    2.681564\n",
        "414        3849          3849                        Lava Iris 360 Music (Black)                        Lava Iris 360 Music (Black)    0.000000\n",
        "415        7777          9999                               Rage OPS 80d (Black)                        OptimaSmart OPS-80D (White)  -22.222222\n",
        "416         999          1049                           Forme Surprise S11 (Red)             Forme S11 Dual Sim Cell Phone (Black )   -4.766444\n",
        "417         797           799                            Forme Energy D9 (Black)              Forme D9 Dual Sim Cell Phone (Black )   -0.250313\n",
        "418       10190         12590                    Micromax Canvas Ego A113 (Grey)                    Micromax Canvas Ego A113 (Grey)  -19.062748\n",
        "419       31990         31990                         OPPO Find 7a X9006 (White)                               OPPO Find 7a (White)    0.000000\n",
        "420        1629          1629                                 Lava KKT 45 (Blue)                                  Lava KKT 45 -Blue    0.000000\n",
        "\n",
        "[421 rows x 5 columns]"
       ]
      }
     ],
     "prompt_number": 132
    },
    {
     "cell_type": "code",
     "collapsed": false,
     "input": [
      "%matplotlib inline\n",
      "\n",
      "import json\n",
      "\n",
      "import requests\n",
      "import pandas as pd\n",
      "import numpy as np\n",
      "import matplotlib.pyplot as plt\n",
      "\n",
      "pd.set_option('display.width', 500)\n",
      "pd.set_option('display.max_columns', 30)\n",
      "\n",
      "# set some nicer defaults for matplotlib\n",
      "from matplotlib import rcParams\n",
      "\n",
      "#these colors come from colorbrewer2.org. Each is an RGB triplet\n",
      "dark2_colors = [(0.10588235294117647, 0.6196078431372549, 0.4666666666666667),\n",
      "                (0.8509803921568627, 0.37254901960784315, 0.00784313725490196),\n",
      "                (0.4588235294117647, 0.4392156862745098, 0.7019607843137254),\n",
      "                (0.9058823529411765, 0.1607843137254902, 0.5411764705882353),\n",
      "                (0.4, 0.6509803921568628, 0.11764705882352941),\n",
      "                (0.9019607843137255, 0.6705882352941176, 0.00784313725490196),\n",
      "                (0.6509803921568628, 0.4627450980392157, 0.11372549019607843),\n",
      "                (0.4, 0.4, 0.4)]\n",
      "\n",
      "rcParams['figure.figsize'] = (10, 6)\n",
      "rcParams['figure.dpi'] = 150\n",
      "rcParams['axes.color_cycle'] = dark2_colors\n",
      "rcParams['lines.linewidth'] = 2\n",
      "rcParams['axes.grid'] = False\n",
      "rcParams['axes.facecolor'] = 'white'\n",
      "rcParams['font.size'] = 14\n",
      "rcParams['patch.edgecolor'] = 'none'\n",
      "\n",
      "\n",
      "def remove_border(axes=None, top=False, right=False, left=True, bottom=True):\n",
      "    \"\"\"\n",
      "    Minimize chartjunk by stripping out unnecessary plot borders and axis ticks\n",
      "    \n",
      "    The top/right/left/bottom keywords toggle whether the corresponding plot border is drawn\n",
      "    \"\"\"\n",
      "    ax = axes or plt.gca()\n",
      "    ax.spines['top'].set_visible(top)\n",
      "    ax.spines['right'].set_visible(right)\n",
      "    ax.spines['left'].set_visible(left)\n",
      "    ax.spines['bottom'].set_visible(bottom)\n",
      "    \n",
      "    #turn off all ticks\n",
      "    ax.yaxis.set_ticks_position('none')\n",
      "    ax.xaxis.set_ticks_position('none')\n",
      "    \n",
      "    #now re-enable visibles\n",
      "    if top:\n",
      "        ax.xaxis.tick_top()\n",
      "    if bottom:\n",
      "        ax.xaxis.tick_bottom()\n",
      "    if left:\n",
      "        ax.yaxis.tick_left()\n",
      "    if right:\n",
      "        ax.yaxis.tick_right()"
     ],
     "language": "python",
     "metadata": {},
     "outputs": [],
     "prompt_number": 105
    },
    {
     "cell_type": "code",
     "collapsed": false,
     "input": [
      "plt.hist(data.price_diff,bins=90)"
     ],
     "language": "python",
     "metadata": {},
     "outputs": [
      {
       "metadata": {},
       "output_type": "pyout",
       "prompt_number": 133,
       "text": [
        "(array([  1.,   0.,   0.,   0.,   0.,   0.,   0.,   0.,   1.,   0.,   1.,\n",
        "          1.,   1.,   3.,   1.,   2.,   3.,   2.,   4.,   1.,   7.,   4.,\n",
        "          2.,   5.,   3.,   3.,   5.,   1.,   4.,   2.,   7.,   6.,   7.,\n",
        "          6.,  10.,   6.,   9.,   2.,  11.,  16.,  17.,  13.,  16.,  20.,\n",
        "         69.,  19.,  14.,  22.,  11.,  14.,   6.,  10.,   9.,   7.,   5.,\n",
        "          3.,   1.,   4.,   3.,   5.,   4.,   2.,   2.,   0.,   0.,   2.,\n",
        "          1.,   0.,   0.,   0.,   0.,   0.,   3.,   1.,   0.,   0.,   0.,\n",
        "          0.,   0.,   0.,   0.,   0.,   0.,   0.,   0.,   0.,   0.,   0.,\n",
        "          0.,   1.]),\n",
        " array([-43.30183435, -42.3296849 , -41.35753544, -40.38538598,\n",
        "        -39.41323652, -38.44108707, -37.46893761, -36.49678815,\n",
        "        -35.5246387 , -34.55248924, -33.58033978, -32.60819033,\n",
        "        -31.63604087, -30.66389141, -29.69174196, -28.7195925 ,\n",
        "        -27.74744304, -26.77529359, -25.80314413, -24.83099467,\n",
        "        -23.85884521, -22.88669576, -21.9145463 , -20.94239684,\n",
        "        -19.97024739, -18.99809793, -18.02594847, -17.05379902,\n",
        "        -16.08164956, -15.1095001 , -14.13735065, -13.16520119,\n",
        "        -12.19305173, -11.22090228, -10.24875282,  -9.27660336,\n",
        "         -8.3044539 ,  -7.33230445,  -6.36015499,  -5.38800553,\n",
        "         -4.41585608,  -3.44370662,  -2.47155716,  -1.49940771,\n",
        "         -0.52725825,   0.44489121,   1.41704066,   2.38919012,\n",
        "          3.36133958,   4.33348903,   5.30563849,   6.27778795,\n",
        "          7.24993741,   8.22208686,   9.19423632,  10.16638578,\n",
        "         11.13853523,  12.11068469,  13.08283415,  14.0549836 ,\n",
        "         15.02713306,  15.99928252,  16.97143197,  17.94358143,\n",
        "         18.91573089,  19.88788034,  20.8600298 ,  21.83217926,\n",
        "         22.80432872,  23.77647817,  24.74862763,  25.72077709,\n",
        "         26.69292654,  27.665076  ,  28.63722546,  29.60937491,\n",
        "         30.58152437,  31.55367383,  32.52582328,  33.49797274,\n",
        "         34.4701222 ,  35.44227165,  36.41442111,  37.38657057,\n",
        "         38.35872003,  39.33086948,  40.30301894,  41.2751684 ,\n",
        "         42.24731785,  43.21946731,  44.19161677]),\n",
        " <a list of 90 Patch objects>)"
       ]
      },
      {
       "metadata": {},
       "output_type": "display_data",
       "png": "[encoded data removed]",
       "text": [
        "<matplotlib.figure.Figure at 0x1150813d0>"
       ]
      }
     ],
     "prompt_number": 133
    },
    {
     "cell_type": "code",
     "collapsed": false,
     "input": [
      "plt.scatter(data[data.amazon_price>=data.flip_price].amazon_price,data[data.amazon_price>=data.flip_price].flip_price,color=\"r\")\n",
      "plt.scatter(data[data.amazon_price<data.flip_price].amazon_price,data[data.amazon_price<data.flip_price].flip_price,color=\"g\")\n",
      " "
     ],
     "language": "python",
     "metadata": {},
     "outputs": [
      {
       "metadata": {},
       "output_type": "pyout",
       "prompt_number": 134,
       "text": [
        "<matplotlib.collections.PathCollection at 0x114fae910>"
       ]
      },
      {
       "metadata": {},
       "output_type": "display_data",
       "png": "[encoded data removed]",
       "text": [
        "<matplotlib.figure.Figure at 0x115436250>"
       ]
      }
     ],
     "prompt_number": 134
    },
    {
     "cell_type": "code",
     "collapsed": false,
     "input": [
      "#data[data.amazon_price>=data.flip_price][data.amazon_price>42000]\n",
      "\n",
      "data[data.price_diff>=+20]"
     ],
     "language": "python",
     "metadata": {},
     "outputs": [
      {
       "html": [
        "<div style=\"max-height:1000px;max-width:1500px;overflow:auto;\">\n",
        "<table border=\"1\" class=\"dataframe\">\n",
        "  <thead>\n",
        "    <tr style=\"text-align: right;\">\n",
        "      <th></th>\n",
        "      <th>flip_price</th>\n",
        "      <th>amazon_price</th>\n",
        "      <th>product_flip</th>\n",
        "      <th>product_amazon</th>\n",
        "      <th>price_diff</th>\n",
        "    </tr>\n",
        "  </thead>\n",
        "  <tbody>\n",
        "    <tr>\n",
        "      <th>15 </th>\n",
        "      <td> 34999</td>\n",
        "      <td> 29000</td>\n",
        "      <td>  Apple iPhone 5C (Green, with 16 GB)</td>\n",
        "      <td>              Apple iPhone 5c (Yellow, 16GB)</td>\n",
        "      <td> 20.686207</td>\n",
        "    </tr>\n",
        "    <tr>\n",
        "      <th>131</th>\n",
        "      <td> 15500</td>\n",
        "      <td> 12080</td>\n",
        "      <td>    Micromax Canvas Turbo A250 (Blue)</td>\n",
        "      <td> Micromax Canvas Turbo A250 (Pristine White)</td>\n",
        "      <td> 28.311258</td>\n",
        "    </tr>\n",
        "    <tr>\n",
        "      <th>134</th>\n",
        "      <td>  6339</td>\n",
        "      <td>  5000</td>\n",
        "      <td>                   XOLO A500S (Green)</td>\n",
        "      <td>                          Xolo A500s (White)</td>\n",
        "      <td> 26.780000</td>\n",
        "    </tr>\n",
        "    <tr>\n",
        "      <th>241</th>\n",
        "      <td>  6020</td>\n",
        "      <td>  4175</td>\n",
        "      <td>            Micromax Bolt A66 (White)</td>\n",
        "      <td>                   Micromax Bolt A66 (Black)</td>\n",
        "      <td> 44.191617</td>\n",
        "    </tr>\n",
        "    <tr>\n",
        "      <th>306</th>\n",
        "      <td>  1199</td>\n",
        "      <td>   999</td>\n",
        "      <td> Karbonn K1 Rock (Black &amp;amp; Silver)</td>\n",
        "      <td>                 Karbonn K1 Rock (Black-Red)</td>\n",
        "      <td> 20.020020</td>\n",
        "    </tr>\n",
        "    <tr>\n",
        "      <th>336</th>\n",
        "      <td>  1899</td>\n",
        "      <td>  1490</td>\n",
        "      <td>           iBall Vogue 2.4 kk1 (Grey)</td>\n",
        "      <td>             iBall Vogue2.4kk1 Grey + Silver</td>\n",
        "      <td> 27.449664</td>\n",
        "    </tr>\n",
        "    <tr>\n",
        "      <th>340</th>\n",
        "      <td> 11800</td>\n",
        "      <td>  9250</td>\n",
        "      <td>             Sony Xperia Miro (Black)</td>\n",
        "      <td>                    Sony Xperia Miro (Black)</td>\n",
        "      <td> 27.567568</td>\n",
        "    </tr>\n",
        "    <tr>\n",
        "      <th>367</th>\n",
        "      <td>  4499</td>\n",
        "      <td>  3699</td>\n",
        "      <td>      Micromax Smarty 3.0 A30 (Black)</td>\n",
        "      <td>             Micromax Smarty 3.0 A30 (White)</td>\n",
        "      <td> 21.627467</td>\n",
        "    </tr>\n",
        "  </tbody>\n",
        "</table>\n",
        "</div>"
       ],
       "metadata": {},
       "output_type": "pyout",
       "prompt_number": 139,
       "text": [
        "     flip_price  amazon_price                          product_flip                               product_amazon  price_diff\n",
        "15        34999         29000   Apple iPhone 5C (Green, with 16 GB)               Apple iPhone 5c (Yellow, 16GB)   20.686207\n",
        "131       15500         12080     Micromax Canvas Turbo A250 (Blue)  Micromax Canvas Turbo A250 (Pristine White)   28.311258\n",
        "134        6339          5000                    XOLO A500S (Green)                           Xolo A500s (White)   26.780000\n",
        "241        6020          4175             Micromax Bolt A66 (White)                    Micromax Bolt A66 (Black)   44.191617\n",
        "306        1199           999  Karbonn K1 Rock (Black &amp; Silver)                  Karbonn K1 Rock (Black-Red)   20.020020\n",
        "336        1899          1490            iBall Vogue 2.4 kk1 (Grey)              iBall Vogue2.4kk1 Grey + Silver   27.449664\n",
        "340       11800          9250              Sony Xperia Miro (Black)                     Sony Xperia Miro (Black)   27.567568\n",
        "367        4499          3699       Micromax Smarty 3.0 A30 (Black)              Micromax Smarty 3.0 A30 (White)   21.627467"
       ]
      }
     ],
     "prompt_number": 139
    },
    {
     "cell_type": "code",
     "collapsed": false,
     "input": [],
     "language": "python",
     "metadata": {},
     "outputs": []
    }
   ],
   "metadata": {}
  }
 ]
}