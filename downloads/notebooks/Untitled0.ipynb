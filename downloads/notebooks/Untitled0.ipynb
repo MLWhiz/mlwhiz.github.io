{
 "metadata": {
  "name": "",
  "signature": "sha256:d28ffeb7a9979309966a31fd8d9ed5f6a3cdaa1b42208cf88abb83de8ec6061c"
 },
 "nbformat": 3,
 "nbformat_minor": 0,
 "worksheets": [
  {
   "cells": [
    {
     "cell_type": "code",
     "collapsed": false,
     "input": [
      "## Using Distributed Cache to Include outside files\n",
      "## Giving Multiple Input Paths\n",
      "## Another Article\n",
      "## Iterative Mapreduce\n",
      "## Same Job runs again and again using a combination of Python and Mapreduce\n",
      "### Other Blogging Ideas for next week\n",
      "### On Linear Algebra\n",
      "### On Probability - Probability is Interesting.\n"
     ],
     "language": "python",
     "metadata": {},
     "outputs": [],
     "prompt_number": 1
    },
    {
     "cell_type": "markdown",
     "metadata": {},
     "source": [
      "<blockquote>\n",
      "<em style=\"text-align:right\">\"dasfafda\"\n",
      "</em>\n",
      "</blockquote>"
     ]
    },
    {
     "cell_type": "code",
     "collapsed": false,
     "input": [
      "# How Small Ideas could Give a Performance Boost"
     ],
     "language": "python",
     "metadata": {},
     "outputs": [],
     "prompt_number": 3
    },
    {
     "cell_type": "markdown",
     "metadata": {},
     "source": [
      "My daily work involves computing graphs and network statistics.\n",
      "I am working on entity resolution and a small idea could push you to higher efficiency and better performance.\n",
      "Compare nodes in a graph:\n",
      "1. Hashing - compare the people in ther own neighbourhoods. No need to compare people from alaska and NewYork.\n",
      "2. Load Balancing - an approach from (paper)\n",
      "Now this is Hadoop specific. We essentially want to do less comparisons in each reducer, so that work is properly distributed \n",
      "in the whole cluster. Some of the neighbourhoods may be large and thus may take a long time to compute.\n",
      "Lets use the Following formula\n",
      "    \n",
      "   $$\\binom{n+m}{2} = \\binom{n}{2} + \\binom{m}{2} + mn$$\n",
      "    \n",
      "<small>created using http://www.cs.princeton.edu/courses/archive/spr10/cos433/Latex/latex-guide.pdf</small>"
     ]
    },
    {
     "cell_type": "code",
     "collapsed": false,
     "input": [
      "### On Probability - Probability is Interesting. \n",
      "\n",
      "Vanderbilt Theorum\n",
      "Triangle Inequality\n",
      "Story Proofs\n",
      "Conditioning and How it is the soul of Statistics?\n"
     ],
     "language": "python",
     "metadata": {},
     "outputs": [
      {
       "ename": "SyntaxError",
       "evalue": "invalid syntax (<ipython-input-4-e093ef660244>, line 3)",
       "output_type": "pyerr",
       "traceback": [
        "\u001b[0;36m  File \u001b[0;32m\"<ipython-input-4-e093ef660244>\"\u001b[0;36m, line \u001b[0;32m3\u001b[0m\n\u001b[0;31m    Vanderbilt Theorum\u001b[0m\n\u001b[0m                     ^\u001b[0m\n\u001b[0;31mSyntaxError\u001b[0m\u001b[0;31m:\u001b[0m invalid syntax\n"
       ]
      }
     ],
     "prompt_number": 4
    },
    {
     "cell_type": "code",
     "collapsed": false,
     "input": [],
     "language": "python",
     "metadata": {},
     "outputs": []
    }
   ],
   "metadata": {}
  }
 ]
}