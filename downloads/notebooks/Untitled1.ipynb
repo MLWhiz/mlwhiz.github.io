{
 "metadata": {
  "name": "",
  "signature": "sha256:f061b0d60630380cb24ac3318b5f01614c5c8c76fddd74a589a28a95892c7c55"
 },
 "nbformat": 3,
 "nbformat_minor": 0,
 "worksheets": [
  {
   "cells": [
    {
     "cell_type": "code",
     "collapsed": false,
     "input": [
      "%%html\n",
      "<script type=\"text/javascript\" src=\"highlight/highlight.pack\"></script>"
     ],
     "language": "python",
     "metadata": {},
     "outputs": [
      {
       "html": [
        "<script type=\"text/javascript\" src=\"highlight/highlight.pack\"></script>"
       ],
       "metadata": {},
       "output_type": "display_data",
       "text": [
        "<IPython.core.display.HTML at 0x111ccb390>"
       ]
      }
     ],
     "prompt_number": 29
    },
    {
     "cell_type": "code",
     "collapsed": false,
     "input": [
      "from IPython.display import display,Javascript,HTML,display_html,display_javascript,JSON\n",
      "\n",
      "input_form = \"\"\"\n",
      "<link rel=\"stylesheet\" href=\"/theme/highlight/styles/default.css\">\n",
      "<script  type=\"text/javascript\" src=\"highlight/highlight.pack.js\"></script>\n",
      "<script>hljs.initHighlightingOnLoad();</script>\n",
      "\n",
      "<pre style=\"font-size:80%; padding:7px; margin:0em; background-color:#DACCCC;\">\n",
      "<code class=\"python\" style=\"background-color:#DACCCC;\">\n",
      "for x in range(0,78):\n",
      "    print x\n",
      "</code></pre>\n",
      "<script>hljs.initHighlightingOnLoad();</script>\n",
      "\"\"\"\n",
      "\n",
      "\n",
      "HTML(input_form )"
     ],
     "language": "python",
     "metadata": {},
     "outputs": [
      {
       "html": [
        "\n",
        "<link rel=\"stylesheet\" href=\"/theme/highlight/styles/default.css\">\n",
        "<script  type=\"text/javascript\" src=\"highlight/highlight.pack.js\"></script>\n",
        "<script>hljs.initHighlightingOnLoad();</script>\n",
        "\n",
        "<pre style=\"font-size:80%; padding:7px; margin:0em; background-color:#DACCCC;\">\n",
        "<code class=\"python\" style=\"background-color:#DACCCC;\">\n",
        "for x in range(0,78):\n",
        "    print x\n",
        "</code></pre>\n",
        "<script>hljs.initHighlightingOnLoad();</script>\n"
       ],
       "metadata": {},
       "output_type": "pyout",
       "prompt_number": 30,
       "text": [
        "<IPython.core.display.HTML at 0x111ccb690>"
       ]
      }
     ],
     "prompt_number": 30
    },
    {
     "cell_type": "markdown",
     "metadata": {},
     "source": [
      "<link rel=\"stylesheet\" href=\"/theme/highlight/styles/default.css\">\n",
      "%javascript\n",
      "<script src=\"highlight/highlight.pack.js\"></script>\n",
      "%javascript\n",
      "<script>hljs.initHighlightingOnLoad();</script>\n",
      "\n",
      "<pre style=\"font-size:80%; padding:7px; margin:0em; background-color:#DACCCC;\">\n",
      "<code class=\"python\" style=\"background-color:#DACCCC;\">\n",
      "for x in range(0,78):\n",
      "    print x\n",
      "</code></pre>"
     ]
    },
    {
     "cell_type": "markdown",
     "metadata": {},
     "source": [
      "\n",
      "some text\n",
      "\n",
      "    def foo():\n",
      "        print 'bar'\n",
      "        return 0\n",
      "\n",
      "some text"
     ]
    },
    {
     "cell_type": "code",
     "collapsed": false,
     "input": [
      "%%javascript\n",
      "hljs.initHighlightingOnLoad();"
     ],
     "language": "python",
     "metadata": {},
     "outputs": [
      {
       "javascript": [
        "hljs.initHighlightingOnLoad();"
       ],
       "metadata": {},
       "output_type": "display_data",
       "text": [
        "<IPython.core.display.Javascript at 0x111ccb150>"
       ]
      }
     ],
     "prompt_number": 18
    },
    {
     "cell_type": "code",
     "collapsed": false,
     "input": [
      "%%html\n",
      "<link rel=\"stylesheet\" href=\"/theme/highlight/styles/default.css\">\n",
      "\n",
      "\n",
      "<pre style=\"font-size:80%; padding:7px; margin:0em; background-color:#DACCCC;\">\n",
      "<code class=\"python\" style=\"background-color:#DACCCC;\">\n",
      "for x in range(0,78):\n",
      "    print x\n",
      "</code></pre>"
     ],
     "language": "python",
     "metadata": {},
     "outputs": [
      {
       "html": [
        "<link rel=\"stylesheet\" href=\"/theme/highlight/styles/default.css\">\n",
        "\n",
        "\n",
        "<pre style=\"font-size:80%; padding:7px; margin:0em; background-color:#DACCCC;\">\n",
        "<code class=\"python\" style=\"background-color:#DACCCC;\">\n",
        "for x in range(0,78):\n",
        "    print x\n",
        "</code></pre>"
       ],
       "metadata": {},
       "output_type": "display_data",
       "text": [
        "<IPython.core.display.HTML at 0x111ccb110>"
       ]
      }
     ],
     "prompt_number": 19
    },
    {
     "cell_type": "code",
     "collapsed": false,
     "input": [],
     "language": "python",
     "metadata": {},
     "outputs": []
    }
   ],
   "metadata": {}
  }
 ]
}