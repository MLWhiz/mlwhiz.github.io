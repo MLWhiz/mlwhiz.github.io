{
 "metadata": {
  "name": "",
  "signature": "sha256:7ec21f13e0d57c544bb285fa57b9595dcb6503ca31e5657b90cfcf59b1a9083a"
 },
 "nbformat": 3,
 "nbformat_minor": 0,
 "worksheets": [
  {
   "cells": [
    {
     "cell_type": "markdown",
     "metadata": {},
     "source": [
      "#Web Scraping And Data Exploration Using Python"
     ]
    },
    {
     "cell_type": "markdown",
     "metadata": {},
     "source": [
      "This is a simple illustration of using Pattern Module to scrape web data using Python. We will be scraping the data from imdb for the top TV Series along with their ratings\n",
      "\n",
      "We will be using this link for this:\n",
      "\n",
      "http://www.imdb.com/search/title?count=100&num_votes=5000,&ref_=gnr_tv_hr&sort=user_rating,desc&start=1&title_type=tv_series,mini_series\n",
      "\n",
      "This URL gives a list of top Rated TV Series which have number of votes atleast 5000. The Thing to note in this URL is the \"&start=\" parameter where we can specify which review should the list begin with. If we specify 1 we will get reviews starting from 1-100, if we specify 101 we get reviews from 101-200 and so on.\n",
      "\n",
      "Lets Start by importing some Python Modules that will be needed for Scraping Data:"
     ]
    },
    {
     "cell_type": "code",
     "collapsed": false,
     "input": [
      "import requests                     # This is a module that is used for getting html data from a webpage in the text format\n",
      "from pattern import web             # We use this module to parse through the dtaa that we loaded using requests"
     ],
     "language": "python",
     "metadata": {},
     "outputs": [],
     "prompt_number": 1
    },
    {
     "cell_type": "markdown",
     "metadata": {},
     "source": [
      "###Loading the data using requests and pattern\n",
      "So the modules are loaded at this point, next we will try to catch the url using python and put this into a dict in python. We will start with a single URL and then try to parse it using pattern module"
     ]
    },
    {
     "cell_type": "code",
     "collapsed": false,
     "input": [
      "url= \"http://www.imdb.com/search/title?count=100&num_votes=5000,&ref_=gnr_tv_hr&sort=user_rating,desc&start=1&title_type=tv_series,mini_series\"\n",
      "html_data = requests.get(url).text \n",
      "dom=web.Element(html_data)"
     ],
     "language": "python",
     "metadata": {},
     "outputs": [],
     "prompt_number": 7
    },
    {
     "cell_type": "markdown",
     "metadata": {},
     "source": [
      "###Parsing the data\n",
      "This is the data of Interest found out after some nspection of the html code. This is for a single TV Series Band of brothers, but if you are able to parse this you just have to move hrough a loop."
     ]
    },
    {
     "cell_type": "code",
     "collapsed": false,
     "input": [
      "<html>\n",
      "<td class=\"title\">\n",
      "<span class=\"wlb_wrapper\" data-tconst=\"tt0185906\" data-size=\"small\" data-caller-name=\"search\"></span>\n",
      "<a href=\"/title/tt0185906/\">Band of Brothers</a>\n",
      "<span class=\"year_type\">(2001 Mini-Series)</span><br />\n",
      "<div class=\"user_rating\">\n",
      "<div class=\"rating rating-list\" data-auth=\"BCYm-Mk2Ros7BTxsLNL2XJX_icfZVahNr1bE9-5Ajb2N3381yxcaNN4ZQqyrX7KgEFGqHWmwv10lv7lAnXyC8CCkh9hPqQfzwVTumCeRzjpnndW4_ft97qQkBYLUvFxYnFgR\" id=\"tt0185906|imdb|9.6|9.6|advsearch\" data-ga-identifier=\"advsearch\" title=\"Users rated this 9.6/10 (156,073 votes) - click stars to rate\">\n",
      "<span class=\"rating-bg\">&nbsp;</span>\n",
      "<span class=\"rating-imdb\" style=\"width: 134px\">&nbsp;</span>\n",
      "<span class=\"rating-stars\">\n",
      "<a href=\"/register/login?why=vote\" title=\"Register or login to rate this title\" rel=\"nofollow\"><span>1</span></a>\n",
      "<a href=\"/register/login?why=vote\" title=\"Register or login to rate this title\" rel=\"nofollow\"><span>2</span></a>\n",
      "<a href=\"/register/login?why=vote\" title=\"Register or login to rate this title\" rel=\"nofollow\"><span>3</span></a>\n",
      "<a href=\"/register/login?why=vote\" title=\"Register or login to rate this title\" rel=\"nofollow\"><span>4</span></a>\n",
      "<a href=\"/register/login?why=vote\" title=\"Register or login to rate this title\" rel=\"nofollow\"><span>5</span></a>\n",
      "<a href=\"/register/login?why=vote\" title=\"Register or login to rate this title\" rel=\"nofollow\"><span>6</span></a>\n",
      "<a href=\"/register/login?why=vote\" title=\"Register or login to rate this title\" rel=\"nofollow\"><span>7</span></a>\n",
      "<a href=\"/register/login?why=vote\" title=\"Register or login to rate this title\" rel=\"nofollow\"><span>8</span></a>\n",
      "<a href=\"/register/login?why=vote\" title=\"Register or login to rate this title\" rel=\"nofollow\"><span>9</span></a>\n",
      "<a href=\"/register/login?why=vote\" title=\"Register or login to rate this title\" rel=\"nofollow\"><span>10</span></a>\n",
      "</span>\n",
      "<span class=\"rating-rating\"><span class=\"value\">9.6</span><span class=\"grey\">/</span><span class=\"grey\">10</span></span>\n",
      "<span class=\"rating-cancel\"><a href=\"/title/tt0185906/vote?v=X;k=BCYm-Mk2Ros7BTxsLNL2XJX_icfZVahNr1bE9-5Ajb2N3381yxcaNN4ZQqyrX7KgEFGqHWmwv10lv7lAnXyC8CCkh9hPqQfzwVTumCeRzjpnndW4_ft97qQkBYLUvFxYnFgR\" title=\"Delete\" rel=\"nofollow\"><span>X</span></a></span>\n",
      "&nbsp;</div>\n",
      "</div>\n",
      "<span class=\"outline\">The story of Easy Company of the US Army 101st Airborne division and their mission in WWII Europe from Operation Overlord through V-J Day.</span>\n",
      "<span class=\"credit\">\n",
      "    With: <a href=\"/name/nm0342241/\">Scott Grimes</a>, <a href=\"/name/nm0500614/\">Matthew Leitch</a>, <a href=\"/name/nm0507073/\">Damian Lewis</a>\n",
      "</span>\n",
      "<span class=\"genre\"><a href=\"/genre/action\">Action</a> | <a href=\"/genre/drama\">Drama</a> | <a href=\"/genre/history\">History</a> | <a href=\"/genre/war\">War</a></span>\n",
      "<span class=\"certificate\"><span title=\"TV_MA\" class=\"us_tv_ma titlePageSprite\"></span></span>\n",
      "<span class=\"runtime\">705 mins.</span>\n",
      "</td>\n"
     ],
     "language": "python",
     "metadata": {},
     "outputs": []
    },
    {
     "cell_type": "markdown",
     "metadata": {},
     "source": [
      "Now we have loaded the data we need to parse it using the functions from pattern module.\n",
      "The main function in pattern module is the by_tag() function which lets you get all the elements with that particular tagname.\n",
      "For us the main interest is this \"td\" tag with class as \"title\". This \"td\" tag contains:\n",
      "1. Title in the \"a\" tag\n",
      "2. Rating in the \"span\" tag with class \"value\"\n",
      "3. Genres in the \"span\" tag with class \"genre\" and then looping through the \"a\" tags \n",
      "4. Runtime in \"span\" tag with class \"runtime\"\n",
      "5. Artists in \"span\" tag with class \"credit\" loop through \"a\" tags\n",
      "\n",
      "Now lets write some code to parse this data."
     ]
    },
    {
     "cell_type": "code",
     "collapsed": false,
     "input": [
      "for tv_series in dom.by_tag('td.title'):    \n",
      "    title = tv_series.by_tag('a')[0].content\n",
      "    genres = tv_series.by_tag('span.genre')[0].by_tag('a')\n",
      "    genres = [g.content for g in genres]\n",
      "    try:\n",
      "        runtime = tv_series.by_tag('span.runtime')[0].content\n",
      "    except:\n",
      "        runtime = \"NA\"\n",
      "    rating = tv_series.by_tag('span.value')[0].content\n",
      "    artists = tv_series.by_tag('span.credit')[0].by_tag('a')\n",
      "    artists = [a.content for a in artists]\n",
      "    print title, genres, runtime, rating, artists"
     ],
     "language": "python",
     "metadata": {},
     "outputs": []
    },
    {
     "cell_type": "markdown",
     "metadata": {},
     "source": [
      "Band of Brothers [u'Action', u'Drama', u'History', u'War'] 705 mins. 9.6 [u'Scott Grimes', u'Matthew Leitch', u'Damian Lewis']\n",
      "\n",
      "Breaking Bad [u'Crime', u'Drama', u'Thriller'] 45 mins. 9.6 [u'Bryan Cranston', u'Aaron Paul', u'Anna Gunn']\n",
      "\n",
      "Game of Thrones [u'Adventure', u'Drama', u'Fantasy'] 55 mins. 9.5 [u'Lena Headey', u'Peter Dinklage', u'Maisie Williams']"
     ]
    },
    {
     "cell_type": "markdown",
     "metadata": {},
     "source": [
      "So finally we are OK with parsing. We have understood the structure of the webpage, the tags and classes we will need to use and how to use pattern module to find data for a single page. Now lets use the power of for loops to get all the data."
     ]
    },
    {
     "cell_type": "markdown",
     "metadata": {},
     "source": [
      "###Getting Whole Data\n",
      "\n",
      "Lets Go through it the pythonic way. We will create functions and try to execute small chunks of code rather than doing it all at once. \n",
      "Lets first create a funcion that takes a start_val(for the start parameter) and returns a dom element."
     ]
    },
    {
     "cell_type": "code",
     "collapsed": false,
     "input": [
      "def get_dom(start_val):\n",
      "    url= \"http://www.imdb.com/search/title?count=100&num_votes=5000,&ref_=gnr_tv_hr&sort=user_rating,desc&start=\"+str(start_val)+\"&title_type=tv_series,mini_series\"\n",
      "    html_data = requests.get(url).text \n",
      "    dom=web.Element(html_data)\n",
      "    return dom"
     ],
     "language": "python",
     "metadata": {},
     "outputs": [],
     "prompt_number": 64
    },
    {
     "cell_type": "markdown",
     "metadata": {},
     "source": [
      "Now lets create a function parse_dom that takes as input dom an throws out a list containing all the data. The list is like this :\n",
      "\n",
      "[\n",
      "\n",
      "['Band of Brothers','Action|Drama|History|War','705 mins.','9.6','Scott Grimes|Matthew Leitch|Damian Lewis'],\n",
      "\n",
      "['Breaking Bad','Crime|Drama|Thriller','45 mins.', '9.6' ,'Bryan Cranston|Aaron Paul|Anna Gunn'],.....\n",
      "\n",
      "]"
     ]
    },
    {
     "cell_type": "code",
     "collapsed": false,
     "input": [
      "def parse_dom(dom):\n",
      "    result=[]\n",
      "    for tv_series in dom.by_tag('td.title'):    \n",
      "        title = tv_series.by_tag('a')[0].content\n",
      "        genres = tv_series.by_tag('span.genre')[0].by_tag('a')\n",
      "        genres = \"|\".join([g.content for g in genres])\n",
      "        try:\n",
      "            runtime = tv_series.by_tag('span.runtime')[0].content\n",
      "        except:\n",
      "            runtime = \"NA\"\n",
      "        rating = tv_series.by_tag('span.value')[0].content\n",
      "        artists = tv_series.by_tag('span.credit')[0].by_tag('a')\n",
      "        artists = \"|\".join([a.content for a in artists])\n",
      "        temp_res=[]\n",
      "        temp_res.extend([title, genres, runtime, rating, artists])\n",
      "        result.append(temp_res)\n",
      "    return result\n",
      "    "
     ],
     "language": "python",
     "metadata": {},
     "outputs": [],
     "prompt_number": 54
    },
    {
     "cell_type": "markdown",
     "metadata": {},
     "source": [
      "Now Lets Use these functions and a simple while loop to scrap all the pages\n",
      "    "
     ]
    },
    {
     "cell_type": "code",
     "collapsed": false,
     "input": [
      "i=1\n",
      "all_data = []\n",
      "while True:\n",
      "    dom = get_dom(i)\n",
      "    datalist=parse_dom(dom)\n",
      "    if len(datalist)==0:\n",
      "        break\n",
      "    all_data = all_data + parse_dom(dom)\n",
      "    i += 100"
     ],
     "language": "python",
     "metadata": {},
     "outputs": [],
     "prompt_number": 55
    },
    {
     "cell_type": "code",
     "collapsed": false,
     "input": [
      "print \"Total Elements:\" + str(len(all_data))\n",
      "print \"First Five Elements :\" + str(all_data[1:5])"
     ],
     "language": "python",
     "metadata": {},
     "outputs": [
      {
       "output_type": "stream",
       "stream": "stdout",
       "text": [
        "Total Elements:898\n",
        "First Five Elements :[[u'Breaking Bad', u'Crime|Drama|Thriller', u'45 mins.', u'9.6', u'Bryan Cranston|Aaron Paul|Anna Gunn'], [u'Game of Thrones', u'Adventure|Drama|Fantasy', u'55 mins.', u'9.5', u'Lena Headey|Peter Dinklage|Maisie Williams'], [u'Planet Earth', u'Documentary', u'570 mins.', u'9.5', u'David Attenborough|Sigourney Weaver|Huw Cordey'], [u'Cosmos: A SpaceTime Odyssey', u'Documentary', u'60 mins.', u'9.5', u'Neil deGrasse Tyson|Stoney Emshwiller|Piotr Michael']]\n"
       ]
      }
     ],
     "prompt_number": 63
    },
    {
     "cell_type": "markdown",
     "metadata": {},
     "source": [
      "Voila!!! The number of elements we had to scrap were 898 and We got all of them. And to tell you, IMDB is one of the worst written HTML's. So that's Great.\n",
      "\n",
      "In the next part of the tutorial we will run exploratory data analysis on this data using pandas and maplotlib. \n",
      "Till then keep learning."
     ]
    }
   ],
   "metadata": {}
  }
 ]
}