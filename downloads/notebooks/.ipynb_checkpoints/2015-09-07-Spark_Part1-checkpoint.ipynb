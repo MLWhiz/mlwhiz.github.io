{
 "metadata": {
  "name": "",
  "signature": "sha256:d54cc55f28c12306db16d68819928e27a53490a378088d29ac64d68f231b42cd"
 },
 "nbformat": 3,
 "nbformat_minor": 0,
 "worksheets": [
  {
   "cells": [
    {
     "cell_type": "markdown",
     "metadata": {},
     "source": [
      "# A Gentle Introduction To Spark With Python "
     ]
    },
    {
     "cell_type": "markdown",
     "metadata": {},
     "source": [
      "I generally have a use case for [Hadoop](https://hadoop.apache.org/) in my daily job. It has made my life easier in a sense that I am able to get results which I was not able to see with SQL queries. But still I find it painfully slow. \n",
      "I have to write procedural programs while I work. As in merge these two datasets and then filter and then merge another dataset and then filter using some condition and yada-yada. \n",
      "You get the gist. And in hadoop its painstakingly boring to do this. You have to write more than maybe 3 Mapreduce Jobs. One job will read the data line by line and write to the disk. \n",
      "\n",
      "There is a lot of data movement that happens in between that further affects the speed.\n",
      "Another thing I hate is that there is no straight way to pass files to mappers and reducers and that generally adds up another mapreduce job to the whole sequence.\n",
      "\n",
      "And that is just procedural tasks. To implement an iterative algorithm even after geting the whole logic of parallelization is again a challenge. There would be a lot of mapreduce tasks, a shell based driver program and a lot of unique thinking to bring everything together. And the running times are like crazy. Though sometimes it has its benefits:\n",
      "\n",
      "<div style=\"margin-top: 9px; margin-bottom: 10px;\">\n",
      "<center><img src=\"/images/compiling.png\"></center>\n",
      "</div>\n",
      "\n",
      "That makes me think about the whole way Hadoop is implemented. While at the time Hadoop appeared the RAM was costly. \n",
      "Now that is not the case. We already have 64GB machines in our Hadoop cluster. So is it really a good idea to not use a larger chunk of memory and read line by line. \n",
      "Also can we have something that allows us to keep a particular piece of data in the memory, So that the next time our program needs it it doesnt have to read it again and waste time. \n",
      "Wouldnt it be better if we have some variable that lets us keep the state our iterative algorithm is in.\n",
      "\n",
      "## The Solution?\n",
      "\n",
      "And here is where [Spark](http://spark.apache.org/) comes to rescue. Now working on Spark is very different from Hadoop but when you start using it you find that it makes things so much easier. You still do have to think in the mapreduce way sort of but the way the map and reduce steps are done are a little bit different. \n",
      "\n",
      "So lets first get Spark on our System (But keep in mind that for running spark in production environments you will\n",
      "need whole clusters set up. A liberty which you may or may not have at present)\n",
      "\n",
      "The best way that I found to install Spark is following the Apache Spark installation guidelines with the Apache Spark eDx [course](https://courses.edx.org/courses/BerkeleyX/CS100.1x/1T2015/courseware). It lets you get Spark in your system and work with Spark with iPython notebooks. Something I prefer a lot and find the best way to code in Python.\n",
      "\n",
      "The installation instructions can be found [HERE](https://courses.edx.org/courses/BerkeleyX/CS100.1x/1T2015/courseware/d1f293d0cb53466dbb5c0cd81f55b45b/920d3370060540c8b21d56f05c64bdda/). You may have to login int an edX account to follow these instructions, but it is worth it.\n",
      "\n",
      "So once you have gone through all the steps mentioned there and installed spark using these instructions, you would see something like this in your browser.\n",
      "\n",
      "<div style=\"margin-top: 9px; margin-bottom: 10px;\">\n",
      "<center><img src=\"/images/ipython_startup.png\"></center>\n",
      "</div>\n",
      "\n",
      "Ahh! so you have got Spark up and running now. That's actually like half the process. I like to learn by examples so let's get done with the Hello World of Distributed computing: The WordCount Program. \n"
     ]
    },
    {
     "cell_type": "markdown",
     "metadata": {},
     "source": [
      "<link rel=\"stylesheet\" href=\"/theme/highlight/styles/default.css\">\n",
      "<script src=\"/theme/highlight/highlight.pack.js\"></script>\n",
      "<script>hljs.initHighlightingOnLoad();</script>\n",
      "<pre style=\"font-size:80%; padding:7px; margin:0em; background-color:#000000;\">\n",
      "<code class=\"python\" style=\"background-color:#000000; color:#FFFFFF\">lines = sc.textFile(\"shakespeare.txt\")                   # Distribute the data - Create a RDD \n",
      "\n",
      "counts = (lines.flatMap(lambda x: x.split(' '))          # Create a list with all words\n",
      "                  .map(lambda x: (x, 1))                 # Create tuple (word,1)\n",
      "                  .reduceByKey(lambda x,y : x + y))      # reduce by key i.e. the word\n",
      "output = counts.take(10)                                 # get the output on local\n",
      "for (word, count) in output:                             # print output\n",
      "    print(\"%s: %i\" % (word, count))\n",
      "</code></pre>"
     ]
    },
    {
     "cell_type": "markdown",
     "metadata": {},
     "source": [
      "<div style=\"margin-top: 9px; margin-bottom: 10px;\">\n",
      "<center><img src=\"/images/wordcount_result.png\"></center>\n",
      "</div>"
     ]
    },
    {
     "cell_type": "markdown",
     "metadata": {},
     "source": [
      "So that is a small example. Pretty small code when you compare it with Hadoop. And most of the work gets done in the second command. \n",
      "Don't worry if you are not able to follow this yet as I need to tell you about the things that make Spark work.\n",
      "\n",
      "But before we get into Spark basics, Let us refresh some of our python Basics. Understanding Spark becomes a lot easier if you have used Lambda functions in Python.\n",
      "\n",
      "For those of you who haven't used it, below is a brief intro.\n",
      "\n",
      "## Lambda Functions in Python\n",
      "#### Map\n",
      "Map is used to map a function to a array or a list. Say you want to apply some function to every element in a list. You can do this by simply using a for loop but python lambda functions let you do this in a single line in Python."
     ]
    },
    {
     "cell_type": "markdown",
     "metadata": {},
     "source": [
      "<link rel=\"stylesheet\" href=\"/theme/highlight/styles/default.css\">\n",
      "<script src=\"/theme/highlight/highlight.pack.js\"></script>\n",
      "<script>hljs.initHighlightingOnLoad();</script>\n",
      "<pre style=\"font-size:80%; padding:7px; margin:0em; background-color:#000000;\">\n",
      "<code class=\"python\" style=\"background-color:#000000; color:#FFFFFF\">my_list = [1,2,3,4,5,6,7,8,9,10]\n",
      "# Lets say I want to square each term in my_list.\n",
      "squared_list = map(lambda x:x**2,my_list)\n",
      "print squared_list\n",
      "    <span style=\"background-color: #FFFFFF; color:#000000\">[1, 4, 9, 16, 25, 36, 49, 64, 81, 100]<span style=\"background-color: #FFFFFF; color:#000000\">\n",
      "</code></pre>"
     ]
    },
    {
     "cell_type": "markdown",
     "metadata": {},
     "source": [
      "In the above example you could think of map as a function which takes two arguments - A function and a list. It then applies the function to every element of the list. What lambda allows you to do is write an inline function. In here the part **\"lambda x:x\\*\\*2\"** defines a function that takes x as input and returns x^2.\n",
      "\n",
      "You could have also provided a proper function in place of lambda. For Example:"
     ]
    },
    {
     "cell_type": "markdown",
     "metadata": {},
     "source": [
      "<link rel=\"stylesheet\" href=\"/theme/highlight/styles/default.css\">\n",
      "<script src=\"/theme/highlight/highlight.pack.js\"></script>\n",
      "<script>hljs.initHighlightingOnLoad();</script>\n",
      "<pre style=\"font-size:80%; padding:7px; margin:0em; background-color:#000000;\">\n",
      "<code class=\"python\" style=\"background-color:#000000; color:#FFFFFF\">def squared(x):\n",
      "    return x**2\n",
      "<br>my_list = [1,2,3,4,5,6,7,8,9,10]\n",
      "# Lets say I want to square each term in my_list.\n",
      "squared_list = map(squared,my_list)\n",
      "print squared_list\n",
      "\n",
      "    <span style=\"background-color: #FFFFFF; color:#000000\">[1, 4, 9, 16, 25, 36, 49, 64, 81, 100]</span>\n",
      "</code></pre>"
     ]
    },
    {
     "cell_type": "markdown",
     "metadata": {},
     "source": [
      "The same result, but the lambda expressions make the code compact and a lot more readable. \n",
      "\n",
      "#### Filter\n",
      "\n",
      "The other function that is used extensively is the filter function. This function takes two arguments - A condition and the list to filter. If you want to filter your list using some condition you use filter."
     ]
    },
    {
     "cell_type": "markdown",
     "metadata": {},
     "source": [
      "<link rel=\"stylesheet\" href=\"/theme/highlight/styles/default.css\">\n",
      "<script src=\"/theme/highlight/highlight.pack.js\"></script>\n",
      "<script>hljs.initHighlightingOnLoad();</script>\n",
      "<pre style=\"font-size:80%; padding:7px; margin:0em; background-color:#000000;\">\n",
      "<code class=\"python\" style=\"background-color:#000000; color:#FFFFFF\">my_list = [1,2,3,4,5,6,7,8,9,10]\n",
      "# Lets say I want only the even numbers in my list.\n",
      "filtered_list = filter(lambda x:x%2==0,my_list)\n",
      "print filtered_list\n",
      "    <span style=\"background-color: #FFFFFF; color:#000000\">[2, 4, 6, 8, 10]</span>\n",
      "</code></pre>"
     ]
    },
    {
     "cell_type": "markdown",
     "metadata": {},
     "source": [
      "#### Reduce\n",
      "\n",
      "The next function is the reduce function. This function will be the workhorse in Spark. This function takes two arguments - a function to reduce that takes two arguments, and a list over which the reduce function is to be applied.\n"
     ]
    },
    {
     "cell_type": "markdown",
     "metadata": {},
     "source": [
      "<link rel=\"stylesheet\" href=\"/theme/highlight/styles/default.css\">\n",
      "<script src=\"/theme/highlight/highlight.pack.js\"></script>\n",
      "<script>hljs.initHighlightingOnLoad();</script>\n",
      "<pre style=\"font-size:80%; padding:7px; margin:0em; background-color:#000000;\">\n",
      "<code class=\"python\" style=\"background-color:#000000; color:#FFFFFF\">my_list = [1,2,3,4,5]\n",
      "\\# Lets say I want to sum all elements in my list.\n",
      "sum_list = reduce(lambda x,y:x+y,my_list)\n",
      "print sum_list\n",
      "\n",
      "    <span style=\"background-color: #FFFFFF; color:#000000\">15</span>\n",
      "</code></pre>"
     ]
    },
    {
     "cell_type": "markdown",
     "metadata": {},
     "source": [
      "Here the lambda function takes in two values x, y and returns their sum. Intuitively you can think that the reduce function works as:\n",
      "\n",
      "    Reduce function first sends 1,2    ; the lambda function returns 3\n",
      "    Reduce function then sends 3,3     ; the lambda function returns 6\n",
      "    Reduce function then sends 6,4     ; the lambda function returns 10\n",
      "    Reduce function finally sends 10,5 ; the lambda function returns 15\n",
      "    \n",
      "A condition on the lambda function we use in reduce is that it must be commutative that is a + b = b + a and associative that is (a + b) + c == a + (b + c). \n",
      "In the above case we used sum which is **commutative as well as associative**. Other functions that we could have used are **max, min, multiplication** etc.\n",
      "\n",
      "## Moving Again to Spark"
     ]
    },
    {
     "cell_type": "markdown",
     "metadata": {},
     "source": [
      "As we have now got the fundamentals of Python Functional Programming out of the way, lets again head to Spark. \n",
      "\n",
      "But first let us delve a little bit into how spark works. Spark actually consists of two things a driver and workers. Workers normally do all the work and the driver makes them do that work. \n",
      "\n",
      "An RDD is defined a parallelized data structure that gets distributed across the worker nodes. In our wordcount example, in the first line\n",
      "\n",
      "    lines = sc.textFile(\"data/cs100/lab1/shakespeare.txt\")\n",
      "\n",
      "We took a text file and distributed it across worker nodes so that they can work on it in parallel.\n",
      "We could also parallelize lists using the function \n",
      "\n",
      "    sc.parallelize\n",
      "\n",
      "For example:"
     ]
    },
    {
     "cell_type": "markdown",
     "metadata": {},
     "source": [
      "<link rel=\"stylesheet\" href=\"/theme/highlight/styles/default.css\">\n",
      "<script src=\"/theme/highlight/highlight.pack.js\"></script>\n",
      "<script>hljs.initHighlightingOnLoad();</script>\n",
      "<pre style=\"font-size:80%; padding:7px; margin:0em; background-color:#000000;\">\n",
      "<code class=\"python\" style=\"background-color:#000000; color:#FFFFFF\">data = [1,2,3,4,5,6,7,8,9,10]\n",
      "new_rdd = sc.parallelize(data,4)\n",
      "new_rdd\n",
      "\n",
      "    <span style=\"background-color: #FFFFFF; color:#000000\">ParallelCollectionRDD[15] at parallelize at PythonRDD.scala:392</span>\n",
      "</code></pre>"
     ]
    },
    {
     "cell_type": "markdown",
     "metadata": {},
     "source": [
      "In Spark we classify the operations into two Basic Types: Transformations and Actions.\n",
      "1. **Transformations** : Create new datasets from existing RDDs\n",
      "2. **Actions** : Mechanism to get results out of Spark\n",
      "\n",
      "## Understanding Transformations"
     ]
    },
    {
     "cell_type": "markdown",
     "metadata": {},
     "source": [
      "So lets say you have got your data in the form of an RDD. To requote your data is now accesible b all the worker machines. You want to do some transformations on the data now. You may want to filter, Apply some function etc. In Spark this is done using Transformation functions. Spark provides many transformation functions. You can see a comprehensive list [here](http://spark.apache.org/docs/latest/programming-guide.html#transformations).\n",
      "Some of the main ones that I use frequently are:\n",
      "\n",
      "##### 1. Map:\n",
      "Applies a given function to an RDD. Note that the syntax is a little bit different from python, but it necessarily does the same thing. Don't worry about collet yet. For now just think of it as a function that collects the data in squared_rdd back to a list."
     ]
    },
    {
     "cell_type": "markdown",
     "metadata": {},
     "source": [
      "<link rel=\"stylesheet\" href=\"/theme/highlight/styles/default.css\">\n",
      "<script src=\"/theme/highlight/highlight.pack.js\"></script>\n",
      "<script>hljs.initHighlightingOnLoad();</script>\n",
      "<pre style=\"font-size:80%; padding:7px; margin:0em; background-color:#000000;\">\n",
      "<code class=\"python\" style=\"background-color:#000000; color:#FFFFFF\">data = [1,2,3,4,5,6,7,8,9,10]\n",
      "rdd = sc.parallelize(data,4)\n",
      "squared_rdd = rdd.map(lambda x:x**2)\n",
      "squared_rdd.collect()\n",
      "\n",
      "    <span style=\"background-color: #FFFFFF; color:#000000\">[1, 4, 9, 16, 25, 36, 49, 64, 81, 100]</span>\n",
      "</code></pre>"
     ]
    },
    {
     "cell_type": "markdown",
     "metadata": {},
     "source": [
      "##### 2. Filter:\n",
      "Again no surprises here. Takes as input a condition and keeps only those elements that fulfill that condition."
     ]
    },
    {
     "cell_type": "markdown",
     "metadata": {},
     "source": [
      "<link rel=\"stylesheet\" href=\"/theme/highlight/styles/default.css\">\n",
      "<script src=\"/theme/highlight/highlight.pack.js\"></script>\n",
      "<script>hljs.initHighlightingOnLoad();</script>\n",
      "<pre style=\"font-size:80%; padding:7px; margin:0em; background-color:#000000;\">\n",
      "<code class=\"python\" style=\"background-color:#000000; color:#FFFFFF\">data = [1,2,3,4,5,6,7,8,9,10]\n",
      "rdd = sc.parallelize(data,4)\n",
      "filtered_rdd = rdd.filter(lambda x:x%2==0)\n",
      "filtered_rdd.collect()\n",
      "\n",
      "    <span style=\"background-color: #FFFFFF; color:#000000\">[2, 4, 6, 8, 10]</span>\n",
      "</code></pre>"
     ]
    },
    {
     "cell_type": "markdown",
     "metadata": {},
     "source": [
      "##### 3. Distinct:\n",
      "Returns only distinct elements in an RDD"
     ]
    },
    {
     "cell_type": "markdown",
     "metadata": {},
     "source": [
      "<link rel=\"stylesheet\" href=\"/theme/highlight/styles/default.css\">\n",
      "<script src=\"/theme/highlight/highlight.pack.js\"></script>\n",
      "<script>hljs.initHighlightingOnLoad();</script>\n",
      "<pre style=\"font-size:80%; padding:7px; margin:0em; background-color:#000000;\">\n",
      "<code class=\"python\" style=\"background-color:#000000; color:#FFFFFF\">data = [1,2,2,2,2,3,3,3,3,4,5,6,7,7,7,8,8,8,9,10]\n",
      "rdd = sc.parallelize(data,4)\n",
      "distinct_rdd = rdd.distinct()\n",
      "distinct_rdd.collect()\n",
      "\n",
      "    <span style=\"background-color: #FFFFFF; color:#000000\">[8, 4, 1, 5, 9, 2, 10, 6, 3, 7]</span>\n",
      "</code></pre>"
     ]
    },
    {
     "cell_type": "markdown",
     "metadata": {},
     "source": [
      "##### 4. Flatmap:\n",
      "Similar to map, but each input item can be mapped to 0 or more output items"
     ]
    },
    {
     "cell_type": "markdown",
     "metadata": {},
     "source": [
      "<link rel=\"stylesheet\" href=\"/theme/highlight/styles/default.css\">\n",
      "<script src=\"/theme/highlight/highlight.pack.js\"></script>\n",
      "<script>hljs.initHighlightingOnLoad();</script>\n",
      "<pre style=\"font-size:80%; padding:7px; margin:0em; background-color:#000000;\">\n",
      "<code class=\"python\" style=\"background-color:#000000; color:#FFFFFF\">data = [1,2,3,4]\n",
      "rdd = sc.parallelize(data,4)\n",
      "flat_rdd = rdd.flatMap(lambda x:[x,x**3])\n",
      "flat_rdd.collect()\n",
      "\n",
      "    <span style=\"background-color: #FFFFFF; color:#000000\">[1, 1, 2, 8, 3, 27, 4, 64]</span>\n",
      "</code></pre>"
     ]
    },
    {
     "cell_type": "markdown",
     "metadata": {},
     "source": [
      "##### 5. Reduce By Key:\n",
      "The analogue to the reduce in Hadoop Mapreduce. Now Spark cannot provide the value if it just worked with Lists. In Spark there is a concept of pair RDDs that makes it a lot more flexible. Lets assume we have a data in which we have product, its category and its selling price. We can still parallelize the data."
     ]
    },
    {
     "cell_type": "markdown",
     "metadata": {},
     "source": [
      "<link rel=\"stylesheet\" href=\"/theme/highlight/styles/default.css\">\n",
      "<script src=\"/theme/highlight/highlight.pack.js\"></script>\n",
      "<script>hljs.initHighlightingOnLoad();</script>\n",
      "<pre style=\"font-size:80%; padding:7px; margin:0em; background-color:#000000;\">\n",
      "<code class=\"python\" style=\"background-color:#000000; color:#FFFFFF\">data = [('Apple','Fruit',200),('Banana','Fruit',24),('Tomato','Fruit',56),('Potato','Vegetable',103),('Carrot','Vegetable',34)]\n",
      "rdd = sc.parallelize(data,4)\n",
      "</code></pre>"
     ]
    },
    {
     "cell_type": "markdown",
     "metadata": {},
     "source": [
      "Right now our RDD rdd holds tuples. Now we want to find out the total sum of revenue that we got from each category. To do that we have to transform our rdd to a pair rdd so that it only contatins key-value pairs/tuples."
     ]
    },
    {
     "cell_type": "markdown",
     "metadata": {},
     "source": [
      "<link rel=\"stylesheet\" href=\"/theme/highlight/styles/default.css\">\n",
      "<script src=\"/theme/highlight/highlight.pack.js\"></script>\n",
      "<script>hljs.initHighlightingOnLoad();</script>\n",
      "<pre style=\"font-size:80%; padding:7px; margin:0em; background-color:#000000;\">\n",
      "<code class=\"python\" style=\"background-color:#000000; color:#FFFFFF\">category_price_rdd = rdd.map(lambda x: (x[1],x[2]))\n",
      "category_price_rdd.collect()\n",
      "    \n",
      "     <span style=\"background-color: #FFFFFF; color:#000000\">[('Fruit', 200), ('Fruit', 24), ('Fruit', 56), ('Vegetable', 103), ('Vegetable', 34)]</span>\n",
      "</code></pre>"
     ]
    },
    {
     "cell_type": "markdown",
     "metadata": {},
     "source": [
      "Here we used the map function to get it in the format we wanted. When working with textfile, the rdd that gets formed has got a lot of strings. We use map to convert it into a format that we want. \n",
      "\n",
      "So now our category_price_rdd contains the product category and the price at which the prouct sold. Now we want to reduce on the key and sum the prices. We can do this by:"
     ]
    },
    {
     "cell_type": "markdown",
     "metadata": {},
     "source": [
      "<link rel=\"stylesheet\" href=\"/theme/highlight/styles/default.css\">\n",
      "<script src=\"/theme/highlight/highlight.pack.js\"></script>\n",
      "<script>hljs.initHighlightingOnLoad();</script>\n",
      "<pre style=\"font-size:80%; padding:7px; margin:0em; background-color:#000000;\">\n",
      "<code class=\"python\" style=\"background-color:#000000; color:#FFFFFF\">category_total_price_rdd = category_price_rdd.reduceByKey(lambda x,y:x+y)\n",
      "category_total_price_rdd.collect()\n",
      "    \n",
      "    <span style=\"background-color: #FFFFFF; color:#000000\">[('Vegetable', 137), ('Fruit', 280)]</span>\n",
      "</code></pre>"
     ]
    },
    {
     "cell_type": "markdown",
     "metadata": {},
     "source": [
      "##### 6. Group By Key:\n",
      "Similar to reduce by key but does not reduce just puts all the elements in an iterator. For example if we wanted to keep as key the category and as the value all the products we would use this function."
     ]
    },
    {
     "cell_type": "markdown",
     "metadata": {},
     "source": [
      "<link rel=\"stylesheet\" href=\"/theme/highlight/styles/default.css\">\n",
      "<script src=\"/theme/highlight/highlight.pack.js\"></script>\n",
      "<script>hljs.initHighlightingOnLoad();</script>\n",
      "<pre style=\"font-size:80%; padding:7px; margin:0em; background-color:#000000;\">\n",
      "<code class=\"python\" style=\"background-color:#000000; color:#FFFFFF\">data = [('Apple','Fruit',200),('Banana','Fruit',24),('Tomato','Fruit',56),('Potato','Vegetable',103),('Carrot','Vegetable',34)]\n",
      "rdd = sc.parallelize(data,4)\n",
      "category_product_rdd = rdd.map(lambda x: (x[1],x[0]))\n",
      "category_product_rdd.collect()\n",
      "    \n",
      "    <span style=\"background-color: #FFFFFF; color:#000000\">[('Fruit','Apple'),('Fruit','Banana'),('Fruit','Tomato'),('Vegetable','Potato'),('Vegetable','Carrot')]</span>\n",
      "</code></pre>"
     ]
    },
    {
     "cell_type": "markdown",
     "metadata": {},
     "source": [
      "<link rel=\"stylesheet\" href=\"/theme/highlight/styles/default.css\">\n",
      "<script src=\"/theme/highlight/highlight.pack.js\"></script>\n",
      "<script>hljs.initHighlightingOnLoad();</script>\n",
      "<pre style=\"font-size:80%; padding:7px; margin:0em; background-color:#000000;\">\n",
      "<code class=\"python\" style=\"background-color:#000000; color:#FFFFFF\">grouped_products_by_category_rdd = category_product_rdd.groupByKey()\n",
      "findata = grouped_products_by_category_rdd.collect()\n",
      "for data in findata:\n",
      "    print data[0],list(data[1])\n",
      "\n",
      "    <span style=\"background-color: #FFFFFF; color:#000000\">Vegetable ['Potato', 'Carrot']</span>\n",
      "    <span style=\"background-color: #FFFFFF; color:#000000\">Fruit ['Apple', 'Banana', 'Tomato']</span>\n",
      "</code></pre>\n"
     ]
    },
    {
     "cell_type": "markdown",
     "metadata": {},
     "source": [
      "Here the grouped by function worked and it returned the category and the list of products in that category.\n",
      "\n",
      "## Understanding Actions"
     ]
    },
    {
     "cell_type": "markdown",
     "metadata": {},
     "source": [
      "Now you have filtered your data, mapped some functions on it. Done your computation. Now you want to get the data on your local machine or save it to a file. You will have to use actions for that. A comprehensive list of actions is providede [HERE](http://spark.apache.org/docs/latest/programming-guide.html#actions)\n",
      "Some of the most common actions that I tend to use are:"
     ]
    },
    {
     "cell_type": "markdown",
     "metadata": {},
     "source": [
      "##### 1. Collect:\n",
      "We have already used this actio many times. It takes the whole rdd and brings it back to the driver program."
     ]
    },
    {
     "cell_type": "markdown",
     "metadata": {},
     "source": [
      "##### 2. Reduce:\n",
      "Aggregate the elements of the dataset using a function func (which takes two arguments and returns one). The function should be commutative and associative so that it can be computed correctly in parallel. "
     ]
    },
    {
     "cell_type": "markdown",
     "metadata": {},
     "source": [
      "<link rel=\"stylesheet\" href=\"/theme/highlight/styles/default.css\">\n",
      "<script src=\"/theme/highlight/highlight.pack.js\"></script>\n",
      "<script>hljs.initHighlightingOnLoad();</script>\n",
      "<pre style=\"font-size:80%; padding:7px; margin:0em; background-color:#000000;\">\n",
      "<code class=\"python\" style=\"background-color:#000000; color:#FFFFFF\">rdd = sc.parallelize([1,2,3,4,5])\n",
      "rdd.reduce(lambda x,y : x+y)\n",
      "\n",
      "    <span style=\"background-color: #FFFFFF; color:#000000\">15</span>\n",
      "</code></pre>"
     ]
    },
    {
     "cell_type": "markdown",
     "metadata": {},
     "source": [
      "##### 3.take:\n",
      "Return an list with the first n elements of the dataset. "
     ]
    },
    {
     "cell_type": "markdown",
     "metadata": {},
     "source": [
      "<link rel=\"stylesheet\" href=\"/theme/highlight/styles/default.css\">\n",
      "<script src=\"/theme/highlight/highlight.pack.js\"></script>\n",
      "<script>hljs.initHighlightingOnLoad();</script>\n",
      "<pre style=\"font-size:80%; padding:7px; margin:0em; background-color:#000000;\">\n",
      "<code class=\"python\" style=\"background-color:#000000; color:#FFFFFF\">rdd = sc.parallelize([1,2,3,4,5])\n",
      "rdd.take(3)\n",
      "\n",
      "    <span style=\"background-color: #FFFFFF; color:#000000\">[1, 2, 3]</span>\n",
      "</code></pre>"
     ]
    },
    {
     "cell_type": "markdown",
     "metadata": {},
     "source": [
      "##### 4. takeOrdered:\n",
      "Return the first n elements of the RDD using either their natural order or a custom comparator. "
     ]
    },
    {
     "cell_type": "markdown",
     "metadata": {},
     "source": [
      "<link rel=\"stylesheet\" href=\"/theme/highlight/styles/default.css\">\n",
      "<script src=\"/theme/highlight/highlight.pack.js\"></script>\n",
      "<script>hljs.initHighlightingOnLoad();</script>\n",
      "<pre style=\"font-size:80%; padding:7px; margin:0em; background-color:#000000;\">\n",
      "<code class=\"python\" style=\"background-color:#000000; color:#FFFFFF\">rdd = sc.parallelize([5,3,12,23])\n",
      "rdd.takeOrdered(3,lambda s:-1*s)      # descending order\n",
      "\n",
      "    <span style=\"background-color: #FFFFFF; color:#000000\">[23, 12, 5]</span>\n",
      "</code></pre>"
     ]
    },
    {
     "cell_type": "markdown",
     "metadata": {},
     "source": [
      "<link rel=\"stylesheet\" href=\"/theme/highlight/styles/default.css\">\n",
      "<script src=\"/theme/highlight/highlight.pack.js\"></script>\n",
      "<script>hljs.initHighlightingOnLoad();</script>\n",
      "<pre style=\"font-size:80%; padding:7px; margin:0em; background-color:#000000;\">\n",
      "<code class=\"python\" style=\"background-color:#000000; color:#FFFFFF\">rdd = sc.parallelize([(5,23),(3,34),(12,344),(23,29)])\n",
      "rdd.takeOrdered(3,lambda s:-1*s[1])      # descending order\n",
      "\n",
      "    <span style=\"background-color: #FFFFFF; color:#000000\">[(12, 344), (3, 34), (23, 29)]</span>\n",
      "</code></pre>"
     ]
    },
    {
     "cell_type": "markdown",
     "metadata": {},
     "source": [
      "So now lets take a look at the Wordcount Again\n",
      "\n",
      "## Understanding The WordCount Example\n",
      "\n",
      "Now we sort of understand the transformations and the actions provided to us by Spark. It should not be difficult to understand the work count program now. Lets go through the program niw line by line.\n",
      "\n",
      "The first lines creates a RDD and distributeds to the workers.\n",
      "\n",
      "    lines = sc.textFile(\"data/cs100/lab1/shakespeare.txt\")  \n",
      "This RDD lines contains a list of strings that are actually the line in file. This RDD is of the form:\n",
      "\n",
      "***['word1 word2 word3','word4 word3 word2']***\n",
      "\n",
      "\n",
      "This next line is actually the workhorse function in the whole script. \n",
      "\n",
      "    counts = (lines.flatMap(lambda x: x.split(' '))          \n",
      "                      .map(lambda x: (x, 1))                 \n",
      "                      .reduceByKey(lambda x,y : x + y))      \n",
      "\n",
      "It contains a series of transformations that we do to the lines RDD. First of all we do a flatmap transformation. The flatmap transformation takes as input the lines and gives words as output. So after the flatmap transformation the RDD is of the form:   \n",
      "\n",
      "***['word1','word2','word3','word4','word3','word2']***. \n",
      "\n",
      "Next we do a map transformation on the flatmap output which converts the rdd to :\n",
      "\n",
      "***[('word1',1),('word2',1),('word3',1),('word4',1),('word3',1),('word2',1)]***. \n",
      "\n",
      "Finally we do a reduceByKey transformation which counts the number of time each word appeared. After which the rdd approaches the final desirable form.\n",
      "\n",
      "***[('word1',1),('word2',2),('word3',2),('word4',1)]***. \n",
      "\n",
      "This next line is an action that takes the first 10 elements of the resulting RDD locally.\n",
      "\n",
      "    output = counts.take(10)                                 \n",
      "\n",
      "This line just prints the output\n",
      "\n",
      "    for (word, count) in output:                 \n",
      "        print(\"%s: %i\" % (word, count))\n",
      "\n",
      "## Getting Serious"
     ]
    },
    {
     "cell_type": "markdown",
     "metadata": {},
     "source": [
      "So till now we have talked about the Wordcount example and the basic transformations and actions that you could use in Spark. But we don't do wordcount in real life. We have to work on bigger problems which are much more complex. Worry not! whatever we have learned till now will let us do that and more.\n",
      "\n",
      "Lets work with a concrete example:\n",
      "I will work on an example in which Greg Rada Worked on [Movielens](http://grouplens.org/datasets/movielens/) Data with [Pandas](http://www.gregreda.com/2013/10/26/using-pandas-on-the-movielens-dataset/) (BTW a great resource to learn Pandas). This example takes care of every sort of transformation that you may like to do with this data.\n",
      "\n",
      "So lets first talk about the dataset. The movielens dataset contains a lot of files but we are going to be working with 3 files only:\n",
      "\n",
      "1) Users: This file name is kept as \"u.user\", The columns in this file are:\n",
      "    \n",
      "    ['user_id', 'age', 'sex', 'occupation', 'zip_code']\n",
      "    \n",
      "2) Ratings: This file name is kept as \"u.data\", The columns in this file are:\n",
      "    \n",
      "    ['user_id', 'movie_id', 'rating', 'unix_timestamp']\n",
      "    \n",
      "3) Movies: This file name is kept as \"u.item\", The columns in this file are:\n",
      "    \n",
      "    ['movie_id', 'title', 'release_date', 'video_release_date', 'imdb_url', and 18 more columns.....]\n",
      "\n",
      "##What are the 25 most rated movies?\n",
      "First of all lets load the data in different rdds. And see what the data contains."
     ]
    },
    {
     "cell_type": "markdown",
     "metadata": {},
     "source": [
      "<link rel=\"stylesheet\" href=\"/theme/highlight/styles/default.css\">\n",
      "<script src=\"/theme/highlight/highlight.pack.js\"></script>\n",
      "<script>hljs.initHighlightingOnLoad();</script>\n",
      "<pre style=\"font-size:80%; padding:7px; margin:0em; background-color:#000000;\">\n",
      "<code class=\"python\" style=\"background-color:#000000; color:#FFFFFF\">userRDD = sc.textFile(\"/vagrant/ml-100k/u.user\") \n",
      "ratingRDD = sc.textFile(\"/vagrant/ml-100k/u.data\") \n",
      "movieRDD = sc.textFile(\"/vagrant/ml-100k/u.item\") \n",
      "print \"userRDD:\",userRDD.take(1)\n",
      "print \"ratingRDD:\",ratingRDD.take(1)\n",
      "print \"movieRDD:\",movieRDD.take(1)\n",
      "</code></pre>"
     ]
    },
    {
     "cell_type": "markdown",
     "metadata": {},
     "source": [
      "<div style=\"margin-top: 9px; margin-bottom: 10px;\">\n",
      "<center><img src=\"/images/data_def.png\"></center>\n",
      "</div>"
     ]
    },
    {
     "cell_type": "markdown",
     "metadata": {},
     "source": [
      "Seeing the data we note that to answer this question we will need to use the ratingRdd. But the ratingRDD does not have movie name. So we would have to merge movieRDD and ratingRDD. So lets see how we would do that in Spark.\n",
      "Lets first do it step by step.Read the comments."
     ]
    },
    {
     "cell_type": "markdown",
     "metadata": {},
     "source": [
      "<link rel=\"stylesheet\" href=\"/theme/highlight/styles/default.css\">\n",
      "<script src=\"/theme/highlight/highlight.pack.js\"></script>\n",
      "<script>hljs.initHighlightingOnLoad();</script>\n",
      "<pre style=\"font-size:80%; padding:7px; margin:0em; background-color:#000000;\">\n",
      "<code class=\"python\" style=\"background-color:#000000; color:#FFFFFF\"># Create a RDD from RatingRDD that only contains the two columns of interest i.e. movie_id,rating.\n",
      "RDD_movid_rating = ratingRDD.map(lambda x : (x.split(\"\\t\")[1],x.split(\"\\t\")[2]))\n",
      "print \"RDD_movid_rating:\",RDD_movid_rating.take(4)\n",
      "\n",
      "# Create a RDD from MovieRDD that only contains the two columns of interest i.e. movie_id,title.\n",
      "RDD_movid_title = movieRDD.map(lambda x : (x.split(\"|\")[0],x.split(\"|\")[1]))\n",
      "print \"RDD_movid_title:\",RDD_movid_title.take(2)\n",
      "\n",
      "# merge these two pair RDDs based on movie_id. For this we will use the transformation leftOuterJoin()\n",
      "rdd_movid_title_rating = RDD_movid_rating.leftOuterJoin(RDD_movid_title)\n",
      "print \"rdd_movid_title_rating:\",rdd_movid_title_rating.take(1)\n",
      "\n",
      "# use the RDD in previous step to create (movie,1) tuple pair RDD\n",
      "rdd_title_rating = rdd_movid_title_rating.map(lambda x: (x[1][1],1 ))\n",
      "print \"rdd_title_rating:\",rdd_title_rating.take(2)\n",
      "\n",
      "# Use the reduceByKey transformation to reduce on the basis of movie_title\n",
      "rdd_title_ratingcnt = rdd_title_rating.reduceByKey(lambda x,y: x+y)\n",
      "print \"rdd_title_ratingcnt:\",rdd_title_ratingcnt.take(2)\n",
      "\n",
      "# Get the final answer by using takeOrdered Transformation\n",
      "print \"#####################################\"\n",
      "print \"25 most rated movies:\",rdd_title_ratingcnt.takeOrdered(25,lambda x:-x[1])\n",
      "print \"#####################################\"\n",
      "</code></pre>"
     ]
    },
    {
     "cell_type": "markdown",
     "metadata": {},
     "source": [
      "<div style=\"margin-top: 9px; margin-bottom: 10px;\">\n",
      "<center><img src=\"/images/result_rating_cnt_25.png\"></center>\n",
      "</div>"
     ]
    },
    {
     "cell_type": "markdown",
     "metadata": {},
     "source": [
      "We could have done all this in a single command using the below command but the code is a little messy now. I did this to show that you can do things sequentially with Spark and you could bypass the process of variable creation."
     ]
    },
    {
     "cell_type": "markdown",
     "metadata": {},
     "source": [
      "<link rel=\"stylesheet\" href=\"/theme/highlight/styles/default.css\">\n",
      "<script src=\"/theme/highlight/highlight.pack.js\"></script>\n",
      "<script>hljs.initHighlightingOnLoad();</script>\n",
      "<pre style=\"font-size:80%; padding:7px; margin:0em; background-color:#000000;\">\n",
      "<code class=\"python\" style=\"background-color:#000000; color:#FFFFFF\">print (((ratingRDD.map(lambda x : (x.split(\"\\t\")[1],x.split(\"\\t\")[2]))).\n",
      "     leftOuterJoin(movieRDD.map(lambda x : (x.split(\"|\")[0],x.split(\"|\")[1])))).\n",
      "     map(lambda x: (x[1][1],1)).\n",
      "     reduceByKey(lambda x,y: x+y).\n",
      "     takeOrdered(25,lambda x:-x[1]))\n",
      "</code></pre>"
     ]
    },
    {
     "cell_type": "markdown",
     "metadata": {},
     "source": [
      "<div style=\"margin-top: 9px; margin-bottom: 10px;\">\n",
      "<center><img src=\"/images/result_rating_cnt_25_2.png\"></center>\n",
      "</div>\n",
      "##Which movies are most highly rated?"
     ]
    },
    {
     "cell_type": "markdown",
     "metadata": {},
     "source": [
      "\n",
      "Now we want to find the most highly rated 25 movvies using the same dataset. We actually want only those movies which have been rated atleast 100 times. \n",
      "Lets do this using Spark:"
     ]
    },
    {
     "cell_type": "markdown",
     "metadata": {},
     "source": [
      "<link rel=\"stylesheet\" href=\"/theme/highlight/styles/default.css\">\n",
      "<script src=\"/theme/highlight/highlight.pack.js\"></script>\n",
      "<script>hljs.initHighlightingOnLoad();</script>\n",
      "<pre style=\"font-size:80%; padding:7px; margin:0em; background-color:#000000;\">\n",
      "<code class=\"python\" style=\"background-color:#000000; color:#FFFFFF\"># We already have the RDD rdd_movid_title_rating: [(u'429', (u'5', u'Day the Earth Stood Still, The (1951)'))]\n",
      "# We create an RDD that contains sum of all the ratings for a particular movie\n",
      "\n",
      "rdd_title_ratingsum = (rdd_movid_title_rating.\n",
      "                        map(lambda x: (x[1][1],int(x[1][0]))).\n",
      "                        reduceByKey(lambda x,y:x+y))\n",
      "                        \n",
      "print \"rdd_title_ratingsum:\",rdd_title_ratingsum.take(2)\n",
      "\n",
      "# Merge this data with the RDD rdd_title_ratingcnt we created in the last step \n",
      "# And use Map function to divide ratingsum by rating count.\n",
      "\n",
      "rdd_title_ratingmean_rating_count = (rdd_title_ratingsum.\n",
      "                                    leftOuterJoin(rdd_title_ratingcnt).\n",
      "                                    map(lambda x:(x[0],(float(x[1][0])/x[1][1],x[1][1]))))\n",
      "                                    \n",
      "print \"rdd_title_ratingmean_rating_count:\",rdd_title_ratingmean_rating_count.take(1)\n",
      "\n",
      "# We could use take ordered here only but we want to only get the movies which have count\n",
      "# of ratings more than or equal to 100 so lets filter the data RDD.\n",
      "rdd_title_rating_rating_count_gt_100 = (rdd_title_ratingmean_rating_count.\n",
      "                                        filter(lambda x: x[1][1]>=100))\n",
      "                                        \n",
      "print \"rdd_title_rating_rating_count_gt_100:\",rdd_title_rating_rating_count_gt_100.take(1)\n",
      "\n",
      "# Get the final answer by using takeOrdered Transformation\n",
      "print \"#####################################\"\n",
      "print \"25 highly rated movies:\",\n",
      "print rdd_title_rating_rating_count_gt_100.takeOrdered(25,lambda x:-x[1][0])\n",
      "print \"#####################################\"\n",
      "</code></pre>"
     ]
    },
    {
     "cell_type": "markdown",
     "metadata": {},
     "source": [
      "<div style=\"margin-top: 9px; margin-bottom: 10px;\">\n",
      "<center><img src=\"/images/result_top25_rating.png\"></center>\n",
      "</div>\n",
      "\n",
      "## Conclusion"
     ]
    },
    {
     "cell_type": "markdown",
     "metadata": {},
     "source": [
      "So Spark has Already provided an interface where we could apply transformations sequentially much easily than Hadoop.\n",
      "And it is fast. While in hadoop things are a pain to do sequentially, the infrastructure that Spark provides seem to fit naturally into the analytics use case. \n",
      "\n",
      "Hopefully I've covered the basics well enough to pique your interest and help you get started with Spark. If I've missed something critical, feel free to let me know on Twitter or in the comments - I'd love constructive feedback.\n",
      "\n",
      "You can find the Jupyter notebook [HERE](http://nbviewer.ipython.org/github/MLWhiz/Spark_blog/blob/master/Spark_Part1.ipynb)"
     ]
    }
   ],
   "metadata": {}
  }
 ]
}