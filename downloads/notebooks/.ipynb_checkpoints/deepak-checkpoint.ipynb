{
 "metadata": {
  "name": "",
  "signature": "sha256:a0e176621ca9e3996d09963303a22b9d74f50ef1ad59da5cd1360bf60fcd098d"
 },
 "nbformat": 3,
 "nbformat_minor": 0,
 "worksheets": []
}