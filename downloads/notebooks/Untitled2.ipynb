{
 "metadata": {
  "name": "",
  "signature": "sha256:ba6c33ec1ffff4bdfa4db90154f54dcd557f33031b9164e517931edca474dc6d"
 },
 "nbformat": 3,
 "nbformat_minor": 0,
 "worksheets": [
  {
   "cells": [
    {
     "cell_type": "code",
     "collapsed": false,
     "input": [
      "W = [3,3,4,2,23,333,234,12,123,237]\n",
      "G = [22,3,4,222,233,432,234,13,235,778]\n",
      "maximum_weight =750\n",
      "current_weight = 0\n",
      "current_gold = 0\n",
      "\n",
      "# Maximize Gold value \n",
      "def knapsack(W,G,maximum_weight,current_weight,current_gold):\n",
      "    # Check if we have reached the base case\n",
      "    if len(W)==0 or len(G)==0 or current_weight>=maximum_weight:\n",
      "        return current_gold\n",
      "    base_case_reached = True\n",
      "    for i in range(len(W)):\n",
      "        if current_weight + W[i]<=maximum_weight:\n",
      "            base_case_reached = False            \n",
      "    if base_case_reached:\n",
      "        return current_gold\n",
      "    \n",
      "    max_gold = 0\n",
      "    for i in range(len(W)):\n",
      "        cweight =current_weight+ W[i]\n",
      "        if cweight>maximum_weight:\n",
      "            continue\n",
      "        Wcopy= list(W)\n",
      "        Gcopy = list(G)\n",
      "        # Either the ith item is part of the solution or not\n",
      "        Wcopy.pop(i)\n",
      "        #print W,Wcopy\n",
      "        Gcopy.pop(i)\n",
      "        #print G,Gcopy\n",
      "\n",
      "        cgold =current_gold+G[i]\n",
      "        Gold =knapsack(Wcopy,Gcopy,maximum_weight,cweight,cgold)\n",
      "        if Gold>max_gold:\n",
      "            max_gold = Gold\n",
      "    return max_gold"
     ],
     "language": "python",
     "metadata": {},
     "outputs": [],
     "prompt_number": 17
    },
    {
     "cell_type": "code",
     "collapsed": false,
     "input": [
      "sum(G)"
     ],
     "language": "python",
     "metadata": {},
     "outputs": [
      {
       "metadata": {},
       "output_type": "pyout",
       "prompt_number": 18,
       "text": [
        "2176"
       ]
      }
     ],
     "prompt_number": 18
    },
    {
     "cell_type": "code",
     "collapsed": false,
     "input": [
      "knapsack(W,G,maximum_weight,current_weight,current_gold)\n"
     ],
     "language": "python",
     "metadata": {},
     "outputs": [
      {
       "metadata": {},
       "output_type": "pyout",
       "prompt_number": 19,
       "text": [
        "1942"
       ]
      }
     ],
     "prompt_number": 19
    },
    {
     "cell_type": "code",
     "collapsed": false,
     "input": [],
     "language": "python",
     "metadata": {},
     "outputs": []
    }
   ],
   "metadata": {}
  }
 ]
}